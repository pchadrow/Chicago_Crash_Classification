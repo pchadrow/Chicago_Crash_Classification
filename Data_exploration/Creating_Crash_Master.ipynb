{
 "cells": [
  {
   "cell_type": "code",
   "execution_count": 1,
   "metadata": {
    "ExecuteTime": {
     "end_time": "2020-07-09T17:31:29.437920Z",
     "start_time": "2020-07-09T17:31:27.937521Z"
    }
   },
   "outputs": [
    {
     "name": "stderr",
     "output_type": "stream",
     "text": [
      "C:\\Users\\damni\\anaconda3\\envs\\learn-env\\lib\\site-packages\\statsmodels\\tools\\_testing.py:19: FutureWarning: pandas.util.testing is deprecated. Use the functions in the public API at pandas.testing instead.\n",
      "  import pandas.util.testing as tm\n"
     ]
    }
   ],
   "source": [
    "import pandas as pd\n",
    "import numpy as np\n",
    "import datetime\n",
    "\n",
    "from pandas_profiling import ProfileReport"
   ]
  },
  {
   "cell_type": "markdown",
   "metadata": {},
   "source": [
    "## Fine-tuning what we have before worrying about what we don't\n"
   ]
  },
  {
   "cell_type": "code",
   "execution_count": 2,
   "metadata": {
    "ExecuteTime": {
     "end_time": "2020-07-09T17:31:32.527008Z",
     "start_time": "2020-07-09T17:31:29.439408Z"
    }
   },
   "outputs": [
    {
     "data": {
      "text/html": [
       "<div>\n",
       "<style scoped>\n",
       "    .dataframe tbody tr th:only-of-type {\n",
       "        vertical-align: middle;\n",
       "    }\n",
       "\n",
       "    .dataframe tbody tr th {\n",
       "        vertical-align: top;\n",
       "    }\n",
       "\n",
       "    .dataframe thead th {\n",
       "        text-align: right;\n",
       "    }\n",
       "</style>\n",
       "<table border=\"1\" class=\"dataframe\">\n",
       "  <thead>\n",
       "    <tr style=\"text-align: right;\">\n",
       "      <th></th>\n",
       "      <th>Unnamed: 0</th>\n",
       "      <th>CRASH_RECORD_ID</th>\n",
       "      <th>RD_NO</th>\n",
       "      <th>CRASH_DATE</th>\n",
       "      <th>POSTED_SPEED_LIMIT</th>\n",
       "      <th>TRAFFIC_CONTROL_DEVICE</th>\n",
       "      <th>DEVICE_CONDITION</th>\n",
       "      <th>WEATHER_CONDITION</th>\n",
       "      <th>LIGHTING_CONDITION</th>\n",
       "      <th>FIRST_CRASH_TYPE</th>\n",
       "      <th>...</th>\n",
       "      <th>INJURIES_NON_INCAPACITATING</th>\n",
       "      <th>INJURIES_REPORTED_NOT_EVIDENT</th>\n",
       "      <th>INJURIES_NO_INDICATION</th>\n",
       "      <th>INJURIES_UNKNOWN</th>\n",
       "      <th>CRASH_HOUR</th>\n",
       "      <th>CRASH_DAY_OF_WEEK</th>\n",
       "      <th>CRASH_MONTH</th>\n",
       "      <th>LATITUDE</th>\n",
       "      <th>LONGITUDE</th>\n",
       "      <th>LOCATION</th>\n",
       "    </tr>\n",
       "  </thead>\n",
       "  <tbody>\n",
       "    <tr>\n",
       "      <th>0</th>\n",
       "      <td>0</td>\n",
       "      <td>073682ef84ff827659552d4254ad1b98bfec24935cc9cc...</td>\n",
       "      <td>JB460108</td>\n",
       "      <td>10/02/2018 06:30:00 PM</td>\n",
       "      <td>10</td>\n",
       "      <td>NO CONTROLS</td>\n",
       "      <td>NO CONTROLS</td>\n",
       "      <td>CLEAR</td>\n",
       "      <td>DARKNESS</td>\n",
       "      <td>PARKED MOTOR VEHICLE</td>\n",
       "      <td>...</td>\n",
       "      <td>0.0</td>\n",
       "      <td>0.0</td>\n",
       "      <td>1.0</td>\n",
       "      <td>0.0</td>\n",
       "      <td>18</td>\n",
       "      <td>3</td>\n",
       "      <td>10</td>\n",
       "      <td>NaN</td>\n",
       "      <td>NaN</td>\n",
       "      <td>NaN</td>\n",
       "    </tr>\n",
       "    <tr>\n",
       "      <th>1</th>\n",
       "      <td>1</td>\n",
       "      <td>1560fb8a1e32b528fef8bfd677d2b3fc5ab37278b157fa...</td>\n",
       "      <td>JC325941</td>\n",
       "      <td>06/27/2019 04:00:00 PM</td>\n",
       "      <td>45</td>\n",
       "      <td>NO CONTROLS</td>\n",
       "      <td>NO CONTROLS</td>\n",
       "      <td>CLEAR</td>\n",
       "      <td>DAYLIGHT</td>\n",
       "      <td>SIDESWIPE SAME DIRECTION</td>\n",
       "      <td>...</td>\n",
       "      <td>0.0</td>\n",
       "      <td>0.0</td>\n",
       "      <td>2.0</td>\n",
       "      <td>0.0</td>\n",
       "      <td>16</td>\n",
       "      <td>5</td>\n",
       "      <td>6</td>\n",
       "      <td>NaN</td>\n",
       "      <td>NaN</td>\n",
       "      <td>NaN</td>\n",
       "    </tr>\n",
       "    <tr>\n",
       "      <th>2</th>\n",
       "      <td>2</td>\n",
       "      <td>009e9e67203442370272e1a13d6ee51a4155dac65e583d...</td>\n",
       "      <td>JA329216</td>\n",
       "      <td>06/30/2017 04:00:00 PM</td>\n",
       "      <td>35</td>\n",
       "      <td>STOP SIGN/FLASHER</td>\n",
       "      <td>FUNCTIONING PROPERLY</td>\n",
       "      <td>CLEAR</td>\n",
       "      <td>DAYLIGHT</td>\n",
       "      <td>TURNING</td>\n",
       "      <td>...</td>\n",
       "      <td>0.0</td>\n",
       "      <td>0.0</td>\n",
       "      <td>3.0</td>\n",
       "      <td>0.0</td>\n",
       "      <td>16</td>\n",
       "      <td>6</td>\n",
       "      <td>6</td>\n",
       "      <td>41.741804</td>\n",
       "      <td>-87.740954</td>\n",
       "      <td>POINT (-87.740953581987 41.741803598989)</td>\n",
       "    </tr>\n",
       "    <tr>\n",
       "      <th>3</th>\n",
       "      <td>3</td>\n",
       "      <td>00e47f189660cd8ba1e85fc63061bf1d8465184393f134...</td>\n",
       "      <td>JC194776</td>\n",
       "      <td>03/21/2019 10:50:00 PM</td>\n",
       "      <td>30</td>\n",
       "      <td>TRAFFIC SIGNAL</td>\n",
       "      <td>FUNCTIONING PROPERLY</td>\n",
       "      <td>CLEAR</td>\n",
       "      <td>DARKNESS, LIGHTED ROAD</td>\n",
       "      <td>TURNING</td>\n",
       "      <td>...</td>\n",
       "      <td>0.0</td>\n",
       "      <td>0.0</td>\n",
       "      <td>2.0</td>\n",
       "      <td>0.0</td>\n",
       "      <td>22</td>\n",
       "      <td>5</td>\n",
       "      <td>3</td>\n",
       "      <td>41.741804</td>\n",
       "      <td>-87.740954</td>\n",
       "      <td>POINT (-87.740953581987 41.741803598989)</td>\n",
       "    </tr>\n",
       "    <tr>\n",
       "      <th>4</th>\n",
       "      <td>4</td>\n",
       "      <td>0126747fc9ffc0edc9a38abb83d80034f897db0f739eef...</td>\n",
       "      <td>JB200478</td>\n",
       "      <td>03/26/2018 02:23:00 PM</td>\n",
       "      <td>35</td>\n",
       "      <td>NO CONTROLS</td>\n",
       "      <td>NO CONTROLS</td>\n",
       "      <td>CLEAR</td>\n",
       "      <td>DAYLIGHT</td>\n",
       "      <td>PARKED MOTOR VEHICLE</td>\n",
       "      <td>...</td>\n",
       "      <td>0.0</td>\n",
       "      <td>0.0</td>\n",
       "      <td>2.0</td>\n",
       "      <td>0.0</td>\n",
       "      <td>14</td>\n",
       "      <td>2</td>\n",
       "      <td>3</td>\n",
       "      <td>41.953647</td>\n",
       "      <td>-87.732082</td>\n",
       "      <td>POINT (-87.732081736006 41.953646899951)</td>\n",
       "    </tr>\n",
       "  </tbody>\n",
       "</table>\n",
       "<p>5 rows × 42 columns</p>\n",
       "</div>"
      ],
      "text/plain": [
       "   Unnamed: 0                                    CRASH_RECORD_ID     RD_NO  \\\n",
       "0           0  073682ef84ff827659552d4254ad1b98bfec24935cc9cc...  JB460108   \n",
       "1           1  1560fb8a1e32b528fef8bfd677d2b3fc5ab37278b157fa...  JC325941   \n",
       "2           2  009e9e67203442370272e1a13d6ee51a4155dac65e583d...  JA329216   \n",
       "3           3  00e47f189660cd8ba1e85fc63061bf1d8465184393f134...  JC194776   \n",
       "4           4  0126747fc9ffc0edc9a38abb83d80034f897db0f739eef...  JB200478   \n",
       "\n",
       "               CRASH_DATE  POSTED_SPEED_LIMIT TRAFFIC_CONTROL_DEVICE  \\\n",
       "0  10/02/2018 06:30:00 PM                  10            NO CONTROLS   \n",
       "1  06/27/2019 04:00:00 PM                  45            NO CONTROLS   \n",
       "2  06/30/2017 04:00:00 PM                  35      STOP SIGN/FLASHER   \n",
       "3  03/21/2019 10:50:00 PM                  30         TRAFFIC SIGNAL   \n",
       "4  03/26/2018 02:23:00 PM                  35            NO CONTROLS   \n",
       "\n",
       "       DEVICE_CONDITION WEATHER_CONDITION      LIGHTING_CONDITION  \\\n",
       "0           NO CONTROLS             CLEAR                DARKNESS   \n",
       "1           NO CONTROLS             CLEAR                DAYLIGHT   \n",
       "2  FUNCTIONING PROPERLY             CLEAR                DAYLIGHT   \n",
       "3  FUNCTIONING PROPERLY             CLEAR  DARKNESS, LIGHTED ROAD   \n",
       "4           NO CONTROLS             CLEAR                DAYLIGHT   \n",
       "\n",
       "           FIRST_CRASH_TYPE  ... INJURIES_NON_INCAPACITATING  \\\n",
       "0      PARKED MOTOR VEHICLE  ...                         0.0   \n",
       "1  SIDESWIPE SAME DIRECTION  ...                         0.0   \n",
       "2                   TURNING  ...                         0.0   \n",
       "3                   TURNING  ...                         0.0   \n",
       "4      PARKED MOTOR VEHICLE  ...                         0.0   \n",
       "\n",
       "   INJURIES_REPORTED_NOT_EVIDENT INJURIES_NO_INDICATION INJURIES_UNKNOWN  \\\n",
       "0                            0.0                    1.0              0.0   \n",
       "1                            0.0                    2.0              0.0   \n",
       "2                            0.0                    3.0              0.0   \n",
       "3                            0.0                    2.0              0.0   \n",
       "4                            0.0                    2.0              0.0   \n",
       "\n",
       "  CRASH_HOUR CRASH_DAY_OF_WEEK CRASH_MONTH   LATITUDE  LONGITUDE  \\\n",
       "0         18                 3          10        NaN        NaN   \n",
       "1         16                 5           6        NaN        NaN   \n",
       "2         16                 6           6  41.741804 -87.740954   \n",
       "3         22                 5           3  41.741804 -87.740954   \n",
       "4         14                 2           3  41.953647 -87.732082   \n",
       "\n",
       "                                   LOCATION  \n",
       "0                                       NaN  \n",
       "1                                       NaN  \n",
       "2  POINT (-87.740953581987 41.741803598989)  \n",
       "3  POINT (-87.740953581987 41.741803598989)  \n",
       "4  POINT (-87.732081736006 41.953646899951)  \n",
       "\n",
       "[5 rows x 42 columns]"
      ]
     },
     "execution_count": 2,
     "metadata": {},
     "output_type": "execute_result"
    }
   ],
   "source": [
    "df = pd.read_csv('Crashes.csv')\n",
    "df.head()"
   ]
  },
  {
   "cell_type": "markdown",
   "metadata": {},
   "source": [
    "Through previous exploration we know that the following columns need some work before proceeding ot the modeling step.\n",
    "* Posted_speed_limit  -  likely contains placeholder data\n",
    "* Intersectiong_related  -  may be safe to assume that missing values are NOT intersection related\n",
    "* Hit_and_run  -  also may be safe to assume that missing values were not hit and run related\n",
    "* Street_No and Beat_of_occurence should most likely be categorical \n",
    "* Injuries columns have the same number of missing data, may drop these rows\n",
    "* Lane_cnt can be transformed into street_size to see if this makes it easier to fill missing columns through a classifier\n",
    "* Primary_contributory_cause still need binned to cut down on number of classes to predict in final model"
   ]
  },
  {
   "cell_type": "markdown",
   "metadata": {},
   "source": [
    "### Let's first take a peek at injuries rows with missing data before dropping them"
   ]
  },
  {
   "cell_type": "code",
   "execution_count": 3,
   "metadata": {
    "ExecuteTime": {
     "end_time": "2020-07-09T17:31:32.554288Z",
     "start_time": "2020-07-09T17:31:32.528496Z"
    }
   },
   "outputs": [
    {
     "name": "stdout",
     "output_type": "stream",
     "text": [
      "<class 'pandas.core.frame.DataFrame'>\n",
      "Int64Index: 2662 entries, 50 to 416148\n",
      "Data columns (total 42 columns):\n",
      " #   Column                         Non-Null Count  Dtype  \n",
      "---  ------                         --------------  -----  \n",
      " 0   Unnamed: 0                     2662 non-null   int64  \n",
      " 1   CRASH_RECORD_ID                2662 non-null   object \n",
      " 2   RD_NO                          2647 non-null   object \n",
      " 3   CRASH_DATE                     2662 non-null   object \n",
      " 4   POSTED_SPEED_LIMIT             2662 non-null   int64  \n",
      " 5   TRAFFIC_CONTROL_DEVICE         2662 non-null   object \n",
      " 6   DEVICE_CONDITION               2662 non-null   object \n",
      " 7   WEATHER_CONDITION              2662 non-null   object \n",
      " 8   LIGHTING_CONDITION             2662 non-null   object \n",
      " 9   FIRST_CRASH_TYPE               2662 non-null   object \n",
      " 10  TRAFFICWAY_TYPE                2662 non-null   object \n",
      " 11  LANE_CNT                       824 non-null    float64\n",
      " 12  ALIGNMENT                      2662 non-null   object \n",
      " 13  ROADWAY_SURFACE_COND           2662 non-null   object \n",
      " 14  ROAD_DEFECT                    2662 non-null   object \n",
      " 15  REPORT_TYPE                    1842 non-null   object \n",
      " 16  CRASH_TYPE                     2662 non-null   object \n",
      " 17  INTERSECTION_RELATED_I         537 non-null    object \n",
      " 18  HIT_AND_RUN_I                  989 non-null    object \n",
      " 19  DAMAGE                         2662 non-null   object \n",
      " 20  DATE_POLICE_NOTIFIED           2662 non-null   object \n",
      " 21  PRIM_CONTRIBUTORY_CAUSE        2662 non-null   object \n",
      " 22  SEC_CONTRIBUTORY_CAUSE         2662 non-null   object \n",
      " 23  STREET_NO                      2662 non-null   int64  \n",
      " 24  STREET_DIRECTION               2662 non-null   object \n",
      " 25  STREET_NAME                    2662 non-null   object \n",
      " 26  BEAT_OF_OCCURRENCE             2662 non-null   float64\n",
      " 27  NUM_UNITS                      890 non-null    float64\n",
      " 28  MOST_SEVERE_INJURY             0 non-null      object \n",
      " 29  INJURIES_TOTAL                 0 non-null      float64\n",
      " 30  INJURIES_FATAL                 0 non-null      float64\n",
      " 31  INJURIES_INCAPACITATING        0 non-null      float64\n",
      " 32  INJURIES_NON_INCAPACITATING    0 non-null      float64\n",
      " 33  INJURIES_REPORTED_NOT_EVIDENT  0 non-null      float64\n",
      " 34  INJURIES_NO_INDICATION         0 non-null      float64\n",
      " 35  INJURIES_UNKNOWN               0 non-null      float64\n",
      " 36  CRASH_HOUR                     2662 non-null   int64  \n",
      " 37  CRASH_DAY_OF_WEEK              2662 non-null   int64  \n",
      " 38  CRASH_MONTH                    2662 non-null   int64  \n",
      " 39  LATITUDE                       2648 non-null   float64\n",
      " 40  LONGITUDE                      2648 non-null   float64\n",
      " 41  LOCATION                       2648 non-null   object \n",
      "dtypes: float64(12), int64(6), object(24)\n",
      "memory usage: 894.3+ KB\n"
     ]
    }
   ],
   "source": [
    "injuries = df[df['INJURIES_UNKNOWN'].isnull()]\n",
    "injuries.info()"
   ]
  },
  {
   "cell_type": "markdown",
   "metadata": {},
   "source": [
    "It does appear that there's a fair amount of missing data here so we will go ahead and drop these rows before continuing."
   ]
  },
  {
   "cell_type": "code",
   "execution_count": 4,
   "metadata": {
    "ExecuteTime": {
     "end_time": "2020-07-09T17:31:33.019040Z",
     "start_time": "2020-07-09T17:31:32.555776Z"
    }
   },
   "outputs": [
    {
     "name": "stdout",
     "output_type": "stream",
     "text": [
      "<class 'pandas.core.frame.DataFrame'>\n",
      "Int64Index: 413536 entries, 0 to 416197\n",
      "Data columns (total 42 columns):\n",
      " #   Column                         Non-Null Count   Dtype  \n",
      "---  ------                         --------------   -----  \n",
      " 0   Unnamed: 0                     413536 non-null  int64  \n",
      " 1   CRASH_RECORD_ID                413536 non-null  object \n",
      " 2   RD_NO                          409782 non-null  object \n",
      " 3   CRASH_DATE                     413536 non-null  object \n",
      " 4   POSTED_SPEED_LIMIT             413536 non-null  int64  \n",
      " 5   TRAFFIC_CONTROL_DEVICE         413536 non-null  object \n",
      " 6   DEVICE_CONDITION               413536 non-null  object \n",
      " 7   WEATHER_CONDITION              413536 non-null  object \n",
      " 8   LIGHTING_CONDITION             413536 non-null  object \n",
      " 9   FIRST_CRASH_TYPE               413536 non-null  object \n",
      " 10  TRAFFICWAY_TYPE                413536 non-null  object \n",
      " 11  LANE_CNT                       197731 non-null  float64\n",
      " 12  ALIGNMENT                      413536 non-null  object \n",
      " 13  ROADWAY_SURFACE_COND           413536 non-null  object \n",
      " 14  ROAD_DEFECT                    413536 non-null  object \n",
      " 15  REPORT_TYPE                    404502 non-null  object \n",
      " 16  CRASH_TYPE                     413536 non-null  object \n",
      " 17  INTERSECTION_RELATED_I         92428 non-null   object \n",
      " 18  HIT_AND_RUN_I                  116701 non-null  object \n",
      " 19  DAMAGE                         413536 non-null  object \n",
      " 20  DATE_POLICE_NOTIFIED           413536 non-null  object \n",
      " 21  PRIM_CONTRIBUTORY_CAUSE        413536 non-null  object \n",
      " 22  SEC_CONTRIBUTORY_CAUSE         413536 non-null  object \n",
      " 23  STREET_NO                      413536 non-null  int64  \n",
      " 24  STREET_DIRECTION               413534 non-null  object \n",
      " 25  STREET_NAME                    413535 non-null  object \n",
      " 26  BEAT_OF_OCCURRENCE             413532 non-null  float64\n",
      " 27  NUM_UNITS                      413536 non-null  float64\n",
      " 28  MOST_SEVERE_INJURY             413529 non-null  object \n",
      " 29  INJURIES_TOTAL                 413536 non-null  float64\n",
      " 30  INJURIES_FATAL                 413536 non-null  float64\n",
      " 31  INJURIES_INCAPACITATING        413536 non-null  float64\n",
      " 32  INJURIES_NON_INCAPACITATING    413536 non-null  float64\n",
      " 33  INJURIES_REPORTED_NOT_EVIDENT  413536 non-null  float64\n",
      " 34  INJURIES_NO_INDICATION         413536 non-null  float64\n",
      " 35  INJURIES_UNKNOWN               413536 non-null  float64\n",
      " 36  CRASH_HOUR                     413536 non-null  int64  \n",
      " 37  CRASH_DAY_OF_WEEK              413536 non-null  int64  \n",
      " 38  CRASH_MONTH                    413536 non-null  int64  \n",
      " 39  LATITUDE                       411281 non-null  float64\n",
      " 40  LONGITUDE                      411281 non-null  float64\n",
      " 41  LOCATION                       411281 non-null  object \n",
      "dtypes: float64(12), int64(6), object(24)\n",
      "memory usage: 135.7+ MB\n"
     ]
    }
   ],
   "source": [
    "crashes = df[df['INJURIES_UNKNOWN'].notna()]\n",
    "crashes.info()"
   ]
  },
  {
   "cell_type": "markdown",
   "metadata": {},
   "source": [
    "## Next we'll look at the posted speed limit column"
   ]
  },
  {
   "cell_type": "code",
   "execution_count": 5,
   "metadata": {
    "ExecuteTime": {
     "end_time": "2020-07-09T17:31:33.030944Z",
     "start_time": "2020-07-09T17:31:33.020032Z"
    }
   },
   "outputs": [
    {
     "data": {
      "text/plain": [
       "30    305133\n",
       "35     28253\n",
       "25     24773\n",
       "20     15880\n",
       "15     14092\n",
       "10      8345\n",
       "0       6559\n",
       "40      3722\n",
       "5       3398\n",
       "45      2460\n",
       "55       386\n",
       "3        103\n",
       "9         87\n",
       "50        81\n",
       "99        67\n",
       "39        42\n",
       "1         34\n",
       "60        26\n",
       "2         19\n",
       "32        12\n",
       "33         9\n",
       "65         9\n",
       "6          7\n",
       "24         6\n",
       "34         5\n",
       "11         5\n",
       "70         3\n",
       "12         2\n",
       "7          2\n",
       "14         2\n",
       "18         2\n",
       "36         2\n",
       "31         2\n",
       "49         1\n",
       "38         1\n",
       "22         1\n",
       "23         1\n",
       "63         1\n",
       "4          1\n",
       "29         1\n",
       "26         1\n",
       "Name: POSTED_SPEED_LIMIT, dtype: int64"
      ]
     },
     "execution_count": 5,
     "metadata": {},
     "output_type": "execute_result"
    }
   ],
   "source": [
    "crashes['POSTED_SPEED_LIMIT'].value_counts()"
   ]
  },
  {
   "cell_type": "markdown",
   "metadata": {},
   "source": [
    "Through annecdotal personal experience, I have never seen a posted speed limit that didn't end with a 0 or a 5. I think it's safe to assume that a 0 would indicate an incident occuring in a parking lot of some sort"
   ]
  },
  {
   "cell_type": "markdown",
   "metadata": {},
   "source": [
    "While the placeholder/strange data may only account for roughly 300 observations in the data, I believe it highly likely that other submitted information for those rows is likely strange or inncorrest as well so we will also drop rows whose speed limit does not end in a 0 or 5."
   ]
  },
  {
   "cell_type": "code",
   "execution_count": 6,
   "metadata": {
    "ExecuteTime": {
     "end_time": "2020-07-09T17:31:33.210000Z",
     "start_time": "2020-07-09T17:31:33.032432Z"
    }
   },
   "outputs": [
    {
     "name": "stderr",
     "output_type": "stream",
     "text": [
      "C:\\Users\\damni\\anaconda3\\envs\\learn-env\\lib\\site-packages\\ipykernel_launcher.py:1: SettingWithCopyWarning: \n",
      "A value is trying to be set on a copy of a slice from a DataFrame.\n",
      "Try using .loc[row_indexer,col_indexer] = value instead\n",
      "\n",
      "See the caveats in the documentation: https://pandas.pydata.org/pandas-docs/stable/user_guide/indexing.html#returning-a-view-versus-a-copy\n",
      "  \"\"\"Entry point for launching an IPython kernel.\n"
     ]
    }
   ],
   "source": [
    "crashes['POSTED_SPEED_LIMIT'] = crashes['POSTED_SPEED_LIMIT'].apply(lambda x: x if x % 5 == 0 else np.nan)"
   ]
  },
  {
   "cell_type": "code",
   "execution_count": 7,
   "metadata": {
    "ExecuteTime": {
     "end_time": "2020-07-09T17:31:33.231328Z",
     "start_time": "2020-07-09T17:31:33.211488Z"
    }
   },
   "outputs": [
    {
     "data": {
      "text/plain": [
       "30.0    305133\n",
       "35.0     28253\n",
       "25.0     24773\n",
       "20.0     15880\n",
       "15.0     14092\n",
       "10.0      8345\n",
       "0.0       6559\n",
       "40.0      3722\n",
       "5.0       3398\n",
       "45.0      2460\n",
       "55.0       386\n",
       "50.0        81\n",
       "60.0        26\n",
       "65.0         9\n",
       "70.0         3\n",
       "Name: POSTED_SPEED_LIMIT, dtype: int64"
      ]
     },
     "execution_count": 7,
     "metadata": {},
     "output_type": "execute_result"
    }
   ],
   "source": [
    "crashes['POSTED_SPEED_LIMIT'].value_counts()"
   ]
  },
  {
   "cell_type": "code",
   "execution_count": 8,
   "metadata": {
    "ExecuteTime": {
     "end_time": "2020-07-09T17:31:33.760064Z",
     "start_time": "2020-07-09T17:31:33.234304Z"
    }
   },
   "outputs": [
    {
     "name": "stdout",
     "output_type": "stream",
     "text": [
      "<class 'pandas.core.frame.DataFrame'>\n",
      "Int64Index: 413120 entries, 0 to 416197\n",
      "Data columns (total 42 columns):\n",
      " #   Column                         Non-Null Count   Dtype  \n",
      "---  ------                         --------------   -----  \n",
      " 0   Unnamed: 0                     413120 non-null  int64  \n",
      " 1   CRASH_RECORD_ID                413120 non-null  object \n",
      " 2   RD_NO                          409370 non-null  object \n",
      " 3   CRASH_DATE                     413120 non-null  object \n",
      " 4   POSTED_SPEED_LIMIT             413120 non-null  float64\n",
      " 5   TRAFFIC_CONTROL_DEVICE         413120 non-null  object \n",
      " 6   DEVICE_CONDITION               413120 non-null  object \n",
      " 7   WEATHER_CONDITION              413120 non-null  object \n",
      " 8   LIGHTING_CONDITION             413120 non-null  object \n",
      " 9   FIRST_CRASH_TYPE               413120 non-null  object \n",
      " 10  TRAFFICWAY_TYPE                413120 non-null  object \n",
      " 11  LANE_CNT                       197533 non-null  float64\n",
      " 12  ALIGNMENT                      413120 non-null  object \n",
      " 13  ROADWAY_SURFACE_COND           413120 non-null  object \n",
      " 14  ROAD_DEFECT                    413120 non-null  object \n",
      " 15  REPORT_TYPE                    404093 non-null  object \n",
      " 16  CRASH_TYPE                     413120 non-null  object \n",
      " 17  INTERSECTION_RELATED_I         92369 non-null   object \n",
      " 18  HIT_AND_RUN_I                  116619 non-null  object \n",
      " 19  DAMAGE                         413120 non-null  object \n",
      " 20  DATE_POLICE_NOTIFIED           413120 non-null  object \n",
      " 21  PRIM_CONTRIBUTORY_CAUSE        413120 non-null  object \n",
      " 22  SEC_CONTRIBUTORY_CAUSE         413120 non-null  object \n",
      " 23  STREET_NO                      413120 non-null  int64  \n",
      " 24  STREET_DIRECTION               413118 non-null  object \n",
      " 25  STREET_NAME                    413119 non-null  object \n",
      " 26  BEAT_OF_OCCURRENCE             413116 non-null  float64\n",
      " 27  NUM_UNITS                      413120 non-null  float64\n",
      " 28  MOST_SEVERE_INJURY             413113 non-null  object \n",
      " 29  INJURIES_TOTAL                 413120 non-null  float64\n",
      " 30  INJURIES_FATAL                 413120 non-null  float64\n",
      " 31  INJURIES_INCAPACITATING        413120 non-null  float64\n",
      " 32  INJURIES_NON_INCAPACITATING    413120 non-null  float64\n",
      " 33  INJURIES_REPORTED_NOT_EVIDENT  413120 non-null  float64\n",
      " 34  INJURIES_NO_INDICATION         413120 non-null  float64\n",
      " 35  INJURIES_UNKNOWN               413120 non-null  float64\n",
      " 36  CRASH_HOUR                     413120 non-null  int64  \n",
      " 37  CRASH_DAY_OF_WEEK              413120 non-null  int64  \n",
      " 38  CRASH_MONTH                    413120 non-null  int64  \n",
      " 39  LATITUDE                       410865 non-null  float64\n",
      " 40  LONGITUDE                      410865 non-null  float64\n",
      " 41  LOCATION                       410865 non-null  object \n",
      "dtypes: float64(13), int64(5), object(24)\n",
      "memory usage: 135.5+ MB\n"
     ]
    }
   ],
   "source": [
    "crashes = crashes[crashes['POSTED_SPEED_LIMIT'].notna()]\n",
    "crashes.info()"
   ]
  },
  {
   "cell_type": "markdown",
   "metadata": {},
   "source": [
    "#### As I believe that latitude and longitude will be important, we will also drop rows that are missing these values"
   ]
  },
  {
   "cell_type": "code",
   "execution_count": 9,
   "metadata": {
    "ExecuteTime": {
     "end_time": "2020-07-09T17:31:34.254575Z",
     "start_time": "2020-07-09T17:31:33.762047Z"
    }
   },
   "outputs": [
    {
     "name": "stdout",
     "output_type": "stream",
     "text": [
      "<class 'pandas.core.frame.DataFrame'>\n",
      "Int64Index: 410865 entries, 2 to 416197\n",
      "Data columns (total 42 columns):\n",
      " #   Column                         Non-Null Count   Dtype  \n",
      "---  ------                         --------------   -----  \n",
      " 0   Unnamed: 0                     410865 non-null  int64  \n",
      " 1   CRASH_RECORD_ID                410865 non-null  object \n",
      " 2   RD_NO                          407134 non-null  object \n",
      " 3   CRASH_DATE                     410865 non-null  object \n",
      " 4   POSTED_SPEED_LIMIT             410865 non-null  float64\n",
      " 5   TRAFFIC_CONTROL_DEVICE         410865 non-null  object \n",
      " 6   DEVICE_CONDITION               410865 non-null  object \n",
      " 7   WEATHER_CONDITION              410865 non-null  object \n",
      " 8   LIGHTING_CONDITION             410865 non-null  object \n",
      " 9   FIRST_CRASH_TYPE               410865 non-null  object \n",
      " 10  TRAFFICWAY_TYPE                410865 non-null  object \n",
      " 11  LANE_CNT                       196648 non-null  float64\n",
      " 12  ALIGNMENT                      410865 non-null  object \n",
      " 13  ROADWAY_SURFACE_COND           410865 non-null  object \n",
      " 14  ROAD_DEFECT                    410865 non-null  object \n",
      " 15  REPORT_TYPE                    401869 non-null  object \n",
      " 16  CRASH_TYPE                     410865 non-null  object \n",
      " 17  INTERSECTION_RELATED_I         91910 non-null   object \n",
      " 18  HIT_AND_RUN_I                  116165 non-null  object \n",
      " 19  DAMAGE                         410865 non-null  object \n",
      " 20  DATE_POLICE_NOTIFIED           410865 non-null  object \n",
      " 21  PRIM_CONTRIBUTORY_CAUSE        410865 non-null  object \n",
      " 22  SEC_CONTRIBUTORY_CAUSE         410865 non-null  object \n",
      " 23  STREET_NO                      410865 non-null  int64  \n",
      " 24  STREET_DIRECTION               410865 non-null  object \n",
      " 25  STREET_NAME                    410865 non-null  object \n",
      " 26  BEAT_OF_OCCURRENCE             410862 non-null  float64\n",
      " 27  NUM_UNITS                      410865 non-null  float64\n",
      " 28  MOST_SEVERE_INJURY             410858 non-null  object \n",
      " 29  INJURIES_TOTAL                 410865 non-null  float64\n",
      " 30  INJURIES_FATAL                 410865 non-null  float64\n",
      " 31  INJURIES_INCAPACITATING        410865 non-null  float64\n",
      " 32  INJURIES_NON_INCAPACITATING    410865 non-null  float64\n",
      " 33  INJURIES_REPORTED_NOT_EVIDENT  410865 non-null  float64\n",
      " 34  INJURIES_NO_INDICATION         410865 non-null  float64\n",
      " 35  INJURIES_UNKNOWN               410865 non-null  float64\n",
      " 36  CRASH_HOUR                     410865 non-null  int64  \n",
      " 37  CRASH_DAY_OF_WEEK              410865 non-null  int64  \n",
      " 38  CRASH_MONTH                    410865 non-null  int64  \n",
      " 39  LATITUDE                       410865 non-null  float64\n",
      " 40  LONGITUDE                      410865 non-null  float64\n",
      " 41  LOCATION                       410865 non-null  object \n",
      "dtypes: float64(13), int64(5), object(24)\n",
      "memory usage: 134.8+ MB\n"
     ]
    }
   ],
   "source": [
    "crashes = crashes[crashes['LATITUDE'].notna()]\n",
    "crashes.info()"
   ]
  },
  {
   "cell_type": "code",
   "execution_count": 10,
   "metadata": {
    "ExecuteTime": {
     "end_time": "2020-07-09T17:31:34.618639Z",
     "start_time": "2020-07-09T17:31:34.256064Z"
    }
   },
   "outputs": [
    {
     "data": {
      "text/plain": [
       "Unnamed: 0                            0\n",
       "CRASH_RECORD_ID                       0\n",
       "RD_NO                              3731\n",
       "CRASH_DATE                            0\n",
       "POSTED_SPEED_LIMIT                    0\n",
       "TRAFFIC_CONTROL_DEVICE                0\n",
       "DEVICE_CONDITION                      0\n",
       "WEATHER_CONDITION                     0\n",
       "LIGHTING_CONDITION                    0\n",
       "FIRST_CRASH_TYPE                      0\n",
       "TRAFFICWAY_TYPE                       0\n",
       "LANE_CNT                         214217\n",
       "ALIGNMENT                             0\n",
       "ROADWAY_SURFACE_COND                  0\n",
       "ROAD_DEFECT                           0\n",
       "REPORT_TYPE                        8996\n",
       "CRASH_TYPE                            0\n",
       "INTERSECTION_RELATED_I           318955\n",
       "HIT_AND_RUN_I                    294700\n",
       "DAMAGE                                0\n",
       "DATE_POLICE_NOTIFIED                  0\n",
       "PRIM_CONTRIBUTORY_CAUSE               0\n",
       "SEC_CONTRIBUTORY_CAUSE                0\n",
       "STREET_NO                             0\n",
       "STREET_DIRECTION                      0\n",
       "STREET_NAME                           0\n",
       "BEAT_OF_OCCURRENCE                    3\n",
       "NUM_UNITS                             0\n",
       "MOST_SEVERE_INJURY                    7\n",
       "INJURIES_TOTAL                        0\n",
       "INJURIES_FATAL                        0\n",
       "INJURIES_INCAPACITATING               0\n",
       "INJURIES_NON_INCAPACITATING           0\n",
       "INJURIES_REPORTED_NOT_EVIDENT         0\n",
       "INJURIES_NO_INDICATION                0\n",
       "INJURIES_UNKNOWN                      0\n",
       "CRASH_HOUR                            0\n",
       "CRASH_DAY_OF_WEEK                     0\n",
       "CRASH_MONTH                           0\n",
       "LATITUDE                              0\n",
       "LONGITUDE                             0\n",
       "LOCATION                              0\n",
       "dtype: int64"
      ]
     },
     "execution_count": 10,
     "metadata": {},
     "output_type": "execute_result"
    }
   ],
   "source": [
    "crashes.isna().sum()"
   ]
  },
  {
   "cell_type": "markdown",
   "metadata": {},
   "source": [
    "We still have some missing values we will need to do something with. I will drop the missing RD_NO rows as these rows are missing due to the incident in question being recent and likely still under investigation or information still being gathered. We will also drop the missing instances in BEAT_OF_OCCURENCE and MOST_SEVERE_INJURY"
   ]
  },
  {
   "cell_type": "code",
   "execution_count": 11,
   "metadata": {
    "ExecuteTime": {
     "end_time": "2020-07-09T17:31:35.434560Z",
     "start_time": "2020-07-09T17:31:34.619632Z"
    }
   },
   "outputs": [
    {
     "name": "stdout",
     "output_type": "stream",
     "text": [
      "<class 'pandas.core.frame.DataFrame'>\n",
      "Int64Index: 407124 entries, 2 to 416197\n",
      "Data columns (total 42 columns):\n",
      " #   Column                         Non-Null Count   Dtype  \n",
      "---  ------                         --------------   -----  \n",
      " 0   Unnamed: 0                     407124 non-null  int64  \n",
      " 1   CRASH_RECORD_ID                407124 non-null  object \n",
      " 2   RD_NO                          407124 non-null  object \n",
      " 3   CRASH_DATE                     407124 non-null  object \n",
      " 4   POSTED_SPEED_LIMIT             407124 non-null  float64\n",
      " 5   TRAFFIC_CONTROL_DEVICE         407124 non-null  object \n",
      " 6   DEVICE_CONDITION               407124 non-null  object \n",
      " 7   WEATHER_CONDITION              407124 non-null  object \n",
      " 8   LIGHTING_CONDITION             407124 non-null  object \n",
      " 9   FIRST_CRASH_TYPE               407124 non-null  object \n",
      " 10  TRAFFICWAY_TYPE                407124 non-null  object \n",
      " 11  LANE_CNT                       196640 non-null  float64\n",
      " 12  ALIGNMENT                      407124 non-null  object \n",
      " 13  ROADWAY_SURFACE_COND           407124 non-null  object \n",
      " 14  ROAD_DEFECT                    407124 non-null  object \n",
      " 15  REPORT_TYPE                    398194 non-null  object \n",
      " 16  CRASH_TYPE                     407124 non-null  object \n",
      " 17  INTERSECTION_RELATED_I         90957 non-null   object \n",
      " 18  HIT_AND_RUN_I                  114784 non-null  object \n",
      " 19  DAMAGE                         407124 non-null  object \n",
      " 20  DATE_POLICE_NOTIFIED           407124 non-null  object \n",
      " 21  PRIM_CONTRIBUTORY_CAUSE        407124 non-null  object \n",
      " 22  SEC_CONTRIBUTORY_CAUSE         407124 non-null  object \n",
      " 23  STREET_NO                      407124 non-null  int64  \n",
      " 24  STREET_DIRECTION               407124 non-null  object \n",
      " 25  STREET_NAME                    407124 non-null  object \n",
      " 26  BEAT_OF_OCCURRENCE             407124 non-null  float64\n",
      " 27  NUM_UNITS                      407124 non-null  float64\n",
      " 28  MOST_SEVERE_INJURY             407124 non-null  object \n",
      " 29  INJURIES_TOTAL                 407124 non-null  float64\n",
      " 30  INJURIES_FATAL                 407124 non-null  float64\n",
      " 31  INJURIES_INCAPACITATING        407124 non-null  float64\n",
      " 32  INJURIES_NON_INCAPACITATING    407124 non-null  float64\n",
      " 33  INJURIES_REPORTED_NOT_EVIDENT  407124 non-null  float64\n",
      " 34  INJURIES_NO_INDICATION         407124 non-null  float64\n",
      " 35  INJURIES_UNKNOWN               407124 non-null  float64\n",
      " 36  CRASH_HOUR                     407124 non-null  int64  \n",
      " 37  CRASH_DAY_OF_WEEK              407124 non-null  int64  \n",
      " 38  CRASH_MONTH                    407124 non-null  int64  \n",
      " 39  LATITUDE                       407124 non-null  float64\n",
      " 40  LONGITUDE                      407124 non-null  float64\n",
      " 41  LOCATION                       407124 non-null  object \n",
      "dtypes: float64(13), int64(5), object(24)\n",
      "memory usage: 133.6+ MB\n"
     ]
    }
   ],
   "source": [
    "crashes = crashes[crashes['RD_NO'].notna()]\n",
    "crashes = crashes[crashes['BEAT_OF_OCCURRENCE'].notna()]\n",
    "crashes = crashes[crashes['MOST_SEVERE_INJURY'].notna()]\n",
    "crashes.info()"
   ]
  },
  {
   "cell_type": "markdown",
   "metadata": {},
   "source": [
    "### We've trimmed a bit of our data, now lets see if we can fill some of what's missing"
   ]
  },
  {
   "cell_type": "code",
   "execution_count": 12,
   "metadata": {
    "ExecuteTime": {
     "end_time": "2020-07-09T17:31:35.469775Z",
     "start_time": "2020-07-09T17:31:35.436543Z"
    }
   },
   "outputs": [
    {
     "data": {
      "text/plain": [
       "Y    109884\n",
       "N      4900\n",
       "Name: HIT_AND_RUN_I, dtype: int64"
      ]
     },
     "execution_count": 12,
     "metadata": {},
     "output_type": "execute_result"
    }
   ],
   "source": [
    "crashes['HIT_AND_RUN_I'].value_counts()"
   ]
  },
  {
   "cell_type": "markdown",
   "metadata": {},
   "source": [
    "This column will most likely function better as a binary 1 and 0 column we'll transform this accordingly and then fill the missing values with 0 as I belive it to be far more likely that incidents that were not hit and runs were just not filled in. I also believe the current proportion of hit and runs to not hit and runs to be believable."
   ]
  },
  {
   "cell_type": "code",
   "execution_count": 13,
   "metadata": {
    "ExecuteTime": {
     "end_time": "2020-07-09T17:31:35.690991Z",
     "start_time": "2020-07-09T17:31:35.471759Z"
    }
   },
   "outputs": [],
   "source": [
    "crashes['HIT_AND_RUN_I'] = crashes['HIT_AND_RUN_I'].apply(lambda x: 1 if x == 'Y' else 0)"
   ]
  },
  {
   "cell_type": "code",
   "execution_count": 14,
   "metadata": {
    "ExecuteTime": {
     "end_time": "2020-07-09T17:31:35.702896Z",
     "start_time": "2020-07-09T17:31:35.692976Z"
    }
   },
   "outputs": [
    {
     "data": {
      "text/plain": [
       "0    297240\n",
       "1    109884\n",
       "Name: HIT_AND_RUN_I, dtype: int64"
      ]
     },
     "execution_count": 14,
     "metadata": {},
     "output_type": "execute_result"
    }
   ],
   "source": [
    "crashes['HIT_AND_RUN_I'].value_counts()"
   ]
  },
  {
   "cell_type": "code",
   "execution_count": 15,
   "metadata": {
    "ExecuteTime": {
     "end_time": "2020-07-09T17:31:36.065967Z",
     "start_time": "2020-07-09T17:31:35.704383Z"
    }
   },
   "outputs": [
    {
     "data": {
      "text/plain": [
       "Unnamed: 0                            0\n",
       "CRASH_RECORD_ID                       0\n",
       "RD_NO                                 0\n",
       "CRASH_DATE                            0\n",
       "POSTED_SPEED_LIMIT                    0\n",
       "TRAFFIC_CONTROL_DEVICE                0\n",
       "DEVICE_CONDITION                      0\n",
       "WEATHER_CONDITION                     0\n",
       "LIGHTING_CONDITION                    0\n",
       "FIRST_CRASH_TYPE                      0\n",
       "TRAFFICWAY_TYPE                       0\n",
       "LANE_CNT                         210484\n",
       "ALIGNMENT                             0\n",
       "ROADWAY_SURFACE_COND                  0\n",
       "ROAD_DEFECT                           0\n",
       "REPORT_TYPE                        8930\n",
       "CRASH_TYPE                            0\n",
       "INTERSECTION_RELATED_I           316167\n",
       "HIT_AND_RUN_I                         0\n",
       "DAMAGE                                0\n",
       "DATE_POLICE_NOTIFIED                  0\n",
       "PRIM_CONTRIBUTORY_CAUSE               0\n",
       "SEC_CONTRIBUTORY_CAUSE                0\n",
       "STREET_NO                             0\n",
       "STREET_DIRECTION                      0\n",
       "STREET_NAME                           0\n",
       "BEAT_OF_OCCURRENCE                    0\n",
       "NUM_UNITS                             0\n",
       "MOST_SEVERE_INJURY                    0\n",
       "INJURIES_TOTAL                        0\n",
       "INJURIES_FATAL                        0\n",
       "INJURIES_INCAPACITATING               0\n",
       "INJURIES_NON_INCAPACITATING           0\n",
       "INJURIES_REPORTED_NOT_EVIDENT         0\n",
       "INJURIES_NO_INDICATION                0\n",
       "INJURIES_UNKNOWN                      0\n",
       "CRASH_HOUR                            0\n",
       "CRASH_DAY_OF_WEEK                     0\n",
       "CRASH_MONTH                           0\n",
       "LATITUDE                              0\n",
       "LONGITUDE                             0\n",
       "LOCATION                              0\n",
       "dtype: int64"
      ]
     },
     "execution_count": 15,
     "metadata": {},
     "output_type": "execute_result"
    }
   ],
   "source": [
    "crashes.isna().sum()"
   ]
  },
  {
   "cell_type": "code",
   "execution_count": 16,
   "metadata": {
    "ExecuteTime": {
     "end_time": "2020-07-09T17:31:36.115567Z",
     "start_time": "2020-07-09T17:31:36.067456Z"
    }
   },
   "outputs": [
    {
     "data": {
      "text/plain": [
       "NOT ON SCENE (DESK REPORT)    243549\n",
       "ON SCENE                      154645\n",
       "Name: REPORT_TYPE, dtype: int64"
      ]
     },
     "execution_count": 16,
     "metadata": {},
     "output_type": "execute_result"
    }
   ],
   "source": [
    "crashes['REPORT_TYPE'].value_counts()"
   ]
  },
  {
   "cell_type": "code",
   "execution_count": 17,
   "metadata": {
    "ExecuteTime": {
     "end_time": "2020-07-09T17:31:36.131439Z",
     "start_time": "2020-07-09T17:31:36.117552Z"
    }
   },
   "outputs": [
    {
     "data": {
      "text/plain": [
       "2.0          90181\n",
       "4.0          49098\n",
       "1.0          32156\n",
       "3.0           8446\n",
       "0.0           7920\n",
       "6.0           4410\n",
       "5.0           1916\n",
       "8.0           1887\n",
       "7.0            182\n",
       "10.0           155\n",
       "99.0           108\n",
       "9.0             64\n",
       "12.0            26\n",
       "11.0            24\n",
       "20.0            13\n",
       "22.0             6\n",
       "15.0             6\n",
       "30.0             5\n",
       "16.0             5\n",
       "40.0             4\n",
       "14.0             3\n",
       "60.0             3\n",
       "21.0             3\n",
       "25.0             2\n",
       "100.0            2\n",
       "35.0             1\n",
       "299679.0         1\n",
       "17.0             1\n",
       "400.0            1\n",
       "1191625.0        1\n",
       "24.0             1\n",
       "19.0             1\n",
       "28.0             1\n",
       "41.0             1\n",
       "44.0             1\n",
       "433634.0         1\n",
       "218474.0         1\n",
       "902.0            1\n",
       "80.0             1\n",
       "45.0             1\n",
       "Name: LANE_CNT, dtype: int64"
      ]
     },
     "execution_count": 17,
     "metadata": {},
     "output_type": "execute_result"
    }
   ],
   "source": [
    "crashes['LANE_CNT'].value_counts()"
   ]
  },
  {
   "cell_type": "code",
   "execution_count": 18,
   "metadata": {
    "ExecuteTime": {
     "end_time": "2020-07-09T17:31:36.160207Z",
     "start_time": "2020-07-09T17:31:36.132927Z"
    }
   },
   "outputs": [
    {
     "data": {
      "text/plain": [
       "Y    86637\n",
       "N     4320\n",
       "Name: INTERSECTION_RELATED_I, dtype: int64"
      ]
     },
     "execution_count": 18,
     "metadata": {},
     "output_type": "execute_result"
    }
   ],
   "source": [
    "crashes['INTERSECTION_RELATED_I'].value_counts()"
   ]
  },
  {
   "cell_type": "code",
   "execution_count": 19,
   "metadata": {
    "ExecuteTime": {
     "end_time": "2020-07-09T17:31:36.166655Z",
     "start_time": "2020-07-09T17:31:36.161695Z"
    }
   },
   "outputs": [
    {
     "data": {
      "text/plain": [
       "0.7765864945323784"
      ]
     },
     "execution_count": 19,
     "metadata": {},
     "output_type": "execute_result"
    }
   ],
   "source": [
    "316167/407124"
   ]
  },
  {
   "cell_type": "markdown",
   "metadata": {},
   "source": [
    "We are still missing an overwhelming amount of intersectional data but I don't necessarily want to get rid of this information just yet. However there is already a noticeable disparity between the number of incidents that TOOK place in an intersection according to lane_cnt and the number of incidents classified as intersection related. It's worth noting that both of these columns are missing data though."
   ]
  },
  {
   "cell_type": "code",
   "execution_count": 20,
   "metadata": {
    "ExecuteTime": {
     "end_time": "2020-07-09T17:31:36.224687Z",
     "start_time": "2020-07-09T17:31:36.168144Z"
    }
   },
   "outputs": [
    {
     "data": {
      "text/plain": [
       "Unnamed: 0                          0\n",
       "CRASH_RECORD_ID                     0\n",
       "RD_NO                               0\n",
       "CRASH_DATE                          0\n",
       "POSTED_SPEED_LIMIT                  0\n",
       "TRAFFIC_CONTROL_DEVICE              0\n",
       "DEVICE_CONDITION                    0\n",
       "WEATHER_CONDITION                   0\n",
       "LIGHTING_CONDITION                  0\n",
       "FIRST_CRASH_TYPE                    0\n",
       "TRAFFICWAY_TYPE                     0\n",
       "LANE_CNT                         4986\n",
       "ALIGNMENT                           0\n",
       "ROADWAY_SURFACE_COND                0\n",
       "ROAD_DEFECT                         0\n",
       "REPORT_TYPE                      8930\n",
       "CRASH_TYPE                          0\n",
       "INTERSECTION_RELATED_I           6500\n",
       "HIT_AND_RUN_I                       0\n",
       "DAMAGE                              0\n",
       "DATE_POLICE_NOTIFIED                0\n",
       "PRIM_CONTRIBUTORY_CAUSE             0\n",
       "SEC_CONTRIBUTORY_CAUSE              0\n",
       "STREET_NO                           0\n",
       "STREET_DIRECTION                    0\n",
       "STREET_NAME                         0\n",
       "BEAT_OF_OCCURRENCE                  0\n",
       "NUM_UNITS                           0\n",
       "MOST_SEVERE_INJURY                  0\n",
       "INJURIES_TOTAL                      0\n",
       "INJURIES_FATAL                      0\n",
       "INJURIES_INCAPACITATING             0\n",
       "INJURIES_NON_INCAPACITATING         0\n",
       "INJURIES_REPORTED_NOT_EVIDENT       0\n",
       "INJURIES_NO_INDICATION              0\n",
       "INJURIES_UNKNOWN                    0\n",
       "CRASH_HOUR                          0\n",
       "CRASH_DAY_OF_WEEK                   0\n",
       "CRASH_MONTH                         0\n",
       "LATITUDE                            0\n",
       "LONGITUDE                           0\n",
       "LOCATION                            0\n",
       "dtype: int64"
      ]
     },
     "execution_count": 20,
     "metadata": {},
     "output_type": "execute_result"
    }
   ],
   "source": [
    "missing = crashes[crashes['REPORT_TYPE'].isnull()]\n",
    "missing.isna().sum()"
   ]
  },
  {
   "cell_type": "markdown",
   "metadata": {},
   "source": [
    "It looks like we can afford to drop the rows with missing report types as well due it also cutting down on the number of rows with missing lane and intersection data. Determining the report type also isn't something that we can try to determine very easily."
   ]
  },
  {
   "cell_type": "code",
   "execution_count": 21,
   "metadata": {
    "ExecuteTime": {
     "end_time": "2020-07-09T17:31:36.696879Z",
     "start_time": "2020-07-09T17:31:36.226175Z"
    }
   },
   "outputs": [
    {
     "name": "stdout",
     "output_type": "stream",
     "text": [
      "<class 'pandas.core.frame.DataFrame'>\n",
      "Int64Index: 398194 entries, 2 to 416197\n",
      "Data columns (total 42 columns):\n",
      " #   Column                         Non-Null Count   Dtype  \n",
      "---  ------                         --------------   -----  \n",
      " 0   Unnamed: 0                     398194 non-null  int64  \n",
      " 1   CRASH_RECORD_ID                398194 non-null  object \n",
      " 2   RD_NO                          398194 non-null  object \n",
      " 3   CRASH_DATE                     398194 non-null  object \n",
      " 4   POSTED_SPEED_LIMIT             398194 non-null  float64\n",
      " 5   TRAFFIC_CONTROL_DEVICE         398194 non-null  object \n",
      " 6   DEVICE_CONDITION               398194 non-null  object \n",
      " 7   WEATHER_CONDITION              398194 non-null  object \n",
      " 8   LIGHTING_CONDITION             398194 non-null  object \n",
      " 9   FIRST_CRASH_TYPE               398194 non-null  object \n",
      " 10  TRAFFICWAY_TYPE                398194 non-null  object \n",
      " 11  LANE_CNT                       192696 non-null  float64\n",
      " 12  ALIGNMENT                      398194 non-null  object \n",
      " 13  ROADWAY_SURFACE_COND           398194 non-null  object \n",
      " 14  ROAD_DEFECT                    398194 non-null  object \n",
      " 15  REPORT_TYPE                    398194 non-null  object \n",
      " 16  CRASH_TYPE                     398194 non-null  object \n",
      " 17  INTERSECTION_RELATED_I         88527 non-null   object \n",
      " 18  HIT_AND_RUN_I                  398194 non-null  int64  \n",
      " 19  DAMAGE                         398194 non-null  object \n",
      " 20  DATE_POLICE_NOTIFIED           398194 non-null  object \n",
      " 21  PRIM_CONTRIBUTORY_CAUSE        398194 non-null  object \n",
      " 22  SEC_CONTRIBUTORY_CAUSE         398194 non-null  object \n",
      " 23  STREET_NO                      398194 non-null  int64  \n",
      " 24  STREET_DIRECTION               398194 non-null  object \n",
      " 25  STREET_NAME                    398194 non-null  object \n",
      " 26  BEAT_OF_OCCURRENCE             398194 non-null  float64\n",
      " 27  NUM_UNITS                      398194 non-null  float64\n",
      " 28  MOST_SEVERE_INJURY             398194 non-null  object \n",
      " 29  INJURIES_TOTAL                 398194 non-null  float64\n",
      " 30  INJURIES_FATAL                 398194 non-null  float64\n",
      " 31  INJURIES_INCAPACITATING        398194 non-null  float64\n",
      " 32  INJURIES_NON_INCAPACITATING    398194 non-null  float64\n",
      " 33  INJURIES_REPORTED_NOT_EVIDENT  398194 non-null  float64\n",
      " 34  INJURIES_NO_INDICATION         398194 non-null  float64\n",
      " 35  INJURIES_UNKNOWN               398194 non-null  float64\n",
      " 36  CRASH_HOUR                     398194 non-null  int64  \n",
      " 37  CRASH_DAY_OF_WEEK              398194 non-null  int64  \n",
      " 38  CRASH_MONTH                    398194 non-null  int64  \n",
      " 39  LATITUDE                       398194 non-null  float64\n",
      " 40  LONGITUDE                      398194 non-null  float64\n",
      " 41  LOCATION                       398194 non-null  object \n",
      "dtypes: float64(13), int64(6), object(23)\n",
      "memory usage: 130.6+ MB\n"
     ]
    }
   ],
   "source": [
    "crashes = crashes[crashes['REPORT_TYPE'].notna()]\n",
    "crashes.info()"
   ]
  },
  {
   "cell_type": "markdown",
   "metadata": {},
   "source": [
    "We've trimmed and cleaned up a fair bit of our data, so let's add some new features to give us more options to work with. We may try to come back to Lane_cnt after this to see if we can predict our missing values."
   ]
  },
  {
   "cell_type": "code",
   "execution_count": 22,
   "metadata": {
    "ExecuteTime": {
     "end_time": "2020-07-09T17:31:41.833950Z",
     "start_time": "2020-07-09T17:31:36.697871Z"
    }
   },
   "outputs": [],
   "source": [
    "crashes['STREET_TYPE'] = crashes.apply(lambda x: x['STREET_NAME'].split()[-1], axis = 1)"
   ]
  },
  {
   "cell_type": "code",
   "execution_count": 23,
   "metadata": {
    "ExecuteTime": {
     "end_time": "2020-07-09T17:31:41.890493Z",
     "start_time": "2020-07-09T17:31:41.837422Z"
    }
   },
   "outputs": [
    {
     "data": {
      "text/plain": [
       "AVE         201619\n",
       "ST          122726\n",
       "RD           25362\n",
       "BLVD         14915\n",
       "DR           14585\n",
       "             ...  \n",
       "GRENSHAW         1\n",
       "CLARK            1\n",
       "SHORE            1\n",
       "CALDWELL         1\n",
       "BLVD.            1\n",
       "Name: STREET_TYPE, Length: 62, dtype: int64"
      ]
     },
     "execution_count": 23,
     "metadata": {},
     "output_type": "execute_result"
    }
   ],
   "source": [
    "crashes['STREET_TYPE'].value_counts()"
   ]
  },
  {
   "cell_type": "code",
   "execution_count": 24,
   "metadata": {
    "ExecuteTime": {
     "end_time": "2020-07-09T17:31:41.930670Z",
     "start_time": "2020-07-09T17:31:41.893470Z"
    }
   },
   "outputs": [],
   "source": [
    "counts = crashes['STREET_TYPE'].value_counts()\n",
    "filtered_counts = counts[counts < 400].index"
   ]
  },
  {
   "cell_type": "code",
   "execution_count": 25,
   "metadata": {
    "ExecuteTime": {
     "end_time": "2020-07-09T17:31:42.126590Z",
     "start_time": "2020-07-09T17:31:41.931662Z"
    }
   },
   "outputs": [
    {
     "name": "stderr",
     "output_type": "stream",
     "text": [
      "C:\\Users\\damni\\anaconda3\\envs\\learn-env\\lib\\site-packages\\pandas\\core\\indexing.py:671: SettingWithCopyWarning: \n",
      "A value is trying to be set on a copy of a slice from a DataFrame\n",
      "\n",
      "See the caveats in the documentation: https://pandas.pydata.org/pandas-docs/stable/user_guide/indexing.html#returning-a-view-versus-a-copy\n",
      "  self._setitem_with_indexer(indexer, value)\n"
     ]
    }
   ],
   "source": [
    "crashes['STREET_TYPE'].loc[crashes['STREET_TYPE'].isin(filtered_counts)] = 'Other'"
   ]
  },
  {
   "cell_type": "code",
   "execution_count": 26,
   "metadata": {
    "ExecuteTime": {
     "end_time": "2020-07-09T17:31:42.163293Z",
     "start_time": "2020-07-09T17:31:42.127582Z"
    }
   },
   "outputs": [
    {
     "data": {
      "text/plain": [
       "AVE         201619\n",
       "ST          122726\n",
       "RD           25362\n",
       "BLVD         14915\n",
       "DR           14585\n",
       "PL            3929\n",
       "NB            2936\n",
       "SB            2817\n",
       "PKWY          2726\n",
       "BROADWAY      2119\n",
       "Other         1652\n",
       "E             1102\n",
       "CT             666\n",
       "W              543\n",
       "HWY            497\n",
       "Name: STREET_TYPE, dtype: int64"
      ]
     },
     "execution_count": 26,
     "metadata": {},
     "output_type": "execute_result"
    }
   ],
   "source": [
    "crashes['STREET_TYPE'].value_counts()"
   ]
  },
  {
   "cell_type": "markdown",
   "metadata": {},
   "source": [
    "Let's generate another report to get a better idea of the broad data that we're dealing with to see if we can engineer anymore features or if any other columns need their type changed.\n"
   ]
  },
  {
   "cell_type": "code",
   "execution_count": 27,
   "metadata": {
    "ExecuteTime": {
     "end_time": "2020-07-09T17:31:42.168253Z",
     "start_time": "2020-07-09T17:31:42.164286Z"
    }
   },
   "outputs": [],
   "source": [
    "# crash_data = ProfileReport(crashes, title='Filtered Crash Data Profile Report')\n",
    "\n",
    "# crash_data.to_file(output_file='Filtered_Crash_Data2.html')"
   ]
  },
  {
   "cell_type": "markdown",
   "metadata": {},
   "source": [
    "Looking over our new report, some things that I'm seeing are:\n",
    "* a binary column for traffic controls - if there was one or not\n",
    "* binary columns for level and straight roads based off of Alignment column\n",
    "* convert crash_date and date_notified columns to datetime objects - create new column to measure the difference(if any) between crash time and notification\n",
    "* bin injuries_total:\n",
    "        * 0\n",
    "        * 1-2\n",
    "        * 3-5\n",
    "        * 6+ "
   ]
  },
  {
   "cell_type": "code",
   "execution_count": 28,
   "metadata": {
    "ExecuteTime": {
     "end_time": "2020-07-09T17:31:42.276381Z",
     "start_time": "2020-07-09T17:31:42.169742Z"
    }
   },
   "outputs": [],
   "source": [
    "crashes['TRAFFIC_CONTROL_PRESENT'] = crashes['TRAFFIC_CONTROL_DEVICE'].apply(lambda x: 0 if x == 'NO CONTROLS' else 1)"
   ]
  },
  {
   "cell_type": "code",
   "execution_count": 29,
   "metadata": {
    "ExecuteTime": {
     "end_time": "2020-07-09T17:31:42.303661Z",
     "start_time": "2020-07-09T17:31:42.278366Z"
    }
   },
   "outputs": [
    {
     "data": {
      "text/html": [
       "<div>\n",
       "<style scoped>\n",
       "    .dataframe tbody tr th:only-of-type {\n",
       "        vertical-align: middle;\n",
       "    }\n",
       "\n",
       "    .dataframe tbody tr th {\n",
       "        vertical-align: top;\n",
       "    }\n",
       "\n",
       "    .dataframe thead th {\n",
       "        text-align: right;\n",
       "    }\n",
       "</style>\n",
       "<table border=\"1\" class=\"dataframe\">\n",
       "  <thead>\n",
       "    <tr style=\"text-align: right;\">\n",
       "      <th></th>\n",
       "      <th>Unnamed: 0</th>\n",
       "      <th>CRASH_RECORD_ID</th>\n",
       "      <th>RD_NO</th>\n",
       "      <th>CRASH_DATE</th>\n",
       "      <th>POSTED_SPEED_LIMIT</th>\n",
       "      <th>TRAFFIC_CONTROL_DEVICE</th>\n",
       "      <th>DEVICE_CONDITION</th>\n",
       "      <th>WEATHER_CONDITION</th>\n",
       "      <th>LIGHTING_CONDITION</th>\n",
       "      <th>FIRST_CRASH_TYPE</th>\n",
       "      <th>...</th>\n",
       "      <th>INJURIES_NO_INDICATION</th>\n",
       "      <th>INJURIES_UNKNOWN</th>\n",
       "      <th>CRASH_HOUR</th>\n",
       "      <th>CRASH_DAY_OF_WEEK</th>\n",
       "      <th>CRASH_MONTH</th>\n",
       "      <th>LATITUDE</th>\n",
       "      <th>LONGITUDE</th>\n",
       "      <th>LOCATION</th>\n",
       "      <th>STREET_TYPE</th>\n",
       "      <th>TRAFFIC_CONTROL_PRESENT</th>\n",
       "    </tr>\n",
       "  </thead>\n",
       "  <tbody>\n",
       "    <tr>\n",
       "      <th>2</th>\n",
       "      <td>2</td>\n",
       "      <td>009e9e67203442370272e1a13d6ee51a4155dac65e583d...</td>\n",
       "      <td>JA329216</td>\n",
       "      <td>06/30/2017 04:00:00 PM</td>\n",
       "      <td>35.0</td>\n",
       "      <td>STOP SIGN/FLASHER</td>\n",
       "      <td>FUNCTIONING PROPERLY</td>\n",
       "      <td>CLEAR</td>\n",
       "      <td>DAYLIGHT</td>\n",
       "      <td>TURNING</td>\n",
       "      <td>...</td>\n",
       "      <td>3.0</td>\n",
       "      <td>0.0</td>\n",
       "      <td>16</td>\n",
       "      <td>6</td>\n",
       "      <td>6</td>\n",
       "      <td>41.741804</td>\n",
       "      <td>-87.740954</td>\n",
       "      <td>POINT (-87.740953581987 41.741803598989)</td>\n",
       "      <td>AVE</td>\n",
       "      <td>1</td>\n",
       "    </tr>\n",
       "    <tr>\n",
       "      <th>3</th>\n",
       "      <td>3</td>\n",
       "      <td>00e47f189660cd8ba1e85fc63061bf1d8465184393f134...</td>\n",
       "      <td>JC194776</td>\n",
       "      <td>03/21/2019 10:50:00 PM</td>\n",
       "      <td>30.0</td>\n",
       "      <td>TRAFFIC SIGNAL</td>\n",
       "      <td>FUNCTIONING PROPERLY</td>\n",
       "      <td>CLEAR</td>\n",
       "      <td>DARKNESS, LIGHTED ROAD</td>\n",
       "      <td>TURNING</td>\n",
       "      <td>...</td>\n",
       "      <td>2.0</td>\n",
       "      <td>0.0</td>\n",
       "      <td>22</td>\n",
       "      <td>5</td>\n",
       "      <td>3</td>\n",
       "      <td>41.741804</td>\n",
       "      <td>-87.740954</td>\n",
       "      <td>POINT (-87.740953581987 41.741803598989)</td>\n",
       "      <td>AVE</td>\n",
       "      <td>1</td>\n",
       "    </tr>\n",
       "    <tr>\n",
       "      <th>4</th>\n",
       "      <td>4</td>\n",
       "      <td>0126747fc9ffc0edc9a38abb83d80034f897db0f739eef...</td>\n",
       "      <td>JB200478</td>\n",
       "      <td>03/26/2018 02:23:00 PM</td>\n",
       "      <td>35.0</td>\n",
       "      <td>NO CONTROLS</td>\n",
       "      <td>NO CONTROLS</td>\n",
       "      <td>CLEAR</td>\n",
       "      <td>DAYLIGHT</td>\n",
       "      <td>PARKED MOTOR VEHICLE</td>\n",
       "      <td>...</td>\n",
       "      <td>2.0</td>\n",
       "      <td>0.0</td>\n",
       "      <td>14</td>\n",
       "      <td>2</td>\n",
       "      <td>3</td>\n",
       "      <td>41.953647</td>\n",
       "      <td>-87.732082</td>\n",
       "      <td>POINT (-87.732081736006 41.953646899951)</td>\n",
       "      <td>AVE</td>\n",
       "      <td>0</td>\n",
       "    </tr>\n",
       "    <tr>\n",
       "      <th>5</th>\n",
       "      <td>5</td>\n",
       "      <td>5d672ce84d5b78346be822b388604bdf9cb3fa348a5adc...</td>\n",
       "      <td>JD158927</td>\n",
       "      <td>02/20/2020 04:45:00 PM</td>\n",
       "      <td>35.0</td>\n",
       "      <td>TRAFFIC SIGNAL</td>\n",
       "      <td>OTHER</td>\n",
       "      <td>CLEAR</td>\n",
       "      <td>DAWN</td>\n",
       "      <td>REAR END</td>\n",
       "      <td>...</td>\n",
       "      <td>2.0</td>\n",
       "      <td>0.0</td>\n",
       "      <td>16</td>\n",
       "      <td>5</td>\n",
       "      <td>2</td>\n",
       "      <td>41.958987</td>\n",
       "      <td>-87.933994</td>\n",
       "      <td>POINT (-87.933993928974 41.958986950953)</td>\n",
       "      <td>RD</td>\n",
       "      <td>1</td>\n",
       "    </tr>\n",
       "    <tr>\n",
       "      <th>6</th>\n",
       "      <td>6</td>\n",
       "      <td>0209e21f298984f7375742b7ef27c9880b485f41123a12...</td>\n",
       "      <td>JB415436</td>\n",
       "      <td>08/30/2018 05:45:00 PM</td>\n",
       "      <td>30.0</td>\n",
       "      <td>TRAFFIC SIGNAL</td>\n",
       "      <td>FUNCTIONING PROPERLY</td>\n",
       "      <td>CLEAR</td>\n",
       "      <td>DAYLIGHT</td>\n",
       "      <td>TURNING</td>\n",
       "      <td>...</td>\n",
       "      <td>2.0</td>\n",
       "      <td>0.0</td>\n",
       "      <td>17</td>\n",
       "      <td>5</td>\n",
       "      <td>8</td>\n",
       "      <td>41.903825</td>\n",
       "      <td>-87.643286</td>\n",
       "      <td>POINT (-87.643286359995 41.903825233976)</td>\n",
       "      <td>ST</td>\n",
       "      <td>1</td>\n",
       "    </tr>\n",
       "  </tbody>\n",
       "</table>\n",
       "<p>5 rows × 44 columns</p>\n",
       "</div>"
      ],
      "text/plain": [
       "   Unnamed: 0                                    CRASH_RECORD_ID     RD_NO  \\\n",
       "2           2  009e9e67203442370272e1a13d6ee51a4155dac65e583d...  JA329216   \n",
       "3           3  00e47f189660cd8ba1e85fc63061bf1d8465184393f134...  JC194776   \n",
       "4           4  0126747fc9ffc0edc9a38abb83d80034f897db0f739eef...  JB200478   \n",
       "5           5  5d672ce84d5b78346be822b388604bdf9cb3fa348a5adc...  JD158927   \n",
       "6           6  0209e21f298984f7375742b7ef27c9880b485f41123a12...  JB415436   \n",
       "\n",
       "               CRASH_DATE  POSTED_SPEED_LIMIT TRAFFIC_CONTROL_DEVICE  \\\n",
       "2  06/30/2017 04:00:00 PM                35.0      STOP SIGN/FLASHER   \n",
       "3  03/21/2019 10:50:00 PM                30.0         TRAFFIC SIGNAL   \n",
       "4  03/26/2018 02:23:00 PM                35.0            NO CONTROLS   \n",
       "5  02/20/2020 04:45:00 PM                35.0         TRAFFIC SIGNAL   \n",
       "6  08/30/2018 05:45:00 PM                30.0         TRAFFIC SIGNAL   \n",
       "\n",
       "       DEVICE_CONDITION WEATHER_CONDITION      LIGHTING_CONDITION  \\\n",
       "2  FUNCTIONING PROPERLY             CLEAR                DAYLIGHT   \n",
       "3  FUNCTIONING PROPERLY             CLEAR  DARKNESS, LIGHTED ROAD   \n",
       "4           NO CONTROLS             CLEAR                DAYLIGHT   \n",
       "5                 OTHER             CLEAR                    DAWN   \n",
       "6  FUNCTIONING PROPERLY             CLEAR                DAYLIGHT   \n",
       "\n",
       "       FIRST_CRASH_TYPE  ... INJURIES_NO_INDICATION  INJURIES_UNKNOWN  \\\n",
       "2               TURNING  ...                    3.0               0.0   \n",
       "3               TURNING  ...                    2.0               0.0   \n",
       "4  PARKED MOTOR VEHICLE  ...                    2.0               0.0   \n",
       "5              REAR END  ...                    2.0               0.0   \n",
       "6               TURNING  ...                    2.0               0.0   \n",
       "\n",
       "  CRASH_HOUR CRASH_DAY_OF_WEEK CRASH_MONTH   LATITUDE  LONGITUDE  \\\n",
       "2         16                 6           6  41.741804 -87.740954   \n",
       "3         22                 5           3  41.741804 -87.740954   \n",
       "4         14                 2           3  41.953647 -87.732082   \n",
       "5         16                 5           2  41.958987 -87.933994   \n",
       "6         17                 5           8  41.903825 -87.643286   \n",
       "\n",
       "                                   LOCATION  STREET_TYPE  \\\n",
       "2  POINT (-87.740953581987 41.741803598989)          AVE   \n",
       "3  POINT (-87.740953581987 41.741803598989)          AVE   \n",
       "4  POINT (-87.732081736006 41.953646899951)          AVE   \n",
       "5  POINT (-87.933993928974 41.958986950953)           RD   \n",
       "6  POINT (-87.643286359995 41.903825233976)           ST   \n",
       "\n",
       "  TRAFFIC_CONTROL_PRESENT  \n",
       "2                       1  \n",
       "3                       1  \n",
       "4                       0  \n",
       "5                       1  \n",
       "6                       1  \n",
       "\n",
       "[5 rows x 44 columns]"
      ]
     },
     "execution_count": 29,
     "metadata": {},
     "output_type": "execute_result"
    }
   ],
   "source": [
    "crashes.head()"
   ]
  },
  {
   "cell_type": "code",
   "execution_count": 30,
   "metadata": {
    "ExecuteTime": {
     "end_time": "2020-07-09T17:31:42.538765Z",
     "start_time": "2020-07-09T17:31:42.305150Z"
    }
   },
   "outputs": [],
   "source": [
    "crashes['STRAIGHT_ROAD'] = crashes['ALIGNMENT'].apply(lambda x: 1 if x.split()[0] == 'STRAIGHT' else 0)"
   ]
  },
  {
   "cell_type": "code",
   "execution_count": 31,
   "metadata": {
    "ExecuteTime": {
     "end_time": "2020-07-09T17:31:42.781309Z",
     "start_time": "2020-07-09T17:31:42.540254Z"
    }
   },
   "outputs": [],
   "source": [
    "crashes['LEVEL_ROAD'] = crashes['ALIGNMENT'].apply(lambda x: 1 if x.split()[-1] == 'LEVEL' else 0)"
   ]
  },
  {
   "cell_type": "code",
   "execution_count": 32,
   "metadata": {
    "ExecuteTime": {
     "end_time": "2020-07-09T17:31:42.805118Z",
     "start_time": "2020-07-09T17:31:42.782302Z"
    }
   },
   "outputs": [
    {
     "data": {
      "text/html": [
       "<div>\n",
       "<style scoped>\n",
       "    .dataframe tbody tr th:only-of-type {\n",
       "        vertical-align: middle;\n",
       "    }\n",
       "\n",
       "    .dataframe tbody tr th {\n",
       "        vertical-align: top;\n",
       "    }\n",
       "\n",
       "    .dataframe thead th {\n",
       "        text-align: right;\n",
       "    }\n",
       "</style>\n",
       "<table border=\"1\" class=\"dataframe\">\n",
       "  <thead>\n",
       "    <tr style=\"text-align: right;\">\n",
       "      <th></th>\n",
       "      <th>Unnamed: 0</th>\n",
       "      <th>CRASH_RECORD_ID</th>\n",
       "      <th>RD_NO</th>\n",
       "      <th>CRASH_DATE</th>\n",
       "      <th>POSTED_SPEED_LIMIT</th>\n",
       "      <th>TRAFFIC_CONTROL_DEVICE</th>\n",
       "      <th>DEVICE_CONDITION</th>\n",
       "      <th>WEATHER_CONDITION</th>\n",
       "      <th>LIGHTING_CONDITION</th>\n",
       "      <th>FIRST_CRASH_TYPE</th>\n",
       "      <th>...</th>\n",
       "      <th>CRASH_HOUR</th>\n",
       "      <th>CRASH_DAY_OF_WEEK</th>\n",
       "      <th>CRASH_MONTH</th>\n",
       "      <th>LATITUDE</th>\n",
       "      <th>LONGITUDE</th>\n",
       "      <th>LOCATION</th>\n",
       "      <th>STREET_TYPE</th>\n",
       "      <th>TRAFFIC_CONTROL_PRESENT</th>\n",
       "      <th>STRAIGHT_ROAD</th>\n",
       "      <th>LEVEL_ROAD</th>\n",
       "    </tr>\n",
       "  </thead>\n",
       "  <tbody>\n",
       "    <tr>\n",
       "      <th>2</th>\n",
       "      <td>2</td>\n",
       "      <td>009e9e67203442370272e1a13d6ee51a4155dac65e583d...</td>\n",
       "      <td>JA329216</td>\n",
       "      <td>06/30/2017 04:00:00 PM</td>\n",
       "      <td>35.0</td>\n",
       "      <td>STOP SIGN/FLASHER</td>\n",
       "      <td>FUNCTIONING PROPERLY</td>\n",
       "      <td>CLEAR</td>\n",
       "      <td>DAYLIGHT</td>\n",
       "      <td>TURNING</td>\n",
       "      <td>...</td>\n",
       "      <td>16</td>\n",
       "      <td>6</td>\n",
       "      <td>6</td>\n",
       "      <td>41.741804</td>\n",
       "      <td>-87.740954</td>\n",
       "      <td>POINT (-87.740953581987 41.741803598989)</td>\n",
       "      <td>AVE</td>\n",
       "      <td>1</td>\n",
       "      <td>1</td>\n",
       "      <td>1</td>\n",
       "    </tr>\n",
       "    <tr>\n",
       "      <th>3</th>\n",
       "      <td>3</td>\n",
       "      <td>00e47f189660cd8ba1e85fc63061bf1d8465184393f134...</td>\n",
       "      <td>JC194776</td>\n",
       "      <td>03/21/2019 10:50:00 PM</td>\n",
       "      <td>30.0</td>\n",
       "      <td>TRAFFIC SIGNAL</td>\n",
       "      <td>FUNCTIONING PROPERLY</td>\n",
       "      <td>CLEAR</td>\n",
       "      <td>DARKNESS, LIGHTED ROAD</td>\n",
       "      <td>TURNING</td>\n",
       "      <td>...</td>\n",
       "      <td>22</td>\n",
       "      <td>5</td>\n",
       "      <td>3</td>\n",
       "      <td>41.741804</td>\n",
       "      <td>-87.740954</td>\n",
       "      <td>POINT (-87.740953581987 41.741803598989)</td>\n",
       "      <td>AVE</td>\n",
       "      <td>1</td>\n",
       "      <td>1</td>\n",
       "      <td>1</td>\n",
       "    </tr>\n",
       "    <tr>\n",
       "      <th>4</th>\n",
       "      <td>4</td>\n",
       "      <td>0126747fc9ffc0edc9a38abb83d80034f897db0f739eef...</td>\n",
       "      <td>JB200478</td>\n",
       "      <td>03/26/2018 02:23:00 PM</td>\n",
       "      <td>35.0</td>\n",
       "      <td>NO CONTROLS</td>\n",
       "      <td>NO CONTROLS</td>\n",
       "      <td>CLEAR</td>\n",
       "      <td>DAYLIGHT</td>\n",
       "      <td>PARKED MOTOR VEHICLE</td>\n",
       "      <td>...</td>\n",
       "      <td>14</td>\n",
       "      <td>2</td>\n",
       "      <td>3</td>\n",
       "      <td>41.953647</td>\n",
       "      <td>-87.732082</td>\n",
       "      <td>POINT (-87.732081736006 41.953646899951)</td>\n",
       "      <td>AVE</td>\n",
       "      <td>0</td>\n",
       "      <td>1</td>\n",
       "      <td>1</td>\n",
       "    </tr>\n",
       "    <tr>\n",
       "      <th>5</th>\n",
       "      <td>5</td>\n",
       "      <td>5d672ce84d5b78346be822b388604bdf9cb3fa348a5adc...</td>\n",
       "      <td>JD158927</td>\n",
       "      <td>02/20/2020 04:45:00 PM</td>\n",
       "      <td>35.0</td>\n",
       "      <td>TRAFFIC SIGNAL</td>\n",
       "      <td>OTHER</td>\n",
       "      <td>CLEAR</td>\n",
       "      <td>DAWN</td>\n",
       "      <td>REAR END</td>\n",
       "      <td>...</td>\n",
       "      <td>16</td>\n",
       "      <td>5</td>\n",
       "      <td>2</td>\n",
       "      <td>41.958987</td>\n",
       "      <td>-87.933994</td>\n",
       "      <td>POINT (-87.933993928974 41.958986950953)</td>\n",
       "      <td>RD</td>\n",
       "      <td>1</td>\n",
       "      <td>1</td>\n",
       "      <td>1</td>\n",
       "    </tr>\n",
       "    <tr>\n",
       "      <th>6</th>\n",
       "      <td>6</td>\n",
       "      <td>0209e21f298984f7375742b7ef27c9880b485f41123a12...</td>\n",
       "      <td>JB415436</td>\n",
       "      <td>08/30/2018 05:45:00 PM</td>\n",
       "      <td>30.0</td>\n",
       "      <td>TRAFFIC SIGNAL</td>\n",
       "      <td>FUNCTIONING PROPERLY</td>\n",
       "      <td>CLEAR</td>\n",
       "      <td>DAYLIGHT</td>\n",
       "      <td>TURNING</td>\n",
       "      <td>...</td>\n",
       "      <td>17</td>\n",
       "      <td>5</td>\n",
       "      <td>8</td>\n",
       "      <td>41.903825</td>\n",
       "      <td>-87.643286</td>\n",
       "      <td>POINT (-87.643286359995 41.903825233976)</td>\n",
       "      <td>ST</td>\n",
       "      <td>1</td>\n",
       "      <td>1</td>\n",
       "      <td>1</td>\n",
       "    </tr>\n",
       "  </tbody>\n",
       "</table>\n",
       "<p>5 rows × 46 columns</p>\n",
       "</div>"
      ],
      "text/plain": [
       "   Unnamed: 0                                    CRASH_RECORD_ID     RD_NO  \\\n",
       "2           2  009e9e67203442370272e1a13d6ee51a4155dac65e583d...  JA329216   \n",
       "3           3  00e47f189660cd8ba1e85fc63061bf1d8465184393f134...  JC194776   \n",
       "4           4  0126747fc9ffc0edc9a38abb83d80034f897db0f739eef...  JB200478   \n",
       "5           5  5d672ce84d5b78346be822b388604bdf9cb3fa348a5adc...  JD158927   \n",
       "6           6  0209e21f298984f7375742b7ef27c9880b485f41123a12...  JB415436   \n",
       "\n",
       "               CRASH_DATE  POSTED_SPEED_LIMIT TRAFFIC_CONTROL_DEVICE  \\\n",
       "2  06/30/2017 04:00:00 PM                35.0      STOP SIGN/FLASHER   \n",
       "3  03/21/2019 10:50:00 PM                30.0         TRAFFIC SIGNAL   \n",
       "4  03/26/2018 02:23:00 PM                35.0            NO CONTROLS   \n",
       "5  02/20/2020 04:45:00 PM                35.0         TRAFFIC SIGNAL   \n",
       "6  08/30/2018 05:45:00 PM                30.0         TRAFFIC SIGNAL   \n",
       "\n",
       "       DEVICE_CONDITION WEATHER_CONDITION      LIGHTING_CONDITION  \\\n",
       "2  FUNCTIONING PROPERLY             CLEAR                DAYLIGHT   \n",
       "3  FUNCTIONING PROPERLY             CLEAR  DARKNESS, LIGHTED ROAD   \n",
       "4           NO CONTROLS             CLEAR                DAYLIGHT   \n",
       "5                 OTHER             CLEAR                    DAWN   \n",
       "6  FUNCTIONING PROPERLY             CLEAR                DAYLIGHT   \n",
       "\n",
       "       FIRST_CRASH_TYPE  ... CRASH_HOUR  CRASH_DAY_OF_WEEK CRASH_MONTH  \\\n",
       "2               TURNING  ...         16                  6           6   \n",
       "3               TURNING  ...         22                  5           3   \n",
       "4  PARKED MOTOR VEHICLE  ...         14                  2           3   \n",
       "5              REAR END  ...         16                  5           2   \n",
       "6               TURNING  ...         17                  5           8   \n",
       "\n",
       "    LATITUDE  LONGITUDE                                  LOCATION STREET_TYPE  \\\n",
       "2  41.741804 -87.740954  POINT (-87.740953581987 41.741803598989)         AVE   \n",
       "3  41.741804 -87.740954  POINT (-87.740953581987 41.741803598989)         AVE   \n",
       "4  41.953647 -87.732082  POINT (-87.732081736006 41.953646899951)         AVE   \n",
       "5  41.958987 -87.933994  POINT (-87.933993928974 41.958986950953)          RD   \n",
       "6  41.903825 -87.643286  POINT (-87.643286359995 41.903825233976)          ST   \n",
       "\n",
       "  TRAFFIC_CONTROL_PRESENT  STRAIGHT_ROAD LEVEL_ROAD  \n",
       "2                       1              1          1  \n",
       "3                       1              1          1  \n",
       "4                       0              1          1  \n",
       "5                       1              1          1  \n",
       "6                       1              1          1  \n",
       "\n",
       "[5 rows x 46 columns]"
      ]
     },
     "execution_count": 32,
     "metadata": {},
     "output_type": "execute_result"
    }
   ],
   "source": [
    "crashes.head()"
   ]
  },
  {
   "cell_type": "code",
   "execution_count": 33,
   "metadata": {
    "ExecuteTime": {
     "end_time": "2020-07-09T17:32:18.057814Z",
     "start_time": "2020-07-09T17:31:42.807102Z"
    }
   },
   "outputs": [],
   "source": [
    "crashes['CRASH_DATE'] = pd.to_datetime(crashes['CRASH_DATE'], infer_datetime_format = True)"
   ]
  },
  {
   "cell_type": "code",
   "execution_count": 34,
   "metadata": {
    "ExecuteTime": {
     "end_time": "2020-07-09T17:32:18.455110Z",
     "start_time": "2020-07-09T17:32:18.059303Z"
    }
   },
   "outputs": [
    {
     "name": "stdout",
     "output_type": "stream",
     "text": [
      "<class 'pandas.core.frame.DataFrame'>\n",
      "Int64Index: 398194 entries, 2 to 416197\n",
      "Data columns (total 46 columns):\n",
      " #   Column                         Non-Null Count   Dtype         \n",
      "---  ------                         --------------   -----         \n",
      " 0   Unnamed: 0                     398194 non-null  int64         \n",
      " 1   CRASH_RECORD_ID                398194 non-null  object        \n",
      " 2   RD_NO                          398194 non-null  object        \n",
      " 3   CRASH_DATE                     398194 non-null  datetime64[ns]\n",
      " 4   POSTED_SPEED_LIMIT             398194 non-null  float64       \n",
      " 5   TRAFFIC_CONTROL_DEVICE         398194 non-null  object        \n",
      " 6   DEVICE_CONDITION               398194 non-null  object        \n",
      " 7   WEATHER_CONDITION              398194 non-null  object        \n",
      " 8   LIGHTING_CONDITION             398194 non-null  object        \n",
      " 9   FIRST_CRASH_TYPE               398194 non-null  object        \n",
      " 10  TRAFFICWAY_TYPE                398194 non-null  object        \n",
      " 11  LANE_CNT                       192696 non-null  float64       \n",
      " 12  ALIGNMENT                      398194 non-null  object        \n",
      " 13  ROADWAY_SURFACE_COND           398194 non-null  object        \n",
      " 14  ROAD_DEFECT                    398194 non-null  object        \n",
      " 15  REPORT_TYPE                    398194 non-null  object        \n",
      " 16  CRASH_TYPE                     398194 non-null  object        \n",
      " 17  INTERSECTION_RELATED_I         88527 non-null   object        \n",
      " 18  HIT_AND_RUN_I                  398194 non-null  int64         \n",
      " 19  DAMAGE                         398194 non-null  object        \n",
      " 20  DATE_POLICE_NOTIFIED           398194 non-null  object        \n",
      " 21  PRIM_CONTRIBUTORY_CAUSE        398194 non-null  object        \n",
      " 22  SEC_CONTRIBUTORY_CAUSE         398194 non-null  object        \n",
      " 23  STREET_NO                      398194 non-null  int64         \n",
      " 24  STREET_DIRECTION               398194 non-null  object        \n",
      " 25  STREET_NAME                    398194 non-null  object        \n",
      " 26  BEAT_OF_OCCURRENCE             398194 non-null  float64       \n",
      " 27  NUM_UNITS                      398194 non-null  float64       \n",
      " 28  MOST_SEVERE_INJURY             398194 non-null  object        \n",
      " 29  INJURIES_TOTAL                 398194 non-null  float64       \n",
      " 30  INJURIES_FATAL                 398194 non-null  float64       \n",
      " 31  INJURIES_INCAPACITATING        398194 non-null  float64       \n",
      " 32  INJURIES_NON_INCAPACITATING    398194 non-null  float64       \n",
      " 33  INJURIES_REPORTED_NOT_EVIDENT  398194 non-null  float64       \n",
      " 34  INJURIES_NO_INDICATION         398194 non-null  float64       \n",
      " 35  INJURIES_UNKNOWN               398194 non-null  float64       \n",
      " 36  CRASH_HOUR                     398194 non-null  int64         \n",
      " 37  CRASH_DAY_OF_WEEK              398194 non-null  int64         \n",
      " 38  CRASH_MONTH                    398194 non-null  int64         \n",
      " 39  LATITUDE                       398194 non-null  float64       \n",
      " 40  LONGITUDE                      398194 non-null  float64       \n",
      " 41  LOCATION                       398194 non-null  object        \n",
      " 42  STREET_TYPE                    398194 non-null  object        \n",
      " 43  TRAFFIC_CONTROL_PRESENT        398194 non-null  int64         \n",
      " 44  STRAIGHT_ROAD                  398194 non-null  int64         \n",
      " 45  LEVEL_ROAD                     398194 non-null  int64         \n",
      "dtypes: datetime64[ns](1), float64(13), int64(9), object(23)\n",
      "memory usage: 142.8+ MB\n"
     ]
    }
   ],
   "source": [
    "crashes.info()"
   ]
  },
  {
   "cell_type": "code",
   "execution_count": 35,
   "metadata": {
    "ExecuteTime": {
     "end_time": "2020-07-09T17:32:18.478918Z",
     "start_time": "2020-07-09T17:32:18.456598Z"
    }
   },
   "outputs": [
    {
     "data": {
      "text/html": [
       "<div>\n",
       "<style scoped>\n",
       "    .dataframe tbody tr th:only-of-type {\n",
       "        vertical-align: middle;\n",
       "    }\n",
       "\n",
       "    .dataframe tbody tr th {\n",
       "        vertical-align: top;\n",
       "    }\n",
       "\n",
       "    .dataframe thead th {\n",
       "        text-align: right;\n",
       "    }\n",
       "</style>\n",
       "<table border=\"1\" class=\"dataframe\">\n",
       "  <thead>\n",
       "    <tr style=\"text-align: right;\">\n",
       "      <th></th>\n",
       "      <th>Unnamed: 0</th>\n",
       "      <th>CRASH_RECORD_ID</th>\n",
       "      <th>RD_NO</th>\n",
       "      <th>CRASH_DATE</th>\n",
       "      <th>POSTED_SPEED_LIMIT</th>\n",
       "      <th>TRAFFIC_CONTROL_DEVICE</th>\n",
       "      <th>DEVICE_CONDITION</th>\n",
       "      <th>WEATHER_CONDITION</th>\n",
       "      <th>LIGHTING_CONDITION</th>\n",
       "      <th>FIRST_CRASH_TYPE</th>\n",
       "      <th>...</th>\n",
       "      <th>CRASH_HOUR</th>\n",
       "      <th>CRASH_DAY_OF_WEEK</th>\n",
       "      <th>CRASH_MONTH</th>\n",
       "      <th>LATITUDE</th>\n",
       "      <th>LONGITUDE</th>\n",
       "      <th>LOCATION</th>\n",
       "      <th>STREET_TYPE</th>\n",
       "      <th>TRAFFIC_CONTROL_PRESENT</th>\n",
       "      <th>STRAIGHT_ROAD</th>\n",
       "      <th>LEVEL_ROAD</th>\n",
       "    </tr>\n",
       "  </thead>\n",
       "  <tbody>\n",
       "    <tr>\n",
       "      <th>2</th>\n",
       "      <td>2</td>\n",
       "      <td>009e9e67203442370272e1a13d6ee51a4155dac65e583d...</td>\n",
       "      <td>JA329216</td>\n",
       "      <td>2017-06-30 16:00:00</td>\n",
       "      <td>35.0</td>\n",
       "      <td>STOP SIGN/FLASHER</td>\n",
       "      <td>FUNCTIONING PROPERLY</td>\n",
       "      <td>CLEAR</td>\n",
       "      <td>DAYLIGHT</td>\n",
       "      <td>TURNING</td>\n",
       "      <td>...</td>\n",
       "      <td>16</td>\n",
       "      <td>6</td>\n",
       "      <td>6</td>\n",
       "      <td>41.741804</td>\n",
       "      <td>-87.740954</td>\n",
       "      <td>POINT (-87.740953581987 41.741803598989)</td>\n",
       "      <td>AVE</td>\n",
       "      <td>1</td>\n",
       "      <td>1</td>\n",
       "      <td>1</td>\n",
       "    </tr>\n",
       "    <tr>\n",
       "      <th>3</th>\n",
       "      <td>3</td>\n",
       "      <td>00e47f189660cd8ba1e85fc63061bf1d8465184393f134...</td>\n",
       "      <td>JC194776</td>\n",
       "      <td>2019-03-21 22:50:00</td>\n",
       "      <td>30.0</td>\n",
       "      <td>TRAFFIC SIGNAL</td>\n",
       "      <td>FUNCTIONING PROPERLY</td>\n",
       "      <td>CLEAR</td>\n",
       "      <td>DARKNESS, LIGHTED ROAD</td>\n",
       "      <td>TURNING</td>\n",
       "      <td>...</td>\n",
       "      <td>22</td>\n",
       "      <td>5</td>\n",
       "      <td>3</td>\n",
       "      <td>41.741804</td>\n",
       "      <td>-87.740954</td>\n",
       "      <td>POINT (-87.740953581987 41.741803598989)</td>\n",
       "      <td>AVE</td>\n",
       "      <td>1</td>\n",
       "      <td>1</td>\n",
       "      <td>1</td>\n",
       "    </tr>\n",
       "    <tr>\n",
       "      <th>4</th>\n",
       "      <td>4</td>\n",
       "      <td>0126747fc9ffc0edc9a38abb83d80034f897db0f739eef...</td>\n",
       "      <td>JB200478</td>\n",
       "      <td>2018-03-26 14:23:00</td>\n",
       "      <td>35.0</td>\n",
       "      <td>NO CONTROLS</td>\n",
       "      <td>NO CONTROLS</td>\n",
       "      <td>CLEAR</td>\n",
       "      <td>DAYLIGHT</td>\n",
       "      <td>PARKED MOTOR VEHICLE</td>\n",
       "      <td>...</td>\n",
       "      <td>14</td>\n",
       "      <td>2</td>\n",
       "      <td>3</td>\n",
       "      <td>41.953647</td>\n",
       "      <td>-87.732082</td>\n",
       "      <td>POINT (-87.732081736006 41.953646899951)</td>\n",
       "      <td>AVE</td>\n",
       "      <td>0</td>\n",
       "      <td>1</td>\n",
       "      <td>1</td>\n",
       "    </tr>\n",
       "    <tr>\n",
       "      <th>5</th>\n",
       "      <td>5</td>\n",
       "      <td>5d672ce84d5b78346be822b388604bdf9cb3fa348a5adc...</td>\n",
       "      <td>JD158927</td>\n",
       "      <td>2020-02-20 16:45:00</td>\n",
       "      <td>35.0</td>\n",
       "      <td>TRAFFIC SIGNAL</td>\n",
       "      <td>OTHER</td>\n",
       "      <td>CLEAR</td>\n",
       "      <td>DAWN</td>\n",
       "      <td>REAR END</td>\n",
       "      <td>...</td>\n",
       "      <td>16</td>\n",
       "      <td>5</td>\n",
       "      <td>2</td>\n",
       "      <td>41.958987</td>\n",
       "      <td>-87.933994</td>\n",
       "      <td>POINT (-87.933993928974 41.958986950953)</td>\n",
       "      <td>RD</td>\n",
       "      <td>1</td>\n",
       "      <td>1</td>\n",
       "      <td>1</td>\n",
       "    </tr>\n",
       "    <tr>\n",
       "      <th>6</th>\n",
       "      <td>6</td>\n",
       "      <td>0209e21f298984f7375742b7ef27c9880b485f41123a12...</td>\n",
       "      <td>JB415436</td>\n",
       "      <td>2018-08-30 17:45:00</td>\n",
       "      <td>30.0</td>\n",
       "      <td>TRAFFIC SIGNAL</td>\n",
       "      <td>FUNCTIONING PROPERLY</td>\n",
       "      <td>CLEAR</td>\n",
       "      <td>DAYLIGHT</td>\n",
       "      <td>TURNING</td>\n",
       "      <td>...</td>\n",
       "      <td>17</td>\n",
       "      <td>5</td>\n",
       "      <td>8</td>\n",
       "      <td>41.903825</td>\n",
       "      <td>-87.643286</td>\n",
       "      <td>POINT (-87.643286359995 41.903825233976)</td>\n",
       "      <td>ST</td>\n",
       "      <td>1</td>\n",
       "      <td>1</td>\n",
       "      <td>1</td>\n",
       "    </tr>\n",
       "  </tbody>\n",
       "</table>\n",
       "<p>5 rows × 46 columns</p>\n",
       "</div>"
      ],
      "text/plain": [
       "   Unnamed: 0                                    CRASH_RECORD_ID     RD_NO  \\\n",
       "2           2  009e9e67203442370272e1a13d6ee51a4155dac65e583d...  JA329216   \n",
       "3           3  00e47f189660cd8ba1e85fc63061bf1d8465184393f134...  JC194776   \n",
       "4           4  0126747fc9ffc0edc9a38abb83d80034f897db0f739eef...  JB200478   \n",
       "5           5  5d672ce84d5b78346be822b388604bdf9cb3fa348a5adc...  JD158927   \n",
       "6           6  0209e21f298984f7375742b7ef27c9880b485f41123a12...  JB415436   \n",
       "\n",
       "           CRASH_DATE  POSTED_SPEED_LIMIT TRAFFIC_CONTROL_DEVICE  \\\n",
       "2 2017-06-30 16:00:00                35.0      STOP SIGN/FLASHER   \n",
       "3 2019-03-21 22:50:00                30.0         TRAFFIC SIGNAL   \n",
       "4 2018-03-26 14:23:00                35.0            NO CONTROLS   \n",
       "5 2020-02-20 16:45:00                35.0         TRAFFIC SIGNAL   \n",
       "6 2018-08-30 17:45:00                30.0         TRAFFIC SIGNAL   \n",
       "\n",
       "       DEVICE_CONDITION WEATHER_CONDITION      LIGHTING_CONDITION  \\\n",
       "2  FUNCTIONING PROPERLY             CLEAR                DAYLIGHT   \n",
       "3  FUNCTIONING PROPERLY             CLEAR  DARKNESS, LIGHTED ROAD   \n",
       "4           NO CONTROLS             CLEAR                DAYLIGHT   \n",
       "5                 OTHER             CLEAR                    DAWN   \n",
       "6  FUNCTIONING PROPERLY             CLEAR                DAYLIGHT   \n",
       "\n",
       "       FIRST_CRASH_TYPE  ... CRASH_HOUR  CRASH_DAY_OF_WEEK CRASH_MONTH  \\\n",
       "2               TURNING  ...         16                  6           6   \n",
       "3               TURNING  ...         22                  5           3   \n",
       "4  PARKED MOTOR VEHICLE  ...         14                  2           3   \n",
       "5              REAR END  ...         16                  5           2   \n",
       "6               TURNING  ...         17                  5           8   \n",
       "\n",
       "    LATITUDE  LONGITUDE                                  LOCATION STREET_TYPE  \\\n",
       "2  41.741804 -87.740954  POINT (-87.740953581987 41.741803598989)         AVE   \n",
       "3  41.741804 -87.740954  POINT (-87.740953581987 41.741803598989)         AVE   \n",
       "4  41.953647 -87.732082  POINT (-87.732081736006 41.953646899951)         AVE   \n",
       "5  41.958987 -87.933994  POINT (-87.933993928974 41.958986950953)          RD   \n",
       "6  41.903825 -87.643286  POINT (-87.643286359995 41.903825233976)          ST   \n",
       "\n",
       "  TRAFFIC_CONTROL_PRESENT  STRAIGHT_ROAD LEVEL_ROAD  \n",
       "2                       1              1          1  \n",
       "3                       1              1          1  \n",
       "4                       0              1          1  \n",
       "5                       1              1          1  \n",
       "6                       1              1          1  \n",
       "\n",
       "[5 rows x 46 columns]"
      ]
     },
     "execution_count": 35,
     "metadata": {},
     "output_type": "execute_result"
    }
   ],
   "source": [
    "crashes.head()"
   ]
  },
  {
   "cell_type": "code",
   "execution_count": 36,
   "metadata": {
    "ExecuteTime": {
     "end_time": "2020-07-09T17:32:53.799070Z",
     "start_time": "2020-07-09T17:32:18.480902Z"
    }
   },
   "outputs": [],
   "source": [
    "crashes['DATE_POLICE_NOTIFIED'] = pd.to_datetime(crashes['DATE_POLICE_NOTIFIED'], infer_datetime_format = True)"
   ]
  },
  {
   "cell_type": "code",
   "execution_count": 37,
   "metadata": {
    "ExecuteTime": {
     "end_time": "2020-07-09T17:32:53.833790Z",
     "start_time": "2020-07-09T17:32:53.800559Z"
    }
   },
   "outputs": [],
   "source": [
    "crashes['TIME_BEFORE_NOTIFICATION'] = (crashes['DATE_POLICE_NOTIFIED'] - crashes['CRASH_DATE']).dt.total_seconds() / 60"
   ]
  },
  {
   "cell_type": "code",
   "execution_count": 38,
   "metadata": {
    "ExecuteTime": {
     "end_time": "2020-07-09T17:32:53.868014Z",
     "start_time": "2020-07-09T17:32:53.835775Z"
    }
   },
   "outputs": [
    {
     "data": {
      "text/html": [
       "<div>\n",
       "<style scoped>\n",
       "    .dataframe tbody tr th:only-of-type {\n",
       "        vertical-align: middle;\n",
       "    }\n",
       "\n",
       "    .dataframe tbody tr th {\n",
       "        vertical-align: top;\n",
       "    }\n",
       "\n",
       "    .dataframe thead th {\n",
       "        text-align: right;\n",
       "    }\n",
       "</style>\n",
       "<table border=\"1\" class=\"dataframe\">\n",
       "  <thead>\n",
       "    <tr style=\"text-align: right;\">\n",
       "      <th></th>\n",
       "      <th>Unnamed: 0</th>\n",
       "      <th>CRASH_RECORD_ID</th>\n",
       "      <th>RD_NO</th>\n",
       "      <th>CRASH_DATE</th>\n",
       "      <th>POSTED_SPEED_LIMIT</th>\n",
       "      <th>TRAFFIC_CONTROL_DEVICE</th>\n",
       "      <th>DEVICE_CONDITION</th>\n",
       "      <th>WEATHER_CONDITION</th>\n",
       "      <th>LIGHTING_CONDITION</th>\n",
       "      <th>FIRST_CRASH_TYPE</th>\n",
       "      <th>...</th>\n",
       "      <th>CRASH_DAY_OF_WEEK</th>\n",
       "      <th>CRASH_MONTH</th>\n",
       "      <th>LATITUDE</th>\n",
       "      <th>LONGITUDE</th>\n",
       "      <th>LOCATION</th>\n",
       "      <th>STREET_TYPE</th>\n",
       "      <th>TRAFFIC_CONTROL_PRESENT</th>\n",
       "      <th>STRAIGHT_ROAD</th>\n",
       "      <th>LEVEL_ROAD</th>\n",
       "      <th>TIME_BEFORE_NOTIFICATION</th>\n",
       "    </tr>\n",
       "  </thead>\n",
       "  <tbody>\n",
       "    <tr>\n",
       "      <th>2</th>\n",
       "      <td>2</td>\n",
       "      <td>009e9e67203442370272e1a13d6ee51a4155dac65e583d...</td>\n",
       "      <td>JA329216</td>\n",
       "      <td>2017-06-30 16:00:00</td>\n",
       "      <td>35.0</td>\n",
       "      <td>STOP SIGN/FLASHER</td>\n",
       "      <td>FUNCTIONING PROPERLY</td>\n",
       "      <td>CLEAR</td>\n",
       "      <td>DAYLIGHT</td>\n",
       "      <td>TURNING</td>\n",
       "      <td>...</td>\n",
       "      <td>6</td>\n",
       "      <td>6</td>\n",
       "      <td>41.741804</td>\n",
       "      <td>-87.740954</td>\n",
       "      <td>POINT (-87.740953581987 41.741803598989)</td>\n",
       "      <td>AVE</td>\n",
       "      <td>1</td>\n",
       "      <td>1</td>\n",
       "      <td>1</td>\n",
       "      <td>1.0</td>\n",
       "    </tr>\n",
       "    <tr>\n",
       "      <th>3</th>\n",
       "      <td>3</td>\n",
       "      <td>00e47f189660cd8ba1e85fc63061bf1d8465184393f134...</td>\n",
       "      <td>JC194776</td>\n",
       "      <td>2019-03-21 22:50:00</td>\n",
       "      <td>30.0</td>\n",
       "      <td>TRAFFIC SIGNAL</td>\n",
       "      <td>FUNCTIONING PROPERLY</td>\n",
       "      <td>CLEAR</td>\n",
       "      <td>DARKNESS, LIGHTED ROAD</td>\n",
       "      <td>TURNING</td>\n",
       "      <td>...</td>\n",
       "      <td>5</td>\n",
       "      <td>3</td>\n",
       "      <td>41.741804</td>\n",
       "      <td>-87.740954</td>\n",
       "      <td>POINT (-87.740953581987 41.741803598989)</td>\n",
       "      <td>AVE</td>\n",
       "      <td>1</td>\n",
       "      <td>1</td>\n",
       "      <td>1</td>\n",
       "      <td>2.0</td>\n",
       "    </tr>\n",
       "    <tr>\n",
       "      <th>4</th>\n",
       "      <td>4</td>\n",
       "      <td>0126747fc9ffc0edc9a38abb83d80034f897db0f739eef...</td>\n",
       "      <td>JB200478</td>\n",
       "      <td>2018-03-26 14:23:00</td>\n",
       "      <td>35.0</td>\n",
       "      <td>NO CONTROLS</td>\n",
       "      <td>NO CONTROLS</td>\n",
       "      <td>CLEAR</td>\n",
       "      <td>DAYLIGHT</td>\n",
       "      <td>PARKED MOTOR VEHICLE</td>\n",
       "      <td>...</td>\n",
       "      <td>2</td>\n",
       "      <td>3</td>\n",
       "      <td>41.953647</td>\n",
       "      <td>-87.732082</td>\n",
       "      <td>POINT (-87.732081736006 41.953646899951)</td>\n",
       "      <td>AVE</td>\n",
       "      <td>0</td>\n",
       "      <td>1</td>\n",
       "      <td>1</td>\n",
       "      <td>57.0</td>\n",
       "    </tr>\n",
       "    <tr>\n",
       "      <th>5</th>\n",
       "      <td>5</td>\n",
       "      <td>5d672ce84d5b78346be822b388604bdf9cb3fa348a5adc...</td>\n",
       "      <td>JD158927</td>\n",
       "      <td>2020-02-20 16:45:00</td>\n",
       "      <td>35.0</td>\n",
       "      <td>TRAFFIC SIGNAL</td>\n",
       "      <td>OTHER</td>\n",
       "      <td>CLEAR</td>\n",
       "      <td>DAWN</td>\n",
       "      <td>REAR END</td>\n",
       "      <td>...</td>\n",
       "      <td>5</td>\n",
       "      <td>2</td>\n",
       "      <td>41.958987</td>\n",
       "      <td>-87.933994</td>\n",
       "      <td>POINT (-87.933993928974 41.958986950953)</td>\n",
       "      <td>RD</td>\n",
       "      <td>1</td>\n",
       "      <td>1</td>\n",
       "      <td>1</td>\n",
       "      <td>6.0</td>\n",
       "    </tr>\n",
       "    <tr>\n",
       "      <th>6</th>\n",
       "      <td>6</td>\n",
       "      <td>0209e21f298984f7375742b7ef27c9880b485f41123a12...</td>\n",
       "      <td>JB415436</td>\n",
       "      <td>2018-08-30 17:45:00</td>\n",
       "      <td>30.0</td>\n",
       "      <td>TRAFFIC SIGNAL</td>\n",
       "      <td>FUNCTIONING PROPERLY</td>\n",
       "      <td>CLEAR</td>\n",
       "      <td>DAYLIGHT</td>\n",
       "      <td>TURNING</td>\n",
       "      <td>...</td>\n",
       "      <td>5</td>\n",
       "      <td>8</td>\n",
       "      <td>41.903825</td>\n",
       "      <td>-87.643286</td>\n",
       "      <td>POINT (-87.643286359995 41.903825233976)</td>\n",
       "      <td>ST</td>\n",
       "      <td>1</td>\n",
       "      <td>1</td>\n",
       "      <td>1</td>\n",
       "      <td>13.0</td>\n",
       "    </tr>\n",
       "  </tbody>\n",
       "</table>\n",
       "<p>5 rows × 47 columns</p>\n",
       "</div>"
      ],
      "text/plain": [
       "   Unnamed: 0                                    CRASH_RECORD_ID     RD_NO  \\\n",
       "2           2  009e9e67203442370272e1a13d6ee51a4155dac65e583d...  JA329216   \n",
       "3           3  00e47f189660cd8ba1e85fc63061bf1d8465184393f134...  JC194776   \n",
       "4           4  0126747fc9ffc0edc9a38abb83d80034f897db0f739eef...  JB200478   \n",
       "5           5  5d672ce84d5b78346be822b388604bdf9cb3fa348a5adc...  JD158927   \n",
       "6           6  0209e21f298984f7375742b7ef27c9880b485f41123a12...  JB415436   \n",
       "\n",
       "           CRASH_DATE  POSTED_SPEED_LIMIT TRAFFIC_CONTROL_DEVICE  \\\n",
       "2 2017-06-30 16:00:00                35.0      STOP SIGN/FLASHER   \n",
       "3 2019-03-21 22:50:00                30.0         TRAFFIC SIGNAL   \n",
       "4 2018-03-26 14:23:00                35.0            NO CONTROLS   \n",
       "5 2020-02-20 16:45:00                35.0         TRAFFIC SIGNAL   \n",
       "6 2018-08-30 17:45:00                30.0         TRAFFIC SIGNAL   \n",
       "\n",
       "       DEVICE_CONDITION WEATHER_CONDITION      LIGHTING_CONDITION  \\\n",
       "2  FUNCTIONING PROPERLY             CLEAR                DAYLIGHT   \n",
       "3  FUNCTIONING PROPERLY             CLEAR  DARKNESS, LIGHTED ROAD   \n",
       "4           NO CONTROLS             CLEAR                DAYLIGHT   \n",
       "5                 OTHER             CLEAR                    DAWN   \n",
       "6  FUNCTIONING PROPERLY             CLEAR                DAYLIGHT   \n",
       "\n",
       "       FIRST_CRASH_TYPE  ... CRASH_DAY_OF_WEEK  CRASH_MONTH   LATITUDE  \\\n",
       "2               TURNING  ...                 6            6  41.741804   \n",
       "3               TURNING  ...                 5            3  41.741804   \n",
       "4  PARKED MOTOR VEHICLE  ...                 2            3  41.953647   \n",
       "5              REAR END  ...                 5            2  41.958987   \n",
       "6               TURNING  ...                 5            8  41.903825   \n",
       "\n",
       "   LONGITUDE                                  LOCATION STREET_TYPE  \\\n",
       "2 -87.740954  POINT (-87.740953581987 41.741803598989)         AVE   \n",
       "3 -87.740954  POINT (-87.740953581987 41.741803598989)         AVE   \n",
       "4 -87.732082  POINT (-87.732081736006 41.953646899951)         AVE   \n",
       "5 -87.933994  POINT (-87.933993928974 41.958986950953)          RD   \n",
       "6 -87.643286  POINT (-87.643286359995 41.903825233976)          ST   \n",
       "\n",
       "  TRAFFIC_CONTROL_PRESENT STRAIGHT_ROAD  LEVEL_ROAD TIME_BEFORE_NOTIFICATION  \n",
       "2                       1             1           1                      1.0  \n",
       "3                       1             1           1                      2.0  \n",
       "4                       0             1           1                     57.0  \n",
       "5                       1             1           1                      6.0  \n",
       "6                       1             1           1                     13.0  \n",
       "\n",
       "[5 rows x 47 columns]"
      ]
     },
     "execution_count": 38,
     "metadata": {},
     "output_type": "execute_result"
    }
   ],
   "source": [
    "crashes.head()"
   ]
  },
  {
   "cell_type": "code",
   "execution_count": 39,
   "metadata": {
    "ExecuteTime": {
     "end_time": "2020-07-09T17:32:53.905711Z",
     "start_time": "2020-07-09T17:32:53.869999Z"
    }
   },
   "outputs": [
    {
     "data": {
      "text/plain": [
       "count    3.981940e+05\n",
       "mean     9.482939e+02\n",
       "std      1.292667e+04\n",
       "min     -5.700000e+01\n",
       "25%      7.000000e+00\n",
       "50%      3.500000e+01\n",
       "75%      1.500000e+02\n",
       "max      3.155041e+06\n",
       "Name: TIME_BEFORE_NOTIFICATION, dtype: float64"
      ]
     },
     "execution_count": 39,
     "metadata": {},
     "output_type": "execute_result"
    }
   ],
   "source": [
    "crashes['TIME_BEFORE_NOTIFICATION'].describe()"
   ]
  },
  {
   "cell_type": "markdown",
   "metadata": {},
   "source": [
    "### Alright, we've created some new features!\n",
    "\n",
    "Lets take a look at what our data will look like if we filter out some outliers for one of our new columns"
   ]
  },
  {
   "cell_type": "code",
   "execution_count": 40,
   "metadata": {
    "ExecuteTime": {
     "end_time": "2020-07-09T17:32:54.090718Z",
     "start_time": "2020-07-09T17:32:53.907199Z"
    }
   },
   "outputs": [],
   "source": [
    "test = crashes[crashes['TIME_BEFORE_NOTIFICATION'].between(crashes['TIME_BEFORE_NOTIFICATION'].quantile(.1), crashes['TIME_BEFORE_NOTIFICATION'].quantile(.9))]"
   ]
  },
  {
   "cell_type": "code",
   "execution_count": 41,
   "metadata": {
    "ExecuteTime": {
     "end_time": "2020-07-09T17:32:54.404686Z",
     "start_time": "2020-07-09T17:32:54.092207Z"
    }
   },
   "outputs": [
    {
     "name": "stdout",
     "output_type": "stream",
     "text": [
      "<class 'pandas.core.frame.DataFrame'>\n",
      "Int64Index: 330939 entries, 2 to 416197\n",
      "Data columns (total 47 columns):\n",
      " #   Column                         Non-Null Count   Dtype         \n",
      "---  ------                         --------------   -----         \n",
      " 0   Unnamed: 0                     330939 non-null  int64         \n",
      " 1   CRASH_RECORD_ID                330939 non-null  object        \n",
      " 2   RD_NO                          330939 non-null  object        \n",
      " 3   CRASH_DATE                     330939 non-null  datetime64[ns]\n",
      " 4   POSTED_SPEED_LIMIT             330939 non-null  float64       \n",
      " 5   TRAFFIC_CONTROL_DEVICE         330939 non-null  object        \n",
      " 6   DEVICE_CONDITION               330939 non-null  object        \n",
      " 7   WEATHER_CONDITION              330939 non-null  object        \n",
      " 8   LIGHTING_CONDITION             330939 non-null  object        \n",
      " 9   FIRST_CRASH_TYPE               330939 non-null  object        \n",
      " 10  TRAFFICWAY_TYPE                330939 non-null  object        \n",
      " 11  LANE_CNT                       161807 non-null  float64       \n",
      " 12  ALIGNMENT                      330939 non-null  object        \n",
      " 13  ROADWAY_SURFACE_COND           330939 non-null  object        \n",
      " 14  ROAD_DEFECT                    330939 non-null  object        \n",
      " 15  REPORT_TYPE                    330939 non-null  object        \n",
      " 16  CRASH_TYPE                     330939 non-null  object        \n",
      " 17  INTERSECTION_RELATED_I         74442 non-null   object        \n",
      " 18  HIT_AND_RUN_I                  330939 non-null  int64         \n",
      " 19  DAMAGE                         330939 non-null  object        \n",
      " 20  DATE_POLICE_NOTIFIED           330939 non-null  datetime64[ns]\n",
      " 21  PRIM_CONTRIBUTORY_CAUSE        330939 non-null  object        \n",
      " 22  SEC_CONTRIBUTORY_CAUSE         330939 non-null  object        \n",
      " 23  STREET_NO                      330939 non-null  int64         \n",
      " 24  STREET_DIRECTION               330939 non-null  object        \n",
      " 25  STREET_NAME                    330939 non-null  object        \n",
      " 26  BEAT_OF_OCCURRENCE             330939 non-null  float64       \n",
      " 27  NUM_UNITS                      330939 non-null  float64       \n",
      " 28  MOST_SEVERE_INJURY             330939 non-null  object        \n",
      " 29  INJURIES_TOTAL                 330939 non-null  float64       \n",
      " 30  INJURIES_FATAL                 330939 non-null  float64       \n",
      " 31  INJURIES_INCAPACITATING        330939 non-null  float64       \n",
      " 32  INJURIES_NON_INCAPACITATING    330939 non-null  float64       \n",
      " 33  INJURIES_REPORTED_NOT_EVIDENT  330939 non-null  float64       \n",
      " 34  INJURIES_NO_INDICATION         330939 non-null  float64       \n",
      " 35  INJURIES_UNKNOWN               330939 non-null  float64       \n",
      " 36  CRASH_HOUR                     330939 non-null  int64         \n",
      " 37  CRASH_DAY_OF_WEEK              330939 non-null  int64         \n",
      " 38  CRASH_MONTH                    330939 non-null  int64         \n",
      " 39  LATITUDE                       330939 non-null  float64       \n",
      " 40  LONGITUDE                      330939 non-null  float64       \n",
      " 41  LOCATION                       330939 non-null  object        \n",
      " 42  STREET_TYPE                    330939 non-null  object        \n",
      " 43  TRAFFIC_CONTROL_PRESENT        330939 non-null  int64         \n",
      " 44  STRAIGHT_ROAD                  330939 non-null  int64         \n",
      " 45  LEVEL_ROAD                     330939 non-null  int64         \n",
      " 46  TIME_BEFORE_NOTIFICATION       330939 non-null  float64       \n",
      "dtypes: datetime64[ns](2), float64(14), int64(9), object(22)\n",
      "memory usage: 121.2+ MB\n"
     ]
    }
   ],
   "source": [
    "test.info()"
   ]
  },
  {
   "cell_type": "code",
   "execution_count": 42,
   "metadata": {
    "ExecuteTime": {
     "end_time": "2020-07-09T17:32:54.519758Z",
     "start_time": "2020-07-09T17:32:54.407167Z"
    }
   },
   "outputs": [],
   "source": [
    "test2 = test[test['PRIM_CONTRIBUTORY_CAUSE'] != ('UNABLE TO DETERMINE' or 'NOT APPLICABLE')]"
   ]
  },
  {
   "cell_type": "code",
   "execution_count": 43,
   "metadata": {
    "ExecuteTime": {
     "end_time": "2020-07-09T17:32:54.544062Z",
     "start_time": "2020-07-09T17:32:54.521246Z"
    }
   },
   "outputs": [
    {
     "data": {
      "text/plain": [
       "count    211944.000000\n",
       "mean        116.408726\n",
       "std         259.379938\n",
       "min           1.000000\n",
       "25%           7.000000\n",
       "50%          27.000000\n",
       "75%          72.000000\n",
       "max        1425.000000\n",
       "Name: TIME_BEFORE_NOTIFICATION, dtype: float64"
      ]
     },
     "execution_count": 43,
     "metadata": {},
     "output_type": "execute_result"
    }
   ],
   "source": [
    "test2['TIME_BEFORE_NOTIFICATION'].describe()"
   ]
  },
  {
   "cell_type": "code",
   "execution_count": 44,
   "metadata": {
    "ExecuteTime": {
     "end_time": "2020-07-09T17:32:54.823311Z",
     "start_time": "2020-07-09T17:32:54.546047Z"
    }
   },
   "outputs": [
    {
     "name": "stdout",
     "output_type": "stream",
     "text": [
      "<class 'pandas.core.frame.DataFrame'>\n",
      "Int64Index: 211944 entries, 2 to 416193\n",
      "Data columns (total 47 columns):\n",
      " #   Column                         Non-Null Count   Dtype         \n",
      "---  ------                         --------------   -----         \n",
      " 0   Unnamed: 0                     211944 non-null  int64         \n",
      " 1   CRASH_RECORD_ID                211944 non-null  object        \n",
      " 2   RD_NO                          211944 non-null  object        \n",
      " 3   CRASH_DATE                     211944 non-null  datetime64[ns]\n",
      " 4   POSTED_SPEED_LIMIT             211944 non-null  float64       \n",
      " 5   TRAFFIC_CONTROL_DEVICE         211944 non-null  object        \n",
      " 6   DEVICE_CONDITION               211944 non-null  object        \n",
      " 7   WEATHER_CONDITION              211944 non-null  object        \n",
      " 8   LIGHTING_CONDITION             211944 non-null  object        \n",
      " 9   FIRST_CRASH_TYPE               211944 non-null  object        \n",
      " 10  TRAFFICWAY_TYPE                211944 non-null  object        \n",
      " 11  LANE_CNT                       106797 non-null  float64       \n",
      " 12  ALIGNMENT                      211944 non-null  object        \n",
      " 13  ROADWAY_SURFACE_COND           211944 non-null  object        \n",
      " 14  ROAD_DEFECT                    211944 non-null  object        \n",
      " 15  REPORT_TYPE                    211944 non-null  object        \n",
      " 16  CRASH_TYPE                     211944 non-null  object        \n",
      " 17  INTERSECTION_RELATED_I         55476 non-null   object        \n",
      " 18  HIT_AND_RUN_I                  211944 non-null  int64         \n",
      " 19  DAMAGE                         211944 non-null  object        \n",
      " 20  DATE_POLICE_NOTIFIED           211944 non-null  datetime64[ns]\n",
      " 21  PRIM_CONTRIBUTORY_CAUSE        211944 non-null  object        \n",
      " 22  SEC_CONTRIBUTORY_CAUSE         211944 non-null  object        \n",
      " 23  STREET_NO                      211944 non-null  int64         \n",
      " 24  STREET_DIRECTION               211944 non-null  object        \n",
      " 25  STREET_NAME                    211944 non-null  object        \n",
      " 26  BEAT_OF_OCCURRENCE             211944 non-null  float64       \n",
      " 27  NUM_UNITS                      211944 non-null  float64       \n",
      " 28  MOST_SEVERE_INJURY             211944 non-null  object        \n",
      " 29  INJURIES_TOTAL                 211944 non-null  float64       \n",
      " 30  INJURIES_FATAL                 211944 non-null  float64       \n",
      " 31  INJURIES_INCAPACITATING        211944 non-null  float64       \n",
      " 32  INJURIES_NON_INCAPACITATING    211944 non-null  float64       \n",
      " 33  INJURIES_REPORTED_NOT_EVIDENT  211944 non-null  float64       \n",
      " 34  INJURIES_NO_INDICATION         211944 non-null  float64       \n",
      " 35  INJURIES_UNKNOWN               211944 non-null  float64       \n",
      " 36  CRASH_HOUR                     211944 non-null  int64         \n",
      " 37  CRASH_DAY_OF_WEEK              211944 non-null  int64         \n",
      " 38  CRASH_MONTH                    211944 non-null  int64         \n",
      " 39  LATITUDE                       211944 non-null  float64       \n",
      " 40  LONGITUDE                      211944 non-null  float64       \n",
      " 41  LOCATION                       211944 non-null  object        \n",
      " 42  STREET_TYPE                    211944 non-null  object        \n",
      " 43  TRAFFIC_CONTROL_PRESENT        211944 non-null  int64         \n",
      " 44  STRAIGHT_ROAD                  211944 non-null  int64         \n",
      " 45  LEVEL_ROAD                     211944 non-null  int64         \n",
      " 46  TIME_BEFORE_NOTIFICATION       211944 non-null  float64       \n",
      "dtypes: datetime64[ns](2), float64(14), int64(9), object(22)\n",
      "memory usage: 77.6+ MB\n"
     ]
    }
   ],
   "source": [
    "test2.info()"
   ]
  },
  {
   "cell_type": "markdown",
   "metadata": {},
   "source": [
    "### It's a significantly smaller portion of our data but we do still have quite a bit!\n",
    "I think a lot of this was inevitable due to the poor information entered into the dataset. \n",
    "\n",
    "Let's bin our lane counts and our primary/secondary causes and then see if we have a better chance of predicting our missing values in our clean set!"
   ]
  },
  {
   "cell_type": "code",
   "execution_count": 45,
   "metadata": {
    "ExecuteTime": {
     "end_time": "2020-07-09T17:32:54.974094Z",
     "start_time": "2020-07-09T17:32:54.825295Z"
    }
   },
   "outputs": [],
   "source": [
    "crashes = crashes[crashes['TIME_BEFORE_NOTIFICATION'].between(crashes['TIME_BEFORE_NOTIFICATION'].quantile(.12), crashes['TIME_BEFORE_NOTIFICATION'].quantile(.88))]"
   ]
  },
  {
   "cell_type": "code",
   "execution_count": 46,
   "metadata": {
    "ExecuteTime": {
     "end_time": "2020-07-09T17:32:55.262766Z",
     "start_time": "2020-07-09T17:32:54.976078Z"
    }
   },
   "outputs": [],
   "source": [
    "crashes.loc[crashes['LANE_CNT'] > 14] = np.nan\n"
   ]
  },
  {
   "cell_type": "code",
   "execution_count": 47,
   "metadata": {
    "ExecuteTime": {
     "end_time": "2020-07-09T17:32:55.584670Z",
     "start_time": "2020-07-09T17:32:55.264254Z"
    }
   },
   "outputs": [
    {
     "name": "stdout",
     "output_type": "stream",
     "text": [
      "<class 'pandas.core.frame.DataFrame'>\n",
      "Int64Index: 309128 entries, 3 to 416197\n",
      "Data columns (total 47 columns):\n",
      " #   Column                         Non-Null Count   Dtype         \n",
      "---  ------                         --------------   -----         \n",
      " 0   Unnamed: 0                     309013 non-null  float64       \n",
      " 1   CRASH_RECORD_ID                309013 non-null  object        \n",
      " 2   RD_NO                          309013 non-null  object        \n",
      " 3   CRASH_DATE                     309013 non-null  datetime64[ns]\n",
      " 4   POSTED_SPEED_LIMIT             309013 non-null  float64       \n",
      " 5   TRAFFIC_CONTROL_DEVICE         309013 non-null  object        \n",
      " 6   DEVICE_CONDITION               309013 non-null  object        \n",
      " 7   WEATHER_CONDITION              309013 non-null  object        \n",
      " 8   LIGHTING_CONDITION             309013 non-null  object        \n",
      " 9   FIRST_CRASH_TYPE               309013 non-null  object        \n",
      " 10  TRAFFICWAY_TYPE                309013 non-null  object        \n",
      " 11  LANE_CNT                       151584 non-null  float64       \n",
      " 12  ALIGNMENT                      309013 non-null  object        \n",
      " 13  ROADWAY_SURFACE_COND           309013 non-null  object        \n",
      " 14  ROAD_DEFECT                    309013 non-null  object        \n",
      " 15  REPORT_TYPE                    309013 non-null  object        \n",
      " 16  CRASH_TYPE                     309013 non-null  object        \n",
      " 17  INTERSECTION_RELATED_I         68465 non-null   object        \n",
      " 18  HIT_AND_RUN_I                  309013 non-null  float64       \n",
      " 19  DAMAGE                         309013 non-null  object        \n",
      " 20  DATE_POLICE_NOTIFIED           309013 non-null  datetime64[ns]\n",
      " 21  PRIM_CONTRIBUTORY_CAUSE        309013 non-null  object        \n",
      " 22  SEC_CONTRIBUTORY_CAUSE         309013 non-null  object        \n",
      " 23  STREET_NO                      309013 non-null  float64       \n",
      " 24  STREET_DIRECTION               309013 non-null  object        \n",
      " 25  STREET_NAME                    309013 non-null  object        \n",
      " 26  BEAT_OF_OCCURRENCE             309013 non-null  float64       \n",
      " 27  NUM_UNITS                      309013 non-null  float64       \n",
      " 28  MOST_SEVERE_INJURY             309013 non-null  object        \n",
      " 29  INJURIES_TOTAL                 309013 non-null  float64       \n",
      " 30  INJURIES_FATAL                 309013 non-null  float64       \n",
      " 31  INJURIES_INCAPACITATING        309013 non-null  float64       \n",
      " 32  INJURIES_NON_INCAPACITATING    309013 non-null  float64       \n",
      " 33  INJURIES_REPORTED_NOT_EVIDENT  309013 non-null  float64       \n",
      " 34  INJURIES_NO_INDICATION         309013 non-null  float64       \n",
      " 35  INJURIES_UNKNOWN               309013 non-null  float64       \n",
      " 36  CRASH_HOUR                     309013 non-null  float64       \n",
      " 37  CRASH_DAY_OF_WEEK              309013 non-null  float64       \n",
      " 38  CRASH_MONTH                    309013 non-null  float64       \n",
      " 39  LATITUDE                       309013 non-null  float64       \n",
      " 40  LONGITUDE                      309013 non-null  float64       \n",
      " 41  LOCATION                       309013 non-null  object        \n",
      " 42  STREET_TYPE                    309013 non-null  object        \n",
      " 43  TRAFFIC_CONTROL_PRESENT        309013 non-null  float64       \n",
      " 44  STRAIGHT_ROAD                  309013 non-null  float64       \n",
      " 45  LEVEL_ROAD                     309013 non-null  float64       \n",
      " 46  TIME_BEFORE_NOTIFICATION       309013 non-null  float64       \n",
      "dtypes: datetime64[ns](2), float64(23), object(22)\n",
      "memory usage: 113.2+ MB\n"
     ]
    }
   ],
   "source": [
    "crashes.info()"
   ]
  },
  {
   "cell_type": "code",
   "execution_count": 48,
   "metadata": {
    "ExecuteTime": {
     "end_time": "2020-07-09T17:32:55.748846Z",
     "start_time": "2020-07-09T17:32:55.586158Z"
    }
   },
   "outputs": [],
   "source": [
    "crashes = crashes[crashes['RD_NO'].notna()]"
   ]
  },
  {
   "cell_type": "code",
   "execution_count": 49,
   "metadata": {
    "ExecuteTime": {
     "end_time": "2020-07-09T17:32:55.768686Z",
     "start_time": "2020-07-09T17:32:55.750830Z"
    }
   },
   "outputs": [],
   "source": [
    "# here we can use the cut method to bin our lane counts for us with ease\n",
    "cut_labels = ['intersection', 'small', 'medium', 'large'] #these are the bins we'll put data into\n",
    "cut_bins = [0, .9, 2, 5, 15] #these are the cut-off points to determine what values go where\n",
    "crashes['LANE_TYPE'] = pd.cut(crashes['LANE_CNT'], bins=cut_bins, labels=cut_labels, include_lowest=True)"
   ]
  },
  {
   "cell_type": "code",
   "execution_count": 50,
   "metadata": {
    "ExecuteTime": {
     "end_time": "2020-07-09T17:32:55.781086Z",
     "start_time": "2020-07-09T17:32:55.769678Z"
    }
   },
   "outputs": [
    {
     "data": {
      "text/plain": [
       "2.0     69679\n",
       "4.0     38666\n",
       "1.0     23688\n",
       "3.0      6684\n",
       "0.0      6099\n",
       "6.0      3488\n",
       "5.0      1496\n",
       "8.0      1442\n",
       "7.0       145\n",
       "10.0      114\n",
       "9.0        41\n",
       "12.0       22\n",
       "11.0       18\n",
       "14.0        2\n",
       "Name: LANE_CNT, dtype: int64"
      ]
     },
     "execution_count": 50,
     "metadata": {},
     "output_type": "execute_result"
    }
   ],
   "source": [
    "crashes['LANE_CNT'].value_counts()"
   ]
  },
  {
   "cell_type": "code",
   "execution_count": 51,
   "metadata": {
    "ExecuteTime": {
     "end_time": "2020-07-09T17:32:55.793486Z",
     "start_time": "2020-07-09T17:32:55.782574Z"
    }
   },
   "outputs": [
    {
     "data": {
      "text/plain": [
       "small           93367\n",
       "medium          46846\n",
       "intersection     6099\n",
       "large            5272\n",
       "Name: LANE_TYPE, dtype: int64"
      ]
     },
     "execution_count": 51,
     "metadata": {},
     "output_type": "execute_result"
    }
   ],
   "source": [
    "crashes['LANE_TYPE'].value_counts()"
   ]
  },
  {
   "cell_type": "code",
   "execution_count": 52,
   "metadata": {
    "ExecuteTime": {
     "end_time": "2020-07-09T17:32:56.064798Z",
     "start_time": "2020-07-09T17:32:55.794974Z"
    }
   },
   "outputs": [
    {
     "name": "stdout",
     "output_type": "stream",
     "text": [
      "<class 'pandas.core.frame.DataFrame'>\n",
      "Int64Index: 309013 entries, 3 to 416197\n",
      "Data columns (total 48 columns):\n",
      " #   Column                         Non-Null Count   Dtype         \n",
      "---  ------                         --------------   -----         \n",
      " 0   Unnamed: 0                     309013 non-null  float64       \n",
      " 1   CRASH_RECORD_ID                309013 non-null  object        \n",
      " 2   RD_NO                          309013 non-null  object        \n",
      " 3   CRASH_DATE                     309013 non-null  datetime64[ns]\n",
      " 4   POSTED_SPEED_LIMIT             309013 non-null  float64       \n",
      " 5   TRAFFIC_CONTROL_DEVICE         309013 non-null  object        \n",
      " 6   DEVICE_CONDITION               309013 non-null  object        \n",
      " 7   WEATHER_CONDITION              309013 non-null  object        \n",
      " 8   LIGHTING_CONDITION             309013 non-null  object        \n",
      " 9   FIRST_CRASH_TYPE               309013 non-null  object        \n",
      " 10  TRAFFICWAY_TYPE                309013 non-null  object        \n",
      " 11  LANE_CNT                       151584 non-null  float64       \n",
      " 12  ALIGNMENT                      309013 non-null  object        \n",
      " 13  ROADWAY_SURFACE_COND           309013 non-null  object        \n",
      " 14  ROAD_DEFECT                    309013 non-null  object        \n",
      " 15  REPORT_TYPE                    309013 non-null  object        \n",
      " 16  CRASH_TYPE                     309013 non-null  object        \n",
      " 17  INTERSECTION_RELATED_I         68465 non-null   object        \n",
      " 18  HIT_AND_RUN_I                  309013 non-null  float64       \n",
      " 19  DAMAGE                         309013 non-null  object        \n",
      " 20  DATE_POLICE_NOTIFIED           309013 non-null  datetime64[ns]\n",
      " 21  PRIM_CONTRIBUTORY_CAUSE        309013 non-null  object        \n",
      " 22  SEC_CONTRIBUTORY_CAUSE         309013 non-null  object        \n",
      " 23  STREET_NO                      309013 non-null  float64       \n",
      " 24  STREET_DIRECTION               309013 non-null  object        \n",
      " 25  STREET_NAME                    309013 non-null  object        \n",
      " 26  BEAT_OF_OCCURRENCE             309013 non-null  float64       \n",
      " 27  NUM_UNITS                      309013 non-null  float64       \n",
      " 28  MOST_SEVERE_INJURY             309013 non-null  object        \n",
      " 29  INJURIES_TOTAL                 309013 non-null  float64       \n",
      " 30  INJURIES_FATAL                 309013 non-null  float64       \n",
      " 31  INJURIES_INCAPACITATING        309013 non-null  float64       \n",
      " 32  INJURIES_NON_INCAPACITATING    309013 non-null  float64       \n",
      " 33  INJURIES_REPORTED_NOT_EVIDENT  309013 non-null  float64       \n",
      " 34  INJURIES_NO_INDICATION         309013 non-null  float64       \n",
      " 35  INJURIES_UNKNOWN               309013 non-null  float64       \n",
      " 36  CRASH_HOUR                     309013 non-null  float64       \n",
      " 37  CRASH_DAY_OF_WEEK              309013 non-null  float64       \n",
      " 38  CRASH_MONTH                    309013 non-null  float64       \n",
      " 39  LATITUDE                       309013 non-null  float64       \n",
      " 40  LONGITUDE                      309013 non-null  float64       \n",
      " 41  LOCATION                       309013 non-null  object        \n",
      " 42  STREET_TYPE                    309013 non-null  object        \n",
      " 43  TRAFFIC_CONTROL_PRESENT        309013 non-null  float64       \n",
      " 44  STRAIGHT_ROAD                  309013 non-null  float64       \n",
      " 45  LEVEL_ROAD                     309013 non-null  float64       \n",
      " 46  TIME_BEFORE_NOTIFICATION       309013 non-null  float64       \n",
      " 47  LANE_TYPE                      151584 non-null  category      \n",
      "dtypes: category(1), datetime64[ns](2), float64(23), object(22)\n",
      "memory usage: 113.5+ MB\n"
     ]
    }
   ],
   "source": [
    "crashes.info()"
   ]
  },
  {
   "cell_type": "code",
   "execution_count": 53,
   "metadata": {
    "ExecuteTime": {
     "end_time": "2020-07-09T17:32:56.106462Z",
     "start_time": "2020-07-09T17:32:56.066287Z"
    }
   },
   "outputs": [
    {
     "data": {
      "text/plain": [
       "UNABLE TO DETERMINE                                                                 111807\n",
       "FOLLOWING TOO CLOSELY                                                                36013\n",
       "FAILING TO YIELD RIGHT-OF-WAY                                                        35340\n",
       "NOT APPLICABLE                                                                       16006\n",
       "IMPROPER OVERTAKING/PASSING                                                          15759\n",
       "IMPROPER BACKING                                                                     14181\n",
       "IMPROPER LANE USAGE                                                                  12925\n",
       "FAILING TO REDUCE SPEED TO AVOID CRASH                                               12489\n",
       "IMPROPER TURNING/NO SIGNAL                                                           10815\n",
       "DRIVING SKILLS/KNOWLEDGE/EXPERIENCE                                                   9678\n",
       "WEATHER                                                                               5004\n",
       "DISREGARDING TRAFFIC SIGNALS                                                          4823\n",
       "DISREGARDING STOP SIGN                                                                3170\n",
       "OPERATING VEHICLE IN ERRATIC, RECKLESS, CARELESS, NEGLIGENT OR AGGRESSIVE MANNER      3048\n",
       "DISTRACTION - FROM INSIDE VEHICLE                                                     2237\n",
       "VISION OBSCURED (SIGNS, TREE LIMBS, BUILDINGS, ETC.)                                  1804\n",
       "EQUIPMENT - VEHICLE CONDITION                                                         1720\n",
       "PHYSICAL CONDITION OF DRIVER                                                          1559\n",
       "EXCEEDING AUTHORIZED SPEED LIMIT                                                      1299\n",
       "DISTRACTION - FROM OUTSIDE VEHICLE                                                    1290\n",
       "DRIVING ON WRONG SIDE/WRONG WAY                                                       1224\n",
       "EXCEEDING SAFE SPEED FOR CONDITIONS                                                   1199\n",
       "UNDER THE INFLUENCE OF ALCOHOL/DRUGS (USE WHEN ARREST IS EFFECTED)                    1034\n",
       "ROAD CONSTRUCTION/MAINTENANCE                                                          640\n",
       "ROAD ENGINEERING/SURFACE/MARKING DEFECTS                                               627\n",
       "DISREGARDING OTHER TRAFFIC SIGNS                                                       613\n",
       "EVASIVE ACTION DUE TO ANIMAL, OBJECT, NONMOTORIST                                      517\n",
       "CELL PHONE USE OTHER THAN TEXTING                                                      416\n",
       "DISREGARDING ROAD MARKINGS                                                             415\n",
       "HAD BEEN DRINKING (USE WHEN ARREST IS NOT MADE)                                        311\n",
       "ANIMAL                                                                                 263\n",
       "TURNING RIGHT ON RED                                                                   200\n",
       "DISTRACTION - OTHER ELECTRONIC DEVICE (NAVIGATION DEVICE, DVD PLAYER, ETC.)            152\n",
       "TEXTING                                                                                136\n",
       "DISREGARDING YIELD SIGN                                                                107\n",
       "RELATED TO BUS STOP                                                                     76\n",
       "PASSING STOPPED SCHOOL BUS                                                              46\n",
       "BICYCLE ADVANCING LEGALLY ON RED LIGHT                                                  45\n",
       "OBSTRUCTED CROSSWALKS                                                                   14\n",
       "MOTORCYCLE ADVANCING LEGALLY ON RED LIGHT                                               11\n",
       "Name: PRIM_CONTRIBUTORY_CAUSE, dtype: int64"
      ]
     },
     "execution_count": 53,
     "metadata": {},
     "output_type": "execute_result"
    }
   ],
   "source": [
    "crashes['PRIM_CONTRIBUTORY_CAUSE'].value_counts()"
   ]
  },
  {
   "cell_type": "code",
   "execution_count": 81,
   "metadata": {
    "ExecuteTime": {
     "end_time": "2020-07-09T17:58:22.703863Z",
     "start_time": "2020-07-09T17:58:22.698406Z"
    }
   },
   "outputs": [],
   "source": [
    "#note that comments were added post initial model creation in hopes to identify ways to further divide our main category\n",
    "Driver_Error = ['FOLLOWING TOO CLOSELY',      #\n",
    "               'FAILING TO YIELD RIGHT-OF-WAY',   #\n",
    "               'IMPROPER OVERTAKING/PASSING',   #\n",
    "               'IMPROPER BACKING',   #\n",
    "               'IMPROPER LANE USAGE',  #\n",
    "               'FAILING TO REDUCE SPEED TO AVOID CRASH',  #\n",
    "               'IMPROPER TURNING/NO SIGNALS',   #\n",
    "               'DRIVING SKILLS/KNOWLEDGE/EXPERIENCE',   #\n",
    "               'DISREGARDING TRAFFIC SIGNALS',   #driver error sign related\n",
    "               'DISREGARDING STOP SIGN',   #driver error sign related\n",
    "               'OPERATING VEHICLE IN ERRATIC, RECKLESS, CARELESS, NEGLIGENT OR AGGRESSIVE MANNER',   #\n",
    "               'EXCEEDING AUTHORIZED SPEED LIMIT',   #speeding\n",
    "               'EXCEEDING SAFE SPEED FOR CONDITIONS',   #speeding\n",
    "               'DRIVING ON WRONG SIDE/WRONG WAY',   #\n",
    "               'DISREGARDING OTHER TRAFFIC SIGNS',   #Driver error sign related\n",
    "               'DISREGARDING ROAD MARKINGS',   #driver error sign related\n",
    "               'DISREGARDING YIELD SIGN',   #driver error sign related\n",
    "               'PASSING STOPPED SCHOOL BUS'] #cut?\n",
    "\n",
    "Weather = ['WEATHER']\n",
    "\n",
    "Driver_Distraction = ['DISTRACTION - FROM INSIDE VEHICLE',\n",
    "                     'DISTRACTION - FROM OUTSIDE VEHICLE',\n",
    "                     'CELL PHONE USE OTHER THAN TEXTING',\n",
    "                     'DISTRACTION - OTHER ELECTRONIC DEVICE (NAVIGATION DEVICE, DVD PLAYER, ETC.)',\n",
    "                     'TEXTING']\n",
    "\n",
    "RoadVision_Obstruction = ['VISION OBSCURED (SIGNS, TREE LIMBS, BUILDINGS, ETC.)',\n",
    "                          'EVASIVE ACTION DUE TO ANIMAL, OBJECT, NONMOTORIST',\n",
    "                          'ANIMAL',\n",
    "                          'OBSTRUCTED CROSSWALKS']\n",
    "\n",
    "DriverEquipmentRD_Health = ['EQUIPMENT - VEHICLE CONDITION',\n",
    "                             'PHYSICAL CONDITION OF DRIVER',\n",
    "                             'ROAD CONSTRUCTION/MAINTENANCE',\n",
    "                             'ROAD ENGINEERING/SURFACE/MARKING DEFECTS']\n",
    "\n",
    "Drug_Use = ['UNDER THE INFLUENCE OF ALCOHOL/DRUGS (USE WHEN ARREST IS EFFECTED)',\n",
    "           'HAD BEEN DRINKING (USE WHEN ARREST IS NOT MADE)']\n",
    "\n",
    "Classes_to_Drop = ['TURNING RIGHT ON RED',\n",
    "                  'RELATED TO BUS STOP',\n",
    "                  'BICYCLE ADVANCING LEGALLY ON RED LIGHT',\n",
    "                  'MOTORCYCLE ADVANCING LEGALLY ON RED LIGHT']"
   ]
  },
  {
   "cell_type": "code",
   "execution_count": 55,
   "metadata": {
    "ExecuteTime": {
     "end_time": "2020-07-09T17:32:56.120350Z",
     "start_time": "2020-07-09T17:32:56.115390Z"
    }
   },
   "outputs": [],
   "source": [
    "reclassifier = {}"
   ]
  },
  {
   "cell_type": "code",
   "execution_count": 56,
   "metadata": {
    "ExecuteTime": {
     "end_time": "2020-07-09T17:32:56.127293Z",
     "start_time": "2020-07-09T17:32:56.121838Z"
    }
   },
   "outputs": [],
   "source": [
    "for error in Driver_Error:\n",
    "    reclassifier[error] = 'Driver Error'"
   ]
  },
  {
   "cell_type": "code",
   "execution_count": 57,
   "metadata": {
    "ExecuteTime": {
     "end_time": "2020-07-09T17:32:56.135230Z",
     "start_time": "2020-07-09T17:32:56.128782Z"
    }
   },
   "outputs": [
    {
     "data": {
      "text/plain": [
       "{'FOLLOWING TOO CLOSELY': 'Driver Error',\n",
       " 'FAILING TO YIELD RIGHT-OF-WAY': 'Driver Error',\n",
       " 'IMPROPER OVERTAKING/PASSING': 'Driver Error',\n",
       " 'IMPROPER BACKING': 'Driver Error',\n",
       " 'IMPROPER LANE USAGE': 'Driver Error',\n",
       " 'FAILING TO REDUCE SPEED TO AVOID CRASH': 'Driver Error',\n",
       " 'IMPROPER TURNING/NO SIGNALS': 'Driver Error',\n",
       " 'DRIVING SKILLS/KNOWLEDGE/EXPERIENCE': 'Driver Error',\n",
       " 'DISREGARDING TRAFFIC SIGNALS': 'Driver Error',\n",
       " 'DISREGARDING STOP SIGN': 'Driver Error',\n",
       " 'OPERATING VEHICLE IN ERRATIC, RECKLESS, CARELESS, NEGLIGENT OR AGGRESSIVE MANNER': 'Driver Error',\n",
       " 'EXCEEDING AUTHORIZED SPEED LIMIT': 'Driver Error',\n",
       " 'EXCEEDING SAFE SPEED FOR CONDITIONS': 'Driver Error',\n",
       " 'DRIVING ON WRONG SIDE/WRONG WAY': 'Driver Error',\n",
       " 'DISREGARDING OTHER TRAFFIC SIGNS': 'Driver Error',\n",
       " 'DISREGARDING ROAD MARKINGS': 'Driver Error',\n",
       " 'DISREGARDING YIELD SIGN': 'Driver Error',\n",
       " 'PASSING STOPPED SCHOOL BUS': 'Driver Error'}"
      ]
     },
     "execution_count": 57,
     "metadata": {},
     "output_type": "execute_result"
    }
   ],
   "source": [
    "reclassifier"
   ]
  },
  {
   "cell_type": "code",
   "execution_count": 58,
   "metadata": {
    "ExecuteTime": {
     "end_time": "2020-07-09T17:32:56.141678Z",
     "start_time": "2020-07-09T17:32:56.136719Z"
    }
   },
   "outputs": [],
   "source": [
    "for error in RoadVision_Obstruction:\n",
    "    reclassifier[error] = 'Road/Vision Obstruction'"
   ]
  },
  {
   "cell_type": "code",
   "execution_count": 59,
   "metadata": {
    "ExecuteTime": {
     "end_time": "2020-07-09T17:32:56.148125Z",
     "start_time": "2020-07-09T17:32:56.143166Z"
    }
   },
   "outputs": [],
   "source": [
    "for error in Driver_Distraction:\n",
    "    reclassifier[error] = 'Driver Distraction'"
   ]
  },
  {
   "cell_type": "code",
   "execution_count": 60,
   "metadata": {
    "ExecuteTime": {
     "end_time": "2020-07-09T17:32:56.155566Z",
     "start_time": "2020-07-09T17:32:56.150110Z"
    }
   },
   "outputs": [],
   "source": [
    "for error in DriverEquipmentRD_Health:\n",
    "    reclassifier[error] = 'Driver/Equip/RD Health'"
   ]
  },
  {
   "cell_type": "code",
   "execution_count": 61,
   "metadata": {
    "ExecuteTime": {
     "end_time": "2020-07-09T17:32:56.163006Z",
     "start_time": "2020-07-09T17:32:56.157550Z"
    }
   },
   "outputs": [],
   "source": [
    "for error in Drug_Use:\n",
    "    reclassifier[error] = 'Drug Use'"
   ]
  },
  {
   "cell_type": "code",
   "execution_count": 62,
   "metadata": {
    "ExecuteTime": {
     "end_time": "2020-07-09T17:32:56.170446Z",
     "start_time": "2020-07-09T17:32:56.164494Z"
    }
   },
   "outputs": [],
   "source": [
    "reclassifier['WEATHER'] = 'Weather'"
   ]
  },
  {
   "cell_type": "code",
   "execution_count": 63,
   "metadata": {
    "ExecuteTime": {
     "end_time": "2020-07-09T17:32:56.179374Z",
     "start_time": "2020-07-09T17:32:56.171934Z"
    }
   },
   "outputs": [
    {
     "data": {
      "text/plain": [
       "{'FOLLOWING TOO CLOSELY': 'Driver Error',\n",
       " 'FAILING TO YIELD RIGHT-OF-WAY': 'Driver Error',\n",
       " 'IMPROPER OVERTAKING/PASSING': 'Driver Error',\n",
       " 'IMPROPER BACKING': 'Driver Error',\n",
       " 'IMPROPER LANE USAGE': 'Driver Error',\n",
       " 'FAILING TO REDUCE SPEED TO AVOID CRASH': 'Driver Error',\n",
       " 'IMPROPER TURNING/NO SIGNALS': 'Driver Error',\n",
       " 'DRIVING SKILLS/KNOWLEDGE/EXPERIENCE': 'Driver Error',\n",
       " 'DISREGARDING TRAFFIC SIGNALS': 'Driver Error',\n",
       " 'DISREGARDING STOP SIGN': 'Driver Error',\n",
       " 'OPERATING VEHICLE IN ERRATIC, RECKLESS, CARELESS, NEGLIGENT OR AGGRESSIVE MANNER': 'Driver Error',\n",
       " 'EXCEEDING AUTHORIZED SPEED LIMIT': 'Driver Error',\n",
       " 'EXCEEDING SAFE SPEED FOR CONDITIONS': 'Driver Error',\n",
       " 'DRIVING ON WRONG SIDE/WRONG WAY': 'Driver Error',\n",
       " 'DISREGARDING OTHER TRAFFIC SIGNS': 'Driver Error',\n",
       " 'DISREGARDING ROAD MARKINGS': 'Driver Error',\n",
       " 'DISREGARDING YIELD SIGN': 'Driver Error',\n",
       " 'PASSING STOPPED SCHOOL BUS': 'Driver Error',\n",
       " 'VISION OBSCURED (SIGNS, TREE LIMBS, BUILDINGS, ETC.)': 'Road/Vision Obstruction',\n",
       " 'EVASIVE ACTION DUE TO ANIMAL, OBJECT, NONMOTORIST': 'Road/Vision Obstruction',\n",
       " 'ANIMAL': 'Road/Vision Obstruction',\n",
       " 'OBSTRUCTED CROSSWALKS': 'Road/Vision Obstruction',\n",
       " 'DISTRACTION - FROM INSIDE VEHICLE': 'Driver Distraction',\n",
       " 'DISTRACTION - FROM OUTSIDE VEHICLE': 'Driver Distraction',\n",
       " 'CELL PHONE USE OTHER THAN TEXTING': 'Driver Distraction',\n",
       " 'DISTRACTION - OTHER ELECTRONIC DEVICE (NAVIGATION DEVICE, DVD PLAYER, ETC.)': 'Driver Distraction',\n",
       " 'TEXTING': 'Driver Distraction',\n",
       " 'EQUIPMENT - VEHICLE CONDITION': 'Driver/Equip/RD Health',\n",
       " 'PHYSICAL CONDITION OF DRIVER': 'Driver/Equip/RD Health',\n",
       " 'ROAD CONSTRUCTION/MAINTENANCE': 'Driver/Equip/RD Health',\n",
       " 'ROAD ENGINEERING/SURFACE/MARKING DEFECTS': 'Driver/Equip/RD Health',\n",
       " 'UNDER THE INFLUENCE OF ALCOHOL/DRUGS (USE WHEN ARREST IS EFFECTED)': 'Drug Use',\n",
       " 'HAD BEEN DRINKING (USE WHEN ARREST IS NOT MADE)': 'Drug Use',\n",
       " 'WEATHER': 'Weather'}"
      ]
     },
     "execution_count": 63,
     "metadata": {},
     "output_type": "execute_result"
    }
   ],
   "source": [
    "reclassifier"
   ]
  },
  {
   "cell_type": "code",
   "execution_count": 64,
   "metadata": {
    "ExecuteTime": {
     "end_time": "2020-07-09T17:32:56.214590Z",
     "start_time": "2020-07-09T17:32:56.180862Z"
    }
   },
   "outputs": [],
   "source": [
    "crashes['MAIN_CAUSE'] = crashes['PRIM_CONTRIBUTORY_CAUSE'].map(reclassifier)"
   ]
  },
  {
   "cell_type": "code",
   "execution_count": 65,
   "metadata": {
    "ExecuteTime": {
     "end_time": "2020-07-09T17:32:56.239885Z",
     "start_time": "2020-07-09T17:32:56.216078Z"
    }
   },
   "outputs": [
    {
     "data": {
      "text/html": [
       "<div>\n",
       "<style scoped>\n",
       "    .dataframe tbody tr th:only-of-type {\n",
       "        vertical-align: middle;\n",
       "    }\n",
       "\n",
       "    .dataframe tbody tr th {\n",
       "        vertical-align: top;\n",
       "    }\n",
       "\n",
       "    .dataframe thead th {\n",
       "        text-align: right;\n",
       "    }\n",
       "</style>\n",
       "<table border=\"1\" class=\"dataframe\">\n",
       "  <thead>\n",
       "    <tr style=\"text-align: right;\">\n",
       "      <th></th>\n",
       "      <th>Unnamed: 0</th>\n",
       "      <th>CRASH_RECORD_ID</th>\n",
       "      <th>RD_NO</th>\n",
       "      <th>CRASH_DATE</th>\n",
       "      <th>POSTED_SPEED_LIMIT</th>\n",
       "      <th>TRAFFIC_CONTROL_DEVICE</th>\n",
       "      <th>DEVICE_CONDITION</th>\n",
       "      <th>WEATHER_CONDITION</th>\n",
       "      <th>LIGHTING_CONDITION</th>\n",
       "      <th>FIRST_CRASH_TYPE</th>\n",
       "      <th>...</th>\n",
       "      <th>LATITUDE</th>\n",
       "      <th>LONGITUDE</th>\n",
       "      <th>LOCATION</th>\n",
       "      <th>STREET_TYPE</th>\n",
       "      <th>TRAFFIC_CONTROL_PRESENT</th>\n",
       "      <th>STRAIGHT_ROAD</th>\n",
       "      <th>LEVEL_ROAD</th>\n",
       "      <th>TIME_BEFORE_NOTIFICATION</th>\n",
       "      <th>LANE_TYPE</th>\n",
       "      <th>MAIN_CAUSE</th>\n",
       "    </tr>\n",
       "  </thead>\n",
       "  <tbody>\n",
       "    <tr>\n",
       "      <th>3</th>\n",
       "      <td>3.0</td>\n",
       "      <td>00e47f189660cd8ba1e85fc63061bf1d8465184393f134...</td>\n",
       "      <td>JC194776</td>\n",
       "      <td>2019-03-21 22:50:00</td>\n",
       "      <td>30.0</td>\n",
       "      <td>TRAFFIC SIGNAL</td>\n",
       "      <td>FUNCTIONING PROPERLY</td>\n",
       "      <td>CLEAR</td>\n",
       "      <td>DARKNESS, LIGHTED ROAD</td>\n",
       "      <td>TURNING</td>\n",
       "      <td>...</td>\n",
       "      <td>41.741804</td>\n",
       "      <td>-87.740954</td>\n",
       "      <td>POINT (-87.740953581987 41.741803598989)</td>\n",
       "      <td>AVE</td>\n",
       "      <td>1.0</td>\n",
       "      <td>1.0</td>\n",
       "      <td>1.0</td>\n",
       "      <td>2.0</td>\n",
       "      <td>medium</td>\n",
       "      <td>NaN</td>\n",
       "    </tr>\n",
       "    <tr>\n",
       "      <th>4</th>\n",
       "      <td>4.0</td>\n",
       "      <td>0126747fc9ffc0edc9a38abb83d80034f897db0f739eef...</td>\n",
       "      <td>JB200478</td>\n",
       "      <td>2018-03-26 14:23:00</td>\n",
       "      <td>35.0</td>\n",
       "      <td>NO CONTROLS</td>\n",
       "      <td>NO CONTROLS</td>\n",
       "      <td>CLEAR</td>\n",
       "      <td>DAYLIGHT</td>\n",
       "      <td>PARKED MOTOR VEHICLE</td>\n",
       "      <td>...</td>\n",
       "      <td>41.953647</td>\n",
       "      <td>-87.732082</td>\n",
       "      <td>POINT (-87.732081736006 41.953646899951)</td>\n",
       "      <td>AVE</td>\n",
       "      <td>0.0</td>\n",
       "      <td>1.0</td>\n",
       "      <td>1.0</td>\n",
       "      <td>57.0</td>\n",
       "      <td>NaN</td>\n",
       "      <td>NaN</td>\n",
       "    </tr>\n",
       "    <tr>\n",
       "      <th>5</th>\n",
       "      <td>5.0</td>\n",
       "      <td>5d672ce84d5b78346be822b388604bdf9cb3fa348a5adc...</td>\n",
       "      <td>JD158927</td>\n",
       "      <td>2020-02-20 16:45:00</td>\n",
       "      <td>35.0</td>\n",
       "      <td>TRAFFIC SIGNAL</td>\n",
       "      <td>OTHER</td>\n",
       "      <td>CLEAR</td>\n",
       "      <td>DAWN</td>\n",
       "      <td>REAR END</td>\n",
       "      <td>...</td>\n",
       "      <td>41.958987</td>\n",
       "      <td>-87.933994</td>\n",
       "      <td>POINT (-87.933993928974 41.958986950953)</td>\n",
       "      <td>RD</td>\n",
       "      <td>1.0</td>\n",
       "      <td>1.0</td>\n",
       "      <td>1.0</td>\n",
       "      <td>6.0</td>\n",
       "      <td>NaN</td>\n",
       "      <td>NaN</td>\n",
       "    </tr>\n",
       "    <tr>\n",
       "      <th>6</th>\n",
       "      <td>6.0</td>\n",
       "      <td>0209e21f298984f7375742b7ef27c9880b485f41123a12...</td>\n",
       "      <td>JB415436</td>\n",
       "      <td>2018-08-30 17:45:00</td>\n",
       "      <td>30.0</td>\n",
       "      <td>TRAFFIC SIGNAL</td>\n",
       "      <td>FUNCTIONING PROPERLY</td>\n",
       "      <td>CLEAR</td>\n",
       "      <td>DAYLIGHT</td>\n",
       "      <td>TURNING</td>\n",
       "      <td>...</td>\n",
       "      <td>41.903825</td>\n",
       "      <td>-87.643286</td>\n",
       "      <td>POINT (-87.643286359995 41.903825233976)</td>\n",
       "      <td>ST</td>\n",
       "      <td>1.0</td>\n",
       "      <td>1.0</td>\n",
       "      <td>1.0</td>\n",
       "      <td>13.0</td>\n",
       "      <td>NaN</td>\n",
       "      <td>Driver Error</td>\n",
       "    </tr>\n",
       "    <tr>\n",
       "      <th>7</th>\n",
       "      <td>7.0</td>\n",
       "      <td>0211e1f766f3940dfa87375661d25b716655e908c320cc...</td>\n",
       "      <td>JC301403</td>\n",
       "      <td>2019-06-11 08:40:00</td>\n",
       "      <td>30.0</td>\n",
       "      <td>TRAFFIC SIGNAL</td>\n",
       "      <td>FUNCTIONING PROPERLY</td>\n",
       "      <td>CLEAR</td>\n",
       "      <td>DAYLIGHT</td>\n",
       "      <td>REAR END</td>\n",
       "      <td>...</td>\n",
       "      <td>41.794779</td>\n",
       "      <td>-87.623828</td>\n",
       "      <td>POINT (-87.623828038036 41.794778764028)</td>\n",
       "      <td>BLVD</td>\n",
       "      <td>1.0</td>\n",
       "      <td>1.0</td>\n",
       "      <td>1.0</td>\n",
       "      <td>25.0</td>\n",
       "      <td>NaN</td>\n",
       "      <td>NaN</td>\n",
       "    </tr>\n",
       "  </tbody>\n",
       "</table>\n",
       "<p>5 rows × 49 columns</p>\n",
       "</div>"
      ],
      "text/plain": [
       "   Unnamed: 0                                    CRASH_RECORD_ID     RD_NO  \\\n",
       "3         3.0  00e47f189660cd8ba1e85fc63061bf1d8465184393f134...  JC194776   \n",
       "4         4.0  0126747fc9ffc0edc9a38abb83d80034f897db0f739eef...  JB200478   \n",
       "5         5.0  5d672ce84d5b78346be822b388604bdf9cb3fa348a5adc...  JD158927   \n",
       "6         6.0  0209e21f298984f7375742b7ef27c9880b485f41123a12...  JB415436   \n",
       "7         7.0  0211e1f766f3940dfa87375661d25b716655e908c320cc...  JC301403   \n",
       "\n",
       "           CRASH_DATE  POSTED_SPEED_LIMIT TRAFFIC_CONTROL_DEVICE  \\\n",
       "3 2019-03-21 22:50:00                30.0         TRAFFIC SIGNAL   \n",
       "4 2018-03-26 14:23:00                35.0            NO CONTROLS   \n",
       "5 2020-02-20 16:45:00                35.0         TRAFFIC SIGNAL   \n",
       "6 2018-08-30 17:45:00                30.0         TRAFFIC SIGNAL   \n",
       "7 2019-06-11 08:40:00                30.0         TRAFFIC SIGNAL   \n",
       "\n",
       "       DEVICE_CONDITION WEATHER_CONDITION      LIGHTING_CONDITION  \\\n",
       "3  FUNCTIONING PROPERLY             CLEAR  DARKNESS, LIGHTED ROAD   \n",
       "4           NO CONTROLS             CLEAR                DAYLIGHT   \n",
       "5                 OTHER             CLEAR                    DAWN   \n",
       "6  FUNCTIONING PROPERLY             CLEAR                DAYLIGHT   \n",
       "7  FUNCTIONING PROPERLY             CLEAR                DAYLIGHT   \n",
       "\n",
       "       FIRST_CRASH_TYPE  ...   LATITUDE  LONGITUDE  \\\n",
       "3               TURNING  ...  41.741804 -87.740954   \n",
       "4  PARKED MOTOR VEHICLE  ...  41.953647 -87.732082   \n",
       "5              REAR END  ...  41.958987 -87.933994   \n",
       "6               TURNING  ...  41.903825 -87.643286   \n",
       "7              REAR END  ...  41.794779 -87.623828   \n",
       "\n",
       "                                   LOCATION STREET_TYPE  \\\n",
       "3  POINT (-87.740953581987 41.741803598989)         AVE   \n",
       "4  POINT (-87.732081736006 41.953646899951)         AVE   \n",
       "5  POINT (-87.933993928974 41.958986950953)          RD   \n",
       "6  POINT (-87.643286359995 41.903825233976)          ST   \n",
       "7  POINT (-87.623828038036 41.794778764028)        BLVD   \n",
       "\n",
       "  TRAFFIC_CONTROL_PRESENT STRAIGHT_ROAD LEVEL_ROAD TIME_BEFORE_NOTIFICATION  \\\n",
       "3                     1.0           1.0        1.0                      2.0   \n",
       "4                     0.0           1.0        1.0                     57.0   \n",
       "5                     1.0           1.0        1.0                      6.0   \n",
       "6                     1.0           1.0        1.0                     13.0   \n",
       "7                     1.0           1.0        1.0                     25.0   \n",
       "\n",
       "   LANE_TYPE    MAIN_CAUSE  \n",
       "3     medium           NaN  \n",
       "4        NaN           NaN  \n",
       "5        NaN           NaN  \n",
       "6        NaN  Driver Error  \n",
       "7        NaN           NaN  \n",
       "\n",
       "[5 rows x 49 columns]"
      ]
     },
     "execution_count": 65,
     "metadata": {},
     "output_type": "execute_result"
    }
   ],
   "source": [
    "crashes.head()"
   ]
  },
  {
   "cell_type": "code",
   "execution_count": 66,
   "metadata": {
    "ExecuteTime": {
     "end_time": "2020-07-09T17:32:56.262205Z",
     "start_time": "2020-07-09T17:32:56.241374Z"
    }
   },
   "outputs": [
    {
     "data": {
      "text/plain": [
       "Driver Error               152329\n",
       "Weather                      5004\n",
       "Driver/Equip/RD Health       4546\n",
       "Driver Distraction           4231\n",
       "Road/Vision Obstruction      2598\n",
       "Drug Use                     1345\n",
       "Name: MAIN_CAUSE, dtype: int64"
      ]
     },
     "execution_count": 66,
     "metadata": {},
     "output_type": "execute_result"
    }
   ],
   "source": [
    "crashes['MAIN_CAUSE'].value_counts()"
   ]
  },
  {
   "cell_type": "code",
   "execution_count": 67,
   "metadata": {
    "ExecuteTime": {
     "end_time": "2020-07-09T17:32:56.609902Z",
     "start_time": "2020-07-09T17:32:56.263694Z"
    }
   },
   "outputs": [
    {
     "data": {
      "text/plain": [
       "Unnamed: 0                            0\n",
       "CRASH_RECORD_ID                       0\n",
       "RD_NO                                 0\n",
       "CRASH_DATE                            0\n",
       "POSTED_SPEED_LIMIT                    0\n",
       "TRAFFIC_CONTROL_DEVICE                0\n",
       "DEVICE_CONDITION                      0\n",
       "WEATHER_CONDITION                     0\n",
       "LIGHTING_CONDITION                    0\n",
       "FIRST_CRASH_TYPE                      0\n",
       "TRAFFICWAY_TYPE                       0\n",
       "LANE_CNT                         157429\n",
       "ALIGNMENT                             0\n",
       "ROADWAY_SURFACE_COND                  0\n",
       "ROAD_DEFECT                           0\n",
       "REPORT_TYPE                           0\n",
       "CRASH_TYPE                            0\n",
       "INTERSECTION_RELATED_I           240548\n",
       "HIT_AND_RUN_I                         0\n",
       "DAMAGE                                0\n",
       "DATE_POLICE_NOTIFIED                  0\n",
       "PRIM_CONTRIBUTORY_CAUSE               0\n",
       "SEC_CONTRIBUTORY_CAUSE                0\n",
       "STREET_NO                             0\n",
       "STREET_DIRECTION                      0\n",
       "STREET_NAME                           0\n",
       "BEAT_OF_OCCURRENCE                    0\n",
       "NUM_UNITS                             0\n",
       "MOST_SEVERE_INJURY                    0\n",
       "INJURIES_TOTAL                        0\n",
       "INJURIES_FATAL                        0\n",
       "INJURIES_INCAPACITATING               0\n",
       "INJURIES_NON_INCAPACITATING           0\n",
       "INJURIES_REPORTED_NOT_EVIDENT         0\n",
       "INJURIES_NO_INDICATION                0\n",
       "INJURIES_UNKNOWN                      0\n",
       "CRASH_HOUR                            0\n",
       "CRASH_DAY_OF_WEEK                     0\n",
       "CRASH_MONTH                           0\n",
       "LATITUDE                              0\n",
       "LONGITUDE                             0\n",
       "LOCATION                              0\n",
       "STREET_TYPE                           0\n",
       "TRAFFIC_CONTROL_PRESENT               0\n",
       "STRAIGHT_ROAD                         0\n",
       "LEVEL_ROAD                            0\n",
       "TIME_BEFORE_NOTIFICATION              0\n",
       "LANE_TYPE                        157429\n",
       "MAIN_CAUSE                       138960\n",
       "dtype: int64"
      ]
     },
     "execution_count": 67,
     "metadata": {},
     "output_type": "execute_result"
    }
   ],
   "source": [
    "crashes.isna().sum()"
   ]
  },
  {
   "cell_type": "code",
   "execution_count": 68,
   "metadata": {
    "ExecuteTime": {
     "end_time": "2020-07-09T17:32:56.901054Z",
     "start_time": "2020-07-09T17:32:56.614366Z"
    }
   },
   "outputs": [
    {
     "name": "stdout",
     "output_type": "stream",
     "text": [
      "<class 'pandas.core.frame.DataFrame'>\n",
      "Int64Index: 309013 entries, 3 to 416197\n",
      "Data columns (total 49 columns):\n",
      " #   Column                         Non-Null Count   Dtype         \n",
      "---  ------                         --------------   -----         \n",
      " 0   Unnamed: 0                     309013 non-null  float64       \n",
      " 1   CRASH_RECORD_ID                309013 non-null  object        \n",
      " 2   RD_NO                          309013 non-null  object        \n",
      " 3   CRASH_DATE                     309013 non-null  datetime64[ns]\n",
      " 4   POSTED_SPEED_LIMIT             309013 non-null  float64       \n",
      " 5   TRAFFIC_CONTROL_DEVICE         309013 non-null  object        \n",
      " 6   DEVICE_CONDITION               309013 non-null  object        \n",
      " 7   WEATHER_CONDITION              309013 non-null  object        \n",
      " 8   LIGHTING_CONDITION             309013 non-null  object        \n",
      " 9   FIRST_CRASH_TYPE               309013 non-null  object        \n",
      " 10  TRAFFICWAY_TYPE                309013 non-null  object        \n",
      " 11  LANE_CNT                       151584 non-null  float64       \n",
      " 12  ALIGNMENT                      309013 non-null  object        \n",
      " 13  ROADWAY_SURFACE_COND           309013 non-null  object        \n",
      " 14  ROAD_DEFECT                    309013 non-null  object        \n",
      " 15  REPORT_TYPE                    309013 non-null  object        \n",
      " 16  CRASH_TYPE                     309013 non-null  object        \n",
      " 17  INTERSECTION_RELATED_I         68465 non-null   object        \n",
      " 18  HIT_AND_RUN_I                  309013 non-null  float64       \n",
      " 19  DAMAGE                         309013 non-null  object        \n",
      " 20  DATE_POLICE_NOTIFIED           309013 non-null  datetime64[ns]\n",
      " 21  PRIM_CONTRIBUTORY_CAUSE        309013 non-null  object        \n",
      " 22  SEC_CONTRIBUTORY_CAUSE         309013 non-null  object        \n",
      " 23  STREET_NO                      309013 non-null  float64       \n",
      " 24  STREET_DIRECTION               309013 non-null  object        \n",
      " 25  STREET_NAME                    309013 non-null  object        \n",
      " 26  BEAT_OF_OCCURRENCE             309013 non-null  float64       \n",
      " 27  NUM_UNITS                      309013 non-null  float64       \n",
      " 28  MOST_SEVERE_INJURY             309013 non-null  object        \n",
      " 29  INJURIES_TOTAL                 309013 non-null  float64       \n",
      " 30  INJURIES_FATAL                 309013 non-null  float64       \n",
      " 31  INJURIES_INCAPACITATING        309013 non-null  float64       \n",
      " 32  INJURIES_NON_INCAPACITATING    309013 non-null  float64       \n",
      " 33  INJURIES_REPORTED_NOT_EVIDENT  309013 non-null  float64       \n",
      " 34  INJURIES_NO_INDICATION         309013 non-null  float64       \n",
      " 35  INJURIES_UNKNOWN               309013 non-null  float64       \n",
      " 36  CRASH_HOUR                     309013 non-null  float64       \n",
      " 37  CRASH_DAY_OF_WEEK              309013 non-null  float64       \n",
      " 38  CRASH_MONTH                    309013 non-null  float64       \n",
      " 39  LATITUDE                       309013 non-null  float64       \n",
      " 40  LONGITUDE                      309013 non-null  float64       \n",
      " 41  LOCATION                       309013 non-null  object        \n",
      " 42  STREET_TYPE                    309013 non-null  object        \n",
      " 43  TRAFFIC_CONTROL_PRESENT        309013 non-null  float64       \n",
      " 44  STRAIGHT_ROAD                  309013 non-null  float64       \n",
      " 45  LEVEL_ROAD                     309013 non-null  float64       \n",
      " 46  TIME_BEFORE_NOTIFICATION       309013 non-null  float64       \n",
      " 47  LANE_TYPE                      151584 non-null  category      \n",
      " 48  MAIN_CAUSE                     170053 non-null  object        \n",
      "dtypes: category(1), datetime64[ns](2), float64(23), object(23)\n",
      "memory usage: 115.8+ MB\n"
     ]
    }
   ],
   "source": [
    "crashes.info()"
   ]
  },
  {
   "cell_type": "code",
   "execution_count": 69,
   "metadata": {
    "ExecuteTime": {
     "end_time": "2020-07-09T17:32:56.920398Z",
     "start_time": "2020-07-09T17:32:56.903038Z"
    }
   },
   "outputs": [
    {
     "data": {
      "text/plain": [
       "2.0     165249\n",
       "1.0      67711\n",
       "3.0      45344\n",
       "4.0      17569\n",
       "5.0       7536\n",
       "6.0       3234\n",
       "7.0       1248\n",
       "8.0        557\n",
       "9.0        241\n",
       "10.0       111\n",
       "11.0        59\n",
       "12.0        39\n",
       "14.0        23\n",
       "13.0        22\n",
       "16.0        14\n",
       "15.0         6\n",
       "17.0         6\n",
       "21.0         6\n",
       "27.0         5\n",
       "20.0         4\n",
       "18.0         3\n",
       "22.0         3\n",
       "37.0         3\n",
       "30.0         3\n",
       "45.0         2\n",
       "42.0         2\n",
       "31.0         2\n",
       "40.0         2\n",
       "28.0         1\n",
       "39.0         1\n",
       "38.0         1\n",
       "25.0         1\n",
       "50.0         1\n",
       "19.0         1\n",
       "26.0         1\n",
       "44.0         1\n",
       "24.0         1\n",
       "Name: TOTAL_PEOPLE_INVOLVED, dtype: int64"
      ]
     },
     "execution_count": 69,
     "metadata": {},
     "output_type": "execute_result"
    }
   ],
   "source": [
    "crashes['TOTAL_PEOPLE_INVOLVED'] = crashes['INJURIES_TOTAL'] + crashes['INJURIES_NO_INDICATION']\n",
    "crashes['TOTAL_PEOPLE_INVOLVED'].value_counts()"
   ]
  },
  {
   "cell_type": "code",
   "execution_count": 70,
   "metadata": {
    "ExecuteTime": {
     "end_time": "2020-07-09T17:32:57.118303Z",
     "start_time": "2020-07-09T17:32:56.922878Z"
    }
   },
   "outputs": [],
   "source": [
    "crashes = crashes[crashes['TOTAL_PEOPLE_INVOLVED'] < 20]"
   ]
  },
  {
   "cell_type": "code",
   "execution_count": 71,
   "metadata": {
    "ExecuteTime": {
     "end_time": "2020-07-09T17:32:57.572142Z",
     "start_time": "2020-07-09T17:32:57.120782Z"
    }
   },
   "outputs": [],
   "source": [
    "crashes['DRY_ROAD'] = crashes['ROADWAY_SURFACE_COND'].apply(lambda x: 1 if x == 'DRY' else 0)\n",
    "crashes['CLEAR_WEATHER'] = crashes['WEATHER_CONDITION'].apply(lambda x: 1 if x == 'CLEAR' else 0)\n",
    "crashes['BEAT_OF_OCCURRENCE'] = crashes['BEAT_OF_OCCURRENCE'].apply(lambda x: str(x))"
   ]
  },
  {
   "cell_type": "markdown",
   "metadata": {},
   "source": [
    "# SUCCESS!\n",
    "It took some time a fair amount of trial and error but I think we're at the point where we can call this our Master dataset for crash info!"
   ]
  },
  {
   "cell_type": "markdown",
   "metadata": {},
   "source": [
    "### Next Steps\n",
    "What we'll do now is create 3 new csv files to work from. The first will be the current dataset so that we can attempt to predict and fill the missing LANE_CNT or LANE_TYPE columns. Next we will split the dataset into one that we can predict from and one that we can hopefully predict the causes that were classified as UNABLE TO DETERMINE or NOT APPLICABLE."
   ]
  },
  {
   "cell_type": "code",
   "execution_count": 73,
   "metadata": {
    "ExecuteTime": {
     "end_time": "2020-07-09T17:33:22.361224Z",
     "start_time": "2020-07-09T17:33:22.112232Z"
    }
   },
   "outputs": [],
   "source": [
    "crashes.drop(columns=['Unnamed: 0', 'INJURIES_UNKNOWN', 'MOST_SEVERE_INJURY', 'INTERSECTION_RELATED_I', 'LOCATION', 'LANE_CNT', 'ALIGNMENT', 'DATE_POLICE_NOTIFIED', 'CRASH_DATE'], axis = 1, inplace=True)"
   ]
  },
  {
   "cell_type": "code",
   "execution_count": 74,
   "metadata": {
    "ExecuteTime": {
     "end_time": "2020-07-09T17:33:23.683064Z",
     "start_time": "2020-07-09T17:33:22.537800Z"
    }
   },
   "outputs": [
    {
     "name": "stdout",
     "output_type": "stream",
     "text": [
      "Stored 'crashes' (DataFrame)\n"
     ]
    }
   ],
   "source": [
    "# This will store the current dataset in memory so we can try our predictive model for missing values in another notebook.\n",
    "%store crashes"
   ]
  },
  {
   "cell_type": "code",
   "execution_count": 75,
   "metadata": {
    "ExecuteTime": {
     "end_time": "2020-07-09T17:33:23.846248Z",
     "start_time": "2020-07-09T17:33:23.684552Z"
    }
   },
   "outputs": [
    {
     "name": "stdout",
     "output_type": "stream",
     "text": [
      "<class 'pandas.core.frame.DataFrame'>\n",
      "Int64Index: 111801 entries, 3 to 416197\n",
      "Data columns (total 43 columns):\n",
      " #   Column                         Non-Null Count   Dtype   \n",
      "---  ------                         --------------   -----   \n",
      " 0   CRASH_RECORD_ID                111801 non-null  object  \n",
      " 1   RD_NO                          111801 non-null  object  \n",
      " 2   POSTED_SPEED_LIMIT             111801 non-null  float64 \n",
      " 3   TRAFFIC_CONTROL_DEVICE         111801 non-null  object  \n",
      " 4   DEVICE_CONDITION               111801 non-null  object  \n",
      " 5   WEATHER_CONDITION              111801 non-null  object  \n",
      " 6   LIGHTING_CONDITION             111801 non-null  object  \n",
      " 7   FIRST_CRASH_TYPE               111801 non-null  object  \n",
      " 8   TRAFFICWAY_TYPE                111801 non-null  object  \n",
      " 9   ROADWAY_SURFACE_COND           111801 non-null  object  \n",
      " 10  ROAD_DEFECT                    111801 non-null  object  \n",
      " 11  REPORT_TYPE                    111801 non-null  object  \n",
      " 12  CRASH_TYPE                     111801 non-null  object  \n",
      " 13  HIT_AND_RUN_I                  111801 non-null  float64 \n",
      " 14  DAMAGE                         111801 non-null  object  \n",
      " 15  PRIM_CONTRIBUTORY_CAUSE        111801 non-null  object  \n",
      " 16  SEC_CONTRIBUTORY_CAUSE         111801 non-null  object  \n",
      " 17  STREET_NO                      111801 non-null  float64 \n",
      " 18  STREET_DIRECTION               111801 non-null  object  \n",
      " 19  STREET_NAME                    111801 non-null  object  \n",
      " 20  BEAT_OF_OCCURRENCE             111801 non-null  object  \n",
      " 21  NUM_UNITS                      111801 non-null  float64 \n",
      " 22  INJURIES_TOTAL                 111801 non-null  float64 \n",
      " 23  INJURIES_FATAL                 111801 non-null  float64 \n",
      " 24  INJURIES_INCAPACITATING        111801 non-null  float64 \n",
      " 25  INJURIES_NON_INCAPACITATING    111801 non-null  float64 \n",
      " 26  INJURIES_REPORTED_NOT_EVIDENT  111801 non-null  float64 \n",
      " 27  INJURIES_NO_INDICATION         111801 non-null  float64 \n",
      " 28  CRASH_HOUR                     111801 non-null  float64 \n",
      " 29  CRASH_DAY_OF_WEEK              111801 non-null  float64 \n",
      " 30  CRASH_MONTH                    111801 non-null  float64 \n",
      " 31  LATITUDE                       111801 non-null  float64 \n",
      " 32  LONGITUDE                      111801 non-null  float64 \n",
      " 33  STREET_TYPE                    111801 non-null  object  \n",
      " 34  TRAFFIC_CONTROL_PRESENT        111801 non-null  float64 \n",
      " 35  STRAIGHT_ROAD                  111801 non-null  float64 \n",
      " 36  LEVEL_ROAD                     111801 non-null  float64 \n",
      " 37  TIME_BEFORE_NOTIFICATION       111801 non-null  float64 \n",
      " 38  LANE_TYPE                      51835 non-null   category\n",
      " 39  MAIN_CAUSE                     0 non-null       object  \n",
      " 40  TOTAL_PEOPLE_INVOLVED          111801 non-null  float64 \n",
      " 41  DRY_ROAD                       111801 non-null  int64   \n",
      " 42  CLEAR_WEATHER                  111801 non-null  int64   \n",
      "dtypes: category(1), float64(20), int64(2), object(20)\n",
      "memory usage: 36.8+ MB\n"
     ]
    }
   ],
   "source": [
    "Crashes_exclude = crashes[crashes['PRIM_CONTRIBUTORY_CAUSE'] == ('UNABLE TO DETERMINE' or 'NOT APPLICABLE')]\n",
    "Crashes_exclude.info()"
   ]
  },
  {
   "cell_type": "code",
   "execution_count": 76,
   "metadata": {
    "ExecuteTime": {
     "end_time": "2020-07-09T17:33:24.072424Z",
     "start_time": "2020-07-09T17:33:23.848232Z"
    }
   },
   "outputs": [
    {
     "name": "stdout",
     "output_type": "stream",
     "text": [
      "<class 'pandas.core.frame.DataFrame'>\n",
      "Int64Index: 170023 entries, 6 to 416193\n",
      "Data columns (total 43 columns):\n",
      " #   Column                         Non-Null Count   Dtype   \n",
      "---  ------                         --------------   -----   \n",
      " 0   CRASH_RECORD_ID                170023 non-null  object  \n",
      " 1   RD_NO                          170023 non-null  object  \n",
      " 2   POSTED_SPEED_LIMIT             170023 non-null  float64 \n",
      " 3   TRAFFIC_CONTROL_DEVICE         170023 non-null  object  \n",
      " 4   DEVICE_CONDITION               170023 non-null  object  \n",
      " 5   WEATHER_CONDITION              170023 non-null  object  \n",
      " 6   LIGHTING_CONDITION             170023 non-null  object  \n",
      " 7   FIRST_CRASH_TYPE               170023 non-null  object  \n",
      " 8   TRAFFICWAY_TYPE                170023 non-null  object  \n",
      " 9   ROADWAY_SURFACE_COND           170023 non-null  object  \n",
      " 10  ROAD_DEFECT                    170023 non-null  object  \n",
      " 11  REPORT_TYPE                    170023 non-null  object  \n",
      " 12  CRASH_TYPE                     170023 non-null  object  \n",
      " 13  HIT_AND_RUN_I                  170023 non-null  float64 \n",
      " 14  DAMAGE                         170023 non-null  object  \n",
      " 15  PRIM_CONTRIBUTORY_CAUSE        170023 non-null  object  \n",
      " 16  SEC_CONTRIBUTORY_CAUSE         170023 non-null  object  \n",
      " 17  STREET_NO                      170023 non-null  float64 \n",
      " 18  STREET_DIRECTION               170023 non-null  object  \n",
      " 19  STREET_NAME                    170023 non-null  object  \n",
      " 20  BEAT_OF_OCCURRENCE             170023 non-null  object  \n",
      " 21  NUM_UNITS                      170023 non-null  float64 \n",
      " 22  INJURIES_TOTAL                 170023 non-null  float64 \n",
      " 23  INJURIES_FATAL                 170023 non-null  float64 \n",
      " 24  INJURIES_INCAPACITATING        170023 non-null  float64 \n",
      " 25  INJURIES_NON_INCAPACITATING    170023 non-null  float64 \n",
      " 26  INJURIES_REPORTED_NOT_EVIDENT  170023 non-null  float64 \n",
      " 27  INJURIES_NO_INDICATION         170023 non-null  float64 \n",
      " 28  CRASH_HOUR                     170023 non-null  float64 \n",
      " 29  CRASH_DAY_OF_WEEK              170023 non-null  float64 \n",
      " 30  CRASH_MONTH                    170023 non-null  float64 \n",
      " 31  LATITUDE                       170023 non-null  float64 \n",
      " 32  LONGITUDE                      170023 non-null  float64 \n",
      " 33  STREET_TYPE                    170023 non-null  object  \n",
      " 34  TRAFFIC_CONTROL_PRESENT        170023 non-null  float64 \n",
      " 35  STRAIGHT_ROAD                  170023 non-null  float64 \n",
      " 36  LEVEL_ROAD                     170023 non-null  float64 \n",
      " 37  TIME_BEFORE_NOTIFICATION       170023 non-null  float64 \n",
      " 38  LANE_TYPE                      88047 non-null   category\n",
      " 39  MAIN_CAUSE                     170023 non-null  object  \n",
      " 40  TOTAL_PEOPLE_INVOLVED          170023 non-null  float64 \n",
      " 41  DRY_ROAD                       170023 non-null  int64   \n",
      " 42  CLEAR_WEATHER                  170023 non-null  int64   \n",
      "dtypes: category(1), float64(20), int64(2), object(20)\n",
      "memory usage: 55.9+ MB\n"
     ]
    }
   ],
   "source": [
    "Crashes = crashes[crashes['MAIN_CAUSE'].notna()]\n",
    "Crashes.info()"
   ]
  },
  {
   "cell_type": "code",
   "execution_count": 77,
   "metadata": {
    "ExecuteTime": {
     "end_time": "2020-07-09T17:33:24.140376Z",
     "start_time": "2020-07-09T17:33:24.073912Z"
    }
   },
   "outputs": [
    {
     "name": "stderr",
     "output_type": "stream",
     "text": [
      "C:\\Users\\damni\\anaconda3\\envs\\learn-env\\lib\\site-packages\\ipykernel_launcher.py:1: SettingWithCopyWarning: \n",
      "A value is trying to be set on a copy of a slice from a DataFrame.\n",
      "Try using .loc[row_indexer,col_indexer] = value instead\n",
      "\n",
      "See the caveats in the documentation: https://pandas.pydata.org/pandas-docs/stable/user_guide/indexing.html#returning-a-view-versus-a-copy\n",
      "  \"\"\"Entry point for launching an IPython kernel.\n"
     ]
    }
   ],
   "source": [
    "Crashes['DRIVER_ERROR'] = Crashes['MAIN_CAUSE'].apply(lambda x: 1 if x == 'Driver Error' else 0)"
   ]
  },
  {
   "cell_type": "code",
   "execution_count": 78,
   "metadata": {
    "ExecuteTime": {
     "end_time": "2020-07-09T17:33:30.519430Z",
     "start_time": "2020-07-09T17:33:24.320920Z"
    }
   },
   "outputs": [],
   "source": [
    "Crashes_exclude.to_csv('Unclassified_Crash_Data.csv', index=False)\n",
    "Crashes.to_csv('Crash_Classification_Data.csv', index=False)"
   ]
  },
  {
   "cell_type": "code",
   "execution_count": 79,
   "metadata": {
    "ExecuteTime": {
     "end_time": "2020-07-09T17:36:58.624618Z",
     "start_time": "2020-07-09T17:35:18.628559Z"
    }
   },
   "outputs": [
    {
     "data": {
      "application/vnd.jupyter.widget-view+json": {
       "model_id": "9f2e079154b64f19a4598e00a5db4024",
       "version_major": 2,
       "version_minor": 0
      },
      "text/plain": [
       "HBox(children=(FloatProgress(value=0.0, description='Summarize dataset', max=59.0, style=ProgressStyle(descrip…"
      ]
     },
     "metadata": {},
     "output_type": "display_data"
    },
    {
     "name": "stdout",
     "output_type": "stream",
     "text": [
      "\n"
     ]
    },
    {
     "data": {
      "application/vnd.jupyter.widget-view+json": {
       "model_id": "b217a9a05698461986d7a933588b80c3",
       "version_major": 2,
       "version_minor": 0
      },
      "text/plain": [
       "HBox(children=(FloatProgress(value=0.0, description='Generate report structure', max=1.0, style=ProgressStyle(…"
      ]
     },
     "metadata": {},
     "output_type": "display_data"
    },
    {
     "name": "stdout",
     "output_type": "stream",
     "text": [
      "\n"
     ]
    },
    {
     "data": {
      "application/vnd.jupyter.widget-view+json": {
       "model_id": "a2ed60b82ccc49c6a124d353989bf835",
       "version_major": 2,
       "version_minor": 0
      },
      "text/plain": [
       "HBox(children=(FloatProgress(value=0.0, description='Render HTML', max=1.0, style=ProgressStyle(description_wi…"
      ]
     },
     "metadata": {},
     "output_type": "display_data"
    },
    {
     "name": "stdout",
     "output_type": "stream",
     "text": [
      "\n"
     ]
    },
    {
     "data": {
      "application/vnd.jupyter.widget-view+json": {
       "model_id": "964c44a2b7f548f6a02ce0397fdad548",
       "version_major": 2,
       "version_minor": 0
      },
      "text/plain": [
       "HBox(children=(FloatProgress(value=0.0, description='Export report to file', max=1.0, style=ProgressStyle(desc…"
      ]
     },
     "metadata": {},
     "output_type": "display_data"
    },
    {
     "name": "stdout",
     "output_type": "stream",
     "text": [
      "\n"
     ]
    }
   ],
   "source": [
    "model_data = ProfileReport(Crashes, title='Model Data Profile Report')\n",
    "\n",
    "model_data.to_file(output_file='Model_Crash_Data.html')"
   ]
  },
  {
   "cell_type": "code",
   "execution_count": 80,
   "metadata": {
    "ExecuteTime": {
     "end_time": "2020-07-09T17:44:36.113592Z",
     "start_time": "2020-07-09T17:44:36.095735Z"
    }
   },
   "outputs": [
    {
     "data": {
      "text/plain": [
       "FOLLOWING TOO CLOSELY                                                               36010\n",
       "FAILING TO YIELD RIGHT-OF-WAY                                                       35339\n",
       "IMPROPER OVERTAKING/PASSING                                                         15747\n",
       "IMPROPER BACKING                                                                    14179\n",
       "IMPROPER LANE USAGE                                                                 12920\n",
       "FAILING TO REDUCE SPEED TO AVOID CRASH                                              12487\n",
       "DRIVING SKILLS/KNOWLEDGE/EXPERIENCE                                                  9678\n",
       "WEATHER                                                                              5003\n",
       "DISREGARDING TRAFFIC SIGNALS                                                         4822\n",
       "DISREGARDING STOP SIGN                                                               3170\n",
       "OPERATING VEHICLE IN ERRATIC, RECKLESS, CARELESS, NEGLIGENT OR AGGRESSIVE MANNER     3048\n",
       "DISTRACTION - FROM INSIDE VEHICLE                                                    2236\n",
       "VISION OBSCURED (SIGNS, TREE LIMBS, BUILDINGS, ETC.)                                 1804\n",
       "EQUIPMENT - VEHICLE CONDITION                                                        1720\n",
       "PHYSICAL CONDITION OF DRIVER                                                         1559\n",
       "EXCEEDING AUTHORIZED SPEED LIMIT                                                     1298\n",
       "DISTRACTION - FROM OUTSIDE VEHICLE                                                   1290\n",
       "DRIVING ON WRONG SIDE/WRONG WAY                                                      1224\n",
       "EXCEEDING SAFE SPEED FOR CONDITIONS                                                  1199\n",
       "UNDER THE INFLUENCE OF ALCOHOL/DRUGS (USE WHEN ARREST IS EFFECTED)                   1034\n",
       "ROAD CONSTRUCTION/MAINTENANCE                                                         640\n",
       "ROAD ENGINEERING/SURFACE/MARKING DEFECTS                                              627\n",
       "DISREGARDING OTHER TRAFFIC SIGNS                                                      613\n",
       "EVASIVE ACTION DUE TO ANIMAL, OBJECT, NONMOTORIST                                     516\n",
       "CELL PHONE USE OTHER THAN TEXTING                                                     416\n",
       "DISREGARDING ROAD MARKINGS                                                            415\n",
       "HAD BEEN DRINKING (USE WHEN ARREST IS NOT MADE)                                       311\n",
       "ANIMAL                                                                                263\n",
       "DISTRACTION - OTHER ELECTRONIC DEVICE (NAVIGATION DEVICE, DVD PLAYER, ETC.)           152\n",
       "TEXTING                                                                               136\n",
       "DISREGARDING YIELD SIGN                                                               107\n",
       "PASSING STOPPED SCHOOL BUS                                                             46\n",
       "OBSTRUCTED CROSSWALKS                                                                  14\n",
       "Name: PRIM_CONTRIBUTORY_CAUSE, dtype: int64"
      ]
     },
     "execution_count": 80,
     "metadata": {},
     "output_type": "execute_result"
    }
   ],
   "source": [
    "Crashes['PRIM_CONTRIBUTORY_CAUSE'].value_counts()"
   ]
  },
  {
   "cell_type": "code",
   "execution_count": null,
   "metadata": {},
   "outputs": [],
   "source": []
  }
 ],
 "metadata": {
  "kernelspec": {
   "display_name": "Python [conda env:learn-env] *",
   "language": "python",
   "name": "conda-env-learn-env-py"
  },
  "language_info": {
   "codemirror_mode": {
    "name": "ipython",
    "version": 3
   },
   "file_extension": ".py",
   "mimetype": "text/x-python",
   "name": "python",
   "nbconvert_exporter": "python",
   "pygments_lexer": "ipython3",
   "version": "3.6.9"
  }
 },
 "nbformat": 4,
 "nbformat_minor": 2
}
