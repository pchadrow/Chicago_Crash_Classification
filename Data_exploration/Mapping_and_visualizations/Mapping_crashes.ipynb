{
 "cells": [
  {
   "cell_type": "code",
   "execution_count": null,
   "metadata": {
    "ExecuteTime": {
     "end_time": "2020-07-09T19:44:11.307572Z",
     "start_time": "2020-07-09T19:44:09.508581Z"
    }
   },
   "outputs": [],
   "source": [
    "import folium\n",
    "from folium.plugins import MarkerCluster\n",
    "import pandas as pd\n",
    "import plotly.express as px\n",
    "import plotly.graph_objects as go"
   ]
  },
  {
   "cell_type": "markdown",
   "metadata": {},
   "source": [
    "### Let's see if we can identify any patterns or trends by mapping our crashes!\n",
    "To gain some further insight we will also take a look at posted speed limit where the crashes occur as well as the total amount of injuries as a result of crash."
   ]
  },
  {
   "cell_type": "code",
   "execution_count": null,
   "metadata": {
    "ExecuteTime": {
     "end_time": "2020-07-09T19:44:12.447877Z",
     "start_time": "2020-07-09T19:44:11.309060Z"
    }
   },
   "outputs": [],
   "source": [
    "filtered_crash = pd.read_csv('../Crash_Classification_Data.csv')"
   ]
  },
  {
   "cell_type": "code",
   "execution_count": null,
   "metadata": {
    "ExecuteTime": {
     "end_time": "2020-07-08T15:50:10.822713Z",
     "start_time": "2020-07-08T15:50:06.827930Z"
    }
   },
   "outputs": [],
   "source": [
    "px.set_mapbox_access_token(open(\".mapbox_token\").read())\n",
    "fig = px.scatter_mapbox(filtered_crash, lat=\"LATITUDE\", lon=\"LONGITUDE\", color=\"POSTED_SPEED_LIMIT\", size='INJURIES_TOTAL',\n",
    "                        color_continuous_scale='Inferno', size_max=20, zoom=10)\n",
    "fig.update_layout(title_text = 'Chicago Crash Locations - Filtered',\n",
    "                 autosize = True, height = 1200, width=980)\n",
    "fig.show()"
   ]
  },
  {
   "cell_type": "markdown",
   "metadata": {},
   "source": [
    "Here we can see that the brighter the point indicates a higher posted speed limit and the larger the point indicates more injuries."
   ]
  },
  {
   "cell_type": "markdown",
   "metadata": {},
   "source": [
    "### Let's turn this into an HTML file to make it easier to view!"
   ]
  },
  {
   "cell_type": "code",
   "execution_count": null,
   "metadata": {
    "ExecuteTime": {
     "end_time": "2020-07-08T15:50:11.559272Z",
     "start_time": "2020-07-08T15:50:10.824200Z"
    }
   },
   "outputs": [],
   "source": [
    "# fig.write_html('Chicago_Crash_Map.html')"
   ]
  },
  {
   "cell_type": "code",
   "execution_count": null,
   "metadata": {
    "ExecuteTime": {
     "end_time": "2020-07-08T15:50:16.301527Z",
     "start_time": "2020-07-08T15:50:11.560761Z"
    }
   },
   "outputs": [],
   "source": [
    "px.set_mapbox_access_token(open(\".mapbox_token\").read())\n",
    "fig = px.scatter_mapbox(filtered_crash, lat=\"LATITUDE\", lon=\"LONGITUDE\", size=\"INJURIES_FATAL\", color='INJURIES_TOTAL',\n",
    "                        color_continuous_scale='Inferno', size_max=20, zoom=10)\n",
    "fig.update_layout(title_text = 'Chicago Crash Locations - Injuries',\n",
    "                 autosize = True, height = 1200, width=980)\n",
    "fig.show()"
   ]
  },
  {
   "cell_type": "code",
   "execution_count": null,
   "metadata": {
    "ExecuteTime": {
     "end_time": "2020-07-09T19:44:29.482000Z",
     "start_time": "2020-07-09T19:44:25.375121Z"
    }
   },
   "outputs": [],
   "source": [
    "px.set_mapbox_access_token(open(\".mapbox_token\").read())\n",
    "fig = px.scatter_mapbox(filtered_crash, lat=\"LATITUDE\", lon=\"LONGITUDE\", color=\"CRASH_HOUR\", size='INJURIES_TOTAL',\n",
    "                        color_continuous_scale='icefire', size_max=20, zoom=10)\n",
    "fig.update_layout(title_text = 'Chicago Crash Locations - Time of Day',\n",
    "                 autosize = True, height = 1200, width=980)\n",
    "fig.show()"
   ]
  },
  {
   "cell_type": "code",
   "execution_count": null,
   "metadata": {
    "ExecuteTime": {
     "end_time": "2020-07-09T19:44:56.322042Z",
     "start_time": "2020-07-09T19:44:55.566138Z"
    }
   },
   "outputs": [],
   "source": [
    "# fig.write_html('Chicago_Crash_Time_Map.html')"
   ]
  },
  {
   "cell_type": "code",
   "execution_count": null,
   "metadata": {
    "ExecuteTime": {
     "end_time": "2020-07-08T16:12:08.162718Z",
     "start_time": "2020-07-08T16:12:04.684271Z"
    }
   },
   "outputs": [],
   "source": [
    "px.set_mapbox_access_token(open(\".mapbox_token\").read())\n",
    "fig = px.scatter_mapbox(filtered_crash, lat=\"LATITUDE\", lon=\"LONGITUDE\", color=\"CRASH_MONTH\", size='INJURIES_TOTAL',\n",
    "                        color_continuous_scale='icefire', size_max=20, zoom=10)\n",
    "fig.update_layout(title_text = 'Chicago Crash Locations - Time of Year',\n",
    "                 autosize = True, height = 1200, width=980)\n",
    "fig.show()"
   ]
  },
  {
   "cell_type": "code",
   "execution_count": null,
   "metadata": {},
   "outputs": [],
   "source": []
  }
 ],
 "metadata": {
  "kernelspec": {
   "display_name": "Python [conda env:learn-env] *",
   "language": "python",
   "name": "conda-env-learn-env-py"
  },
  "language_info": {
   "codemirror_mode": {
    "name": "ipython",
    "version": 3
   },
   "file_extension": ".py",
   "mimetype": "text/x-python",
   "name": "python",
   "nbconvert_exporter": "python",
   "pygments_lexer": "ipython3",
   "version": "3.6.9"
  }
 },
 "nbformat": 4,
 "nbformat_minor": 2
}
