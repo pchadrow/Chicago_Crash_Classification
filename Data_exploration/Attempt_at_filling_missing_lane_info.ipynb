{
 "cells": [
  {
   "cell_type": "code",
   "execution_count": 1,
   "metadata": {
    "ExecuteTime": {
     "end_time": "2020-07-08T14:02:58.793308Z",
     "start_time": "2020-07-08T14:02:57.170397Z"
    }
   },
   "outputs": [
    {
     "name": "stderr",
     "output_type": "stream",
     "text": [
      "C:\\Users\\damni\\anaconda3\\envs\\learn-env\\lib\\site-packages\\statsmodels\\tools\\_testing.py:19: FutureWarning: pandas.util.testing is deprecated. Use the functions in the public API at pandas.testing instead.\n",
      "  import pandas.util.testing as tm\n"
     ]
    }
   ],
   "source": [
    "import pandas as pd\n",
    "import xgboost as xgb\n",
    "\n",
    "from pandas_profiling import ProfileReport\n",
    "from sklearn.model_selection import train_test_split, GridSearchCV\n",
    "from sklearn.neighbors import KNeighborsClassifier\n",
    "from sklearn.svm import SVC\n",
    "from sklearn.metrics import precision_score, recall_score, accuracy_score, f1_score, cohen_kappa_score\n"
   ]
  },
  {
   "cell_type": "code",
   "execution_count": 2,
   "metadata": {
    "ExecuteTime": {
     "end_time": "2020-07-08T14:03:00.310572Z",
     "start_time": "2020-07-08T14:02:59.594845Z"
    }
   },
   "outputs": [],
   "source": [
    "#read saved dataframe from memory from previous notebook\n",
    "%store -r crashes"
   ]
  },
  {
   "cell_type": "code",
   "execution_count": 3,
   "metadata": {
    "ExecuteTime": {
     "end_time": "2020-07-08T14:03:00.578908Z",
     "start_time": "2020-07-08T14:03:00.312060Z"
    }
   },
   "outputs": [
    {
     "name": "stdout",
     "output_type": "stream",
     "text": [
      "<class 'pandas.core.frame.DataFrame'>\n",
      "Int64Index: 309013 entries, 3 to 416197\n",
      "Data columns (total 48 columns):\n",
      " #   Column                         Non-Null Count   Dtype          \n",
      "---  ------                         --------------   -----          \n",
      " 0   CRASH_RECORD_ID                309013 non-null  object         \n",
      " 1   RD_NO                          309013 non-null  object         \n",
      " 2   CRASH_DATE                     309013 non-null  datetime64[ns] \n",
      " 3   POSTED_SPEED_LIMIT             309013 non-null  float64        \n",
      " 4   TRAFFIC_CONTROL_DEVICE         309013 non-null  object         \n",
      " 5   DEVICE_CONDITION               309013 non-null  object         \n",
      " 6   WEATHER_CONDITION              309013 non-null  object         \n",
      " 7   LIGHTING_CONDITION             309013 non-null  object         \n",
      " 8   FIRST_CRASH_TYPE               309013 non-null  object         \n",
      " 9   TRAFFICWAY_TYPE                309013 non-null  object         \n",
      " 10  LANE_CNT                       151584 non-null  float64        \n",
      " 11  ALIGNMENT                      309013 non-null  object         \n",
      " 12  ROADWAY_SURFACE_COND           309013 non-null  object         \n",
      " 13  ROAD_DEFECT                    309013 non-null  object         \n",
      " 14  REPORT_TYPE                    309013 non-null  object         \n",
      " 15  CRASH_TYPE                     309013 non-null  object         \n",
      " 16  INTERSECTION_RELATED_I         68465 non-null   object         \n",
      " 17  HIT_AND_RUN_I                  309013 non-null  float64        \n",
      " 18  DAMAGE                         309013 non-null  object         \n",
      " 19  DATE_POLICE_NOTIFIED           309013 non-null  datetime64[ns] \n",
      " 20  PRIM_CONTRIBUTORY_CAUSE        309013 non-null  object         \n",
      " 21  SEC_CONTRIBUTORY_CAUSE         309013 non-null  object         \n",
      " 22  STREET_NO                      309013 non-null  float64        \n",
      " 23  STREET_DIRECTION               309013 non-null  object         \n",
      " 24  STREET_NAME                    309013 non-null  object         \n",
      " 25  BEAT_OF_OCCURRENCE             309013 non-null  float64        \n",
      " 26  NUM_UNITS                      309013 non-null  float64        \n",
      " 27  MOST_SEVERE_INJURY             309013 non-null  object         \n",
      " 28  INJURIES_TOTAL                 309013 non-null  float64        \n",
      " 29  INJURIES_FATAL                 309013 non-null  float64        \n",
      " 30  INJURIES_INCAPACITATING        309013 non-null  float64        \n",
      " 31  INJURIES_NON_INCAPACITATING    309013 non-null  float64        \n",
      " 32  INJURIES_REPORTED_NOT_EVIDENT  309013 non-null  float64        \n",
      " 33  INJURIES_NO_INDICATION         309013 non-null  float64        \n",
      " 34  INJURIES_UNKNOWN               309013 non-null  float64        \n",
      " 35  CRASH_HOUR                     309013 non-null  float64        \n",
      " 36  CRASH_DAY_OF_WEEK              309013 non-null  float64        \n",
      " 37  CRASH_MONTH                    309013 non-null  float64        \n",
      " 38  LATITUDE                       309013 non-null  float64        \n",
      " 39  LONGITUDE                      309013 non-null  float64        \n",
      " 40  LOCATION                       309013 non-null  object         \n",
      " 41  STREET_TYPE                    309013 non-null  object         \n",
      " 42  TRAFFIC_CONTROL_PRESENT        309013 non-null  float64        \n",
      " 43  STRAIGHT_ROAD                  309013 non-null  float64        \n",
      " 44  LEVEL_ROAD                     309013 non-null  float64        \n",
      " 45  TIME_BEFORE_NOTIFICATION       309013 non-null  timedelta64[ns]\n",
      " 46  LANE_TYPE                      151584 non-null  category       \n",
      " 47  MAIN_CAUSE                     170053 non-null  object         \n",
      "dtypes: category(1), datetime64[ns](2), float64(21), object(23), timedelta64[ns](1)\n",
      "memory usage: 113.5+ MB\n"
     ]
    }
   ],
   "source": [
    "crashes.info()"
   ]
  },
  {
   "cell_type": "markdown",
   "metadata": {},
   "source": [
    "### Hopefully a refined attempt to predict some of our missing values\n",
    "We were able to pull in our modified dataset successfully so we will now trim it down a bit more in hopes that we can predict some of our missing lane values!"
   ]
  },
  {
   "cell_type": "code",
   "execution_count": 4,
   "metadata": {
    "ExecuteTime": {
     "end_time": "2020-07-08T14:03:10.715659Z",
     "start_time": "2020-07-08T14:03:10.523706Z"
    }
   },
   "outputs": [
    {
     "name": "stdout",
     "output_type": "stream",
     "text": [
      "<class 'pandas.core.frame.DataFrame'>\n",
      "Int64Index: 151584 entries, 3 to 416126\n",
      "Data columns (total 48 columns):\n",
      " #   Column                         Non-Null Count   Dtype          \n",
      "---  ------                         --------------   -----          \n",
      " 0   CRASH_RECORD_ID                151584 non-null  object         \n",
      " 1   RD_NO                          151584 non-null  object         \n",
      " 2   CRASH_DATE                     151584 non-null  datetime64[ns] \n",
      " 3   POSTED_SPEED_LIMIT             151584 non-null  float64        \n",
      " 4   TRAFFIC_CONTROL_DEVICE         151584 non-null  object         \n",
      " 5   DEVICE_CONDITION               151584 non-null  object         \n",
      " 6   WEATHER_CONDITION              151584 non-null  object         \n",
      " 7   LIGHTING_CONDITION             151584 non-null  object         \n",
      " 8   FIRST_CRASH_TYPE               151584 non-null  object         \n",
      " 9   TRAFFICWAY_TYPE                151584 non-null  object         \n",
      " 10  LANE_CNT                       151584 non-null  float64        \n",
      " 11  ALIGNMENT                      151584 non-null  object         \n",
      " 12  ROADWAY_SURFACE_COND           151584 non-null  object         \n",
      " 13  ROAD_DEFECT                    151584 non-null  object         \n",
      " 14  REPORT_TYPE                    151584 non-null  object         \n",
      " 15  CRASH_TYPE                     151584 non-null  object         \n",
      " 16  INTERSECTION_RELATED_I         35704 non-null   object         \n",
      " 17  HIT_AND_RUN_I                  151584 non-null  float64        \n",
      " 18  DAMAGE                         151584 non-null  object         \n",
      " 19  DATE_POLICE_NOTIFIED           151584 non-null  datetime64[ns] \n",
      " 20  PRIM_CONTRIBUTORY_CAUSE        151584 non-null  object         \n",
      " 21  SEC_CONTRIBUTORY_CAUSE         151584 non-null  object         \n",
      " 22  STREET_NO                      151584 non-null  float64        \n",
      " 23  STREET_DIRECTION               151584 non-null  object         \n",
      " 24  STREET_NAME                    151584 non-null  object         \n",
      " 25  BEAT_OF_OCCURRENCE             151584 non-null  float64        \n",
      " 26  NUM_UNITS                      151584 non-null  float64        \n",
      " 27  MOST_SEVERE_INJURY             151584 non-null  object         \n",
      " 28  INJURIES_TOTAL                 151584 non-null  float64        \n",
      " 29  INJURIES_FATAL                 151584 non-null  float64        \n",
      " 30  INJURIES_INCAPACITATING        151584 non-null  float64        \n",
      " 31  INJURIES_NON_INCAPACITATING    151584 non-null  float64        \n",
      " 32  INJURIES_REPORTED_NOT_EVIDENT  151584 non-null  float64        \n",
      " 33  INJURIES_NO_INDICATION         151584 non-null  float64        \n",
      " 34  INJURIES_UNKNOWN               151584 non-null  float64        \n",
      " 35  CRASH_HOUR                     151584 non-null  float64        \n",
      " 36  CRASH_DAY_OF_WEEK              151584 non-null  float64        \n",
      " 37  CRASH_MONTH                    151584 non-null  float64        \n",
      " 38  LATITUDE                       151584 non-null  float64        \n",
      " 39  LONGITUDE                      151584 non-null  float64        \n",
      " 40  LOCATION                       151584 non-null  object         \n",
      " 41  STREET_TYPE                    151584 non-null  object         \n",
      " 42  TRAFFIC_CONTROL_PRESENT        151584 non-null  float64        \n",
      " 43  STRAIGHT_ROAD                  151584 non-null  float64        \n",
      " 44  LEVEL_ROAD                     151584 non-null  float64        \n",
      " 45  TIME_BEFORE_NOTIFICATION       151584 non-null  timedelta64[ns]\n",
      " 46  LANE_TYPE                      151584 non-null  category       \n",
      " 47  MAIN_CAUSE                     88069 non-null   object         \n",
      "dtypes: category(1), datetime64[ns](2), float64(21), object(23), timedelta64[ns](1)\n",
      "memory usage: 55.7+ MB\n"
     ]
    }
   ],
   "source": [
    "model_data = crashes[crashes['LANE_TYPE'].notna()]\n",
    "model_data.info()"
   ]
  },
  {
   "cell_type": "markdown",
   "metadata": {},
   "source": [
    "### Great!\n",
    "Next, we'll set our y and pick some features to try for X."
   ]
  },
  {
   "cell_type": "code",
   "execution_count": 5,
   "metadata": {
    "ExecuteTime": {
     "end_time": "2020-07-08T14:03:23.135992Z",
     "start_time": "2020-07-08T14:03:23.126072Z"
    }
   },
   "outputs": [],
   "source": [
    "#To reduce the number of classes to predict, we'll use LANE_TYPE as our labels\n",
    "y = model_data['LANE_TYPE']\n",
    "#Here we'll try some of the same features we used last time to see if there's any improvement with a simplified list of labels\n",
    "features = ['LATITUDE', 'LONGITUDE', 'STREET_TYPE', 'TRAFFIC_CONTROL_PRESENT', 'STRAIGHT_ROAD', 'LEVEL_ROAD', 'POSTED_SPEED_LIMIT']\n",
    "X = model_data[features]"
   ]
  },
  {
   "cell_type": "code",
   "execution_count": 6,
   "metadata": {
    "ExecuteTime": {
     "end_time": "2020-07-08T14:03:25.056999Z",
     "start_time": "2020-07-08T14:03:25.026247Z"
    }
   },
   "outputs": [],
   "source": [
    "X_dummies = pd.get_dummies(X)"
   ]
  },
  {
   "cell_type": "code",
   "execution_count": 7,
   "metadata": {
    "ExecuteTime": {
     "end_time": "2020-07-08T14:03:26.431911Z",
     "start_time": "2020-07-08T14:03:26.399671Z"
    }
   },
   "outputs": [],
   "source": [
    "X_train, X_test, y_train, y_test = train_test_split(X_dummies, y, test_size=0.25)"
   ]
  },
  {
   "cell_type": "code",
   "execution_count": 8,
   "metadata": {
    "ExecuteTime": {
     "end_time": "2020-07-08T14:03:28.580086Z",
     "start_time": "2020-07-08T14:03:28.577607Z"
    }
   },
   "outputs": [],
   "source": [
    "KNN = KNeighborsClassifier()"
   ]
  },
  {
   "cell_type": "code",
   "execution_count": 9,
   "metadata": {
    "ExecuteTime": {
     "end_time": "2020-07-08T14:03:56.807936Z",
     "start_time": "2020-07-08T14:03:30.261526Z"
    }
   },
   "outputs": [],
   "source": [
    "KNN.fit(X_train, y_train)\n",
    "test_preds = KNN.predict(X_test)"
   ]
  },
  {
   "cell_type": "code",
   "execution_count": 10,
   "metadata": {
    "ExecuteTime": {
     "end_time": "2020-07-08T14:04:00.780896Z",
     "start_time": "2020-07-08T14:04:00.300768Z"
    }
   },
   "outputs": [
    {
     "name": "stdout",
     "output_type": "stream",
     "text": [
      "Precision Score: 0.4860494505395475\n",
      "Recall Score: 0.455531037744356\n",
      "Accuracy Score: 0.6767204982056154\n",
      "F1 Score: 0.4658982382707024\n"
     ]
    }
   ],
   "source": [
    "def print_metrics(labels, preds):\n",
    "    print(\"Precision Score: {}\".format(precision_score(labels, preds, average='macro')))\n",
    "    print(\"Recall Score: {}\".format(recall_score(labels, preds, average='macro')))\n",
    "    print(\"Accuracy Score: {}\".format(accuracy_score(labels, preds)))\n",
    "    print(\"F1 Score: {}\".format(f1_score(labels, preds, average='macro')))\n",
    "    \n",
    "print_metrics(y_test, test_preds)"
   ]
  },
  {
   "cell_type": "code",
   "execution_count": 19,
   "metadata": {
    "ExecuteTime": {
     "end_time": "2020-07-07T22:04:51.952307Z",
     "start_time": "2020-07-07T22:04:51.947844Z"
    }
   },
   "outputs": [],
   "source": [
    "def find_best_k(X_train, y_train, X_test, y_test, min_k=1, max_k=25):\n",
    "    best_k = 0\n",
    "    best_score = 0.0\n",
    "    for k in range(min_k, max_k+1):\n",
    "        knn = KNeighborsClassifier(n_neighbors=k, n_jobs=3)\n",
    "        knn.fit(X_train, y_train)\n",
    "        preds = knn.predict(X_test)\n",
    "        acc = f1_score(y_test, preds, average='macro')\n",
    "        if acc > best_score:\n",
    "            best_k = k\n",
    "            best_score = acc\n",
    "    \n",
    "    print(\"Best Value for k: {}\".format(best_k))\n",
    "    print(\"Accuracy-Score: {}\".format(best_score))"
   ]
  },
  {
   "cell_type": "code",
   "execution_count": 20,
   "metadata": {
    "ExecuteTime": {
     "end_time": "2020-07-07T22:10:21.970796Z",
     "start_time": "2020-07-07T22:04:54.165955Z"
    }
   },
   "outputs": [
    {
     "name": "stdout",
     "output_type": "stream",
     "text": [
      "Best Value for k: 6\n",
      "Accuracy-Score: 0.44068930586425037\n"
     ]
    }
   ],
   "source": [
    "find_best_k(X_train, y_train, X_test, y_test)"
   ]
  },
  {
   "cell_type": "code",
   "execution_count": 21,
   "metadata": {
    "ExecuteTime": {
     "end_time": "2020-07-07T22:11:02.159684Z",
     "start_time": "2020-07-07T22:10:39.413129Z"
    }
   },
   "outputs": [],
   "source": [
    "KNN = KNeighborsClassifier(n_neighbors=6)\n",
    "KNN.fit(X_train, y_train)\n",
    "test_preds = KNN.predict(X_test)"
   ]
  },
  {
   "cell_type": "code",
   "execution_count": 22,
   "metadata": {
    "ExecuteTime": {
     "end_time": "2020-07-07T22:11:02.706772Z",
     "start_time": "2020-07-07T22:11:02.161172Z"
    }
   },
   "outputs": [
    {
     "name": "stdout",
     "output_type": "stream",
     "text": [
      "Precision Score: 0.45806564346567874\n",
      "Recall Score: 0.4371671081814327\n",
      "Accuracy Score: 0.6652681021743719\n",
      "F1 Score: 0.44068930586425037\n"
     ]
    }
   ],
   "source": [
    "print_metrics(y_test, test_preds)"
   ]
  },
  {
   "cell_type": "markdown",
   "metadata": {},
   "source": [
    "### Let's Try Something Else\n",
    "KNN doesn't seem to be the best fit here so we'll attempt some other methods just to see if we get any improvement and if this is worthwhile."
   ]
  },
  {
   "cell_type": "code",
   "execution_count": 26,
   "metadata": {
    "ExecuteTime": {
     "end_time": "2020-07-07T22:18:54.928926Z",
     "start_time": "2020-07-07T22:18:36.974722Z"
    }
   },
   "outputs": [
    {
     "data": {
      "text/plain": [
       "XGBClassifier(objective='multi:softprob')"
      ]
     },
     "execution_count": 26,
     "metadata": {},
     "output_type": "execute_result"
    }
   ],
   "source": [
    "boost = xgb.XGBClassifier()\n",
    "boost.fit(X_train, y_train)"
   ]
  },
  {
   "cell_type": "code",
   "execution_count": 28,
   "metadata": {
    "ExecuteTime": {
     "end_time": "2020-07-07T22:19:39.948357Z",
     "start_time": "2020-07-07T22:19:38.475733Z"
    }
   },
   "outputs": [
    {
     "name": "stdout",
     "output_type": "stream",
     "text": [
      "0.6580465836323974 0.6557156428119063\n"
     ]
    }
   ],
   "source": [
    "training_preds = boost.predict(X_train)\n",
    "val_preds = boost.predict(X_test)\n",
    "training_accuracy = accuracy_score(y_train, training_preds)\n",
    "val_accuracy = accuracy_score(y_test, val_preds)\n",
    "\n",
    "print(training_accuracy, val_accuracy)"
   ]
  },
  {
   "cell_type": "code",
   "execution_count": null,
   "metadata": {},
   "outputs": [],
   "source": []
  }
 ],
 "metadata": {
  "kernelspec": {
   "display_name": "Python [conda env:learn-env] *",
   "language": "python",
   "name": "conda-env-learn-env-py"
  },
  "language_info": {
   "codemirror_mode": {
    "name": "ipython",
    "version": 3
   },
   "file_extension": ".py",
   "mimetype": "text/x-python",
   "name": "python",
   "nbconvert_exporter": "python",
   "pygments_lexer": "ipython3",
   "version": "3.6.9"
  }
 },
 "nbformat": 4,
 "nbformat_minor": 2
}
