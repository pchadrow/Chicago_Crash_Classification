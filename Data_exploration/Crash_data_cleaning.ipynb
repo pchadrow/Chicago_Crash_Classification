{
 "cells": [
  {
   "cell_type": "code",
   "execution_count": 1,
   "metadata": {
    "ExecuteTime": {
     "end_time": "2020-07-06T20:16:31.766955Z",
     "start_time": "2020-07-06T20:16:29.976892Z"
    }
   },
   "outputs": [
    {
     "name": "stderr",
     "output_type": "stream",
     "text": [
      "C:\\Users\\damni\\anaconda3\\envs\\learn-env\\lib\\site-packages\\statsmodels\\tools\\_testing.py:19: FutureWarning: pandas.util.testing is deprecated. Use the functions in the public API at pandas.testing instead.\n",
      "  import pandas.util.testing as tm\n"
     ]
    }
   ],
   "source": [
    "import pandas as pd\n",
    "import numpy as np\n",
    "\n",
    "from pandas_profiling import ProfileReport\n",
    "from Datafun import column_cutter\n",
    "from sklearn.model_selection import train_test_split\n",
    "from sklearn.neighbors import KNeighborsClassifier\n",
    "from sklearn.svm import SVC\n",
    "from sklearn.metrics import precision_score, recall_score, accuracy_score, f1_score, cohen_kappa_score"
   ]
  },
  {
   "cell_type": "markdown",
   "metadata": {},
   "source": [
    "Going forward, we will focus on the less is more philosophy and priortize the Crashes dataset for out model. Time permitting, we will attempt to incorporate the other datasets to further improve our modeling abilites. The main thing we want to determine are the primary contributing causes to the crashes that have been documented in hopes that we can indentify patterns and help improve overall safety"
   ]
  },
  {
   "cell_type": "markdown",
   "metadata": {},
   "source": [
    "While we have removed some clutter from our Crashes dataset, there is still a fair amount of cleaning and maintence to perform before the dataset will make a worthwhile use for classification. The first thing we will focus on is out LN_COUNT column and see if we can create a classifier to help us more accurately identify the correct number of lanes based off of geographic location. While this may not be 100% accurate, I prefer this approach to improve upon out data rather than completely dropping this information. \n",
    "\n",
    "In our final model, I plan to separate out all of the data that does not have the primary cause identified. "
   ]
  },
  {
   "cell_type": "code",
   "execution_count": 2,
   "metadata": {
    "ExecuteTime": {
     "end_time": "2020-07-06T20:16:36.468538Z",
     "start_time": "2020-07-06T20:16:33.468235Z"
    }
   },
   "outputs": [
    {
     "data": {
      "text/html": [
       "<div>\n",
       "<style scoped>\n",
       "    .dataframe tbody tr th:only-of-type {\n",
       "        vertical-align: middle;\n",
       "    }\n",
       "\n",
       "    .dataframe tbody tr th {\n",
       "        vertical-align: top;\n",
       "    }\n",
       "\n",
       "    .dataframe thead th {\n",
       "        text-align: right;\n",
       "    }\n",
       "</style>\n",
       "<table border=\"1\" class=\"dataframe\">\n",
       "  <thead>\n",
       "    <tr style=\"text-align: right;\">\n",
       "      <th></th>\n",
       "      <th>Unnamed: 0</th>\n",
       "      <th>CRASH_RECORD_ID</th>\n",
       "      <th>RD_NO</th>\n",
       "      <th>CRASH_DATE</th>\n",
       "      <th>POSTED_SPEED_LIMIT</th>\n",
       "      <th>TRAFFIC_CONTROL_DEVICE</th>\n",
       "      <th>DEVICE_CONDITION</th>\n",
       "      <th>WEATHER_CONDITION</th>\n",
       "      <th>LIGHTING_CONDITION</th>\n",
       "      <th>FIRST_CRASH_TYPE</th>\n",
       "      <th>...</th>\n",
       "      <th>INJURIES_NON_INCAPACITATING</th>\n",
       "      <th>INJURIES_REPORTED_NOT_EVIDENT</th>\n",
       "      <th>INJURIES_NO_INDICATION</th>\n",
       "      <th>INJURIES_UNKNOWN</th>\n",
       "      <th>CRASH_HOUR</th>\n",
       "      <th>CRASH_DAY_OF_WEEK</th>\n",
       "      <th>CRASH_MONTH</th>\n",
       "      <th>LATITUDE</th>\n",
       "      <th>LONGITUDE</th>\n",
       "      <th>LOCATION</th>\n",
       "    </tr>\n",
       "  </thead>\n",
       "  <tbody>\n",
       "    <tr>\n",
       "      <th>0</th>\n",
       "      <td>0</td>\n",
       "      <td>073682ef84ff827659552d4254ad1b98bfec24935cc9cc...</td>\n",
       "      <td>JB460108</td>\n",
       "      <td>10/02/2018 06:30:00 PM</td>\n",
       "      <td>10</td>\n",
       "      <td>NO CONTROLS</td>\n",
       "      <td>NO CONTROLS</td>\n",
       "      <td>CLEAR</td>\n",
       "      <td>DARKNESS</td>\n",
       "      <td>PARKED MOTOR VEHICLE</td>\n",
       "      <td>...</td>\n",
       "      <td>0.0</td>\n",
       "      <td>0.0</td>\n",
       "      <td>1.0</td>\n",
       "      <td>0.0</td>\n",
       "      <td>18</td>\n",
       "      <td>3</td>\n",
       "      <td>10</td>\n",
       "      <td>NaN</td>\n",
       "      <td>NaN</td>\n",
       "      <td>NaN</td>\n",
       "    </tr>\n",
       "    <tr>\n",
       "      <th>1</th>\n",
       "      <td>1</td>\n",
       "      <td>1560fb8a1e32b528fef8bfd677d2b3fc5ab37278b157fa...</td>\n",
       "      <td>JC325941</td>\n",
       "      <td>06/27/2019 04:00:00 PM</td>\n",
       "      <td>45</td>\n",
       "      <td>NO CONTROLS</td>\n",
       "      <td>NO CONTROLS</td>\n",
       "      <td>CLEAR</td>\n",
       "      <td>DAYLIGHT</td>\n",
       "      <td>SIDESWIPE SAME DIRECTION</td>\n",
       "      <td>...</td>\n",
       "      <td>0.0</td>\n",
       "      <td>0.0</td>\n",
       "      <td>2.0</td>\n",
       "      <td>0.0</td>\n",
       "      <td>16</td>\n",
       "      <td>5</td>\n",
       "      <td>6</td>\n",
       "      <td>NaN</td>\n",
       "      <td>NaN</td>\n",
       "      <td>NaN</td>\n",
       "    </tr>\n",
       "    <tr>\n",
       "      <th>2</th>\n",
       "      <td>2</td>\n",
       "      <td>009e9e67203442370272e1a13d6ee51a4155dac65e583d...</td>\n",
       "      <td>JA329216</td>\n",
       "      <td>06/30/2017 04:00:00 PM</td>\n",
       "      <td>35</td>\n",
       "      <td>STOP SIGN/FLASHER</td>\n",
       "      <td>FUNCTIONING PROPERLY</td>\n",
       "      <td>CLEAR</td>\n",
       "      <td>DAYLIGHT</td>\n",
       "      <td>TURNING</td>\n",
       "      <td>...</td>\n",
       "      <td>0.0</td>\n",
       "      <td>0.0</td>\n",
       "      <td>3.0</td>\n",
       "      <td>0.0</td>\n",
       "      <td>16</td>\n",
       "      <td>6</td>\n",
       "      <td>6</td>\n",
       "      <td>41.741804</td>\n",
       "      <td>-87.740954</td>\n",
       "      <td>POINT (-87.740953581987 41.741803598989)</td>\n",
       "    </tr>\n",
       "    <tr>\n",
       "      <th>3</th>\n",
       "      <td>3</td>\n",
       "      <td>00e47f189660cd8ba1e85fc63061bf1d8465184393f134...</td>\n",
       "      <td>JC194776</td>\n",
       "      <td>03/21/2019 10:50:00 PM</td>\n",
       "      <td>30</td>\n",
       "      <td>TRAFFIC SIGNAL</td>\n",
       "      <td>FUNCTIONING PROPERLY</td>\n",
       "      <td>CLEAR</td>\n",
       "      <td>DARKNESS, LIGHTED ROAD</td>\n",
       "      <td>TURNING</td>\n",
       "      <td>...</td>\n",
       "      <td>0.0</td>\n",
       "      <td>0.0</td>\n",
       "      <td>2.0</td>\n",
       "      <td>0.0</td>\n",
       "      <td>22</td>\n",
       "      <td>5</td>\n",
       "      <td>3</td>\n",
       "      <td>41.741804</td>\n",
       "      <td>-87.740954</td>\n",
       "      <td>POINT (-87.740953581987 41.741803598989)</td>\n",
       "    </tr>\n",
       "    <tr>\n",
       "      <th>4</th>\n",
       "      <td>4</td>\n",
       "      <td>0126747fc9ffc0edc9a38abb83d80034f897db0f739eef...</td>\n",
       "      <td>JB200478</td>\n",
       "      <td>03/26/2018 02:23:00 PM</td>\n",
       "      <td>35</td>\n",
       "      <td>NO CONTROLS</td>\n",
       "      <td>NO CONTROLS</td>\n",
       "      <td>CLEAR</td>\n",
       "      <td>DAYLIGHT</td>\n",
       "      <td>PARKED MOTOR VEHICLE</td>\n",
       "      <td>...</td>\n",
       "      <td>0.0</td>\n",
       "      <td>0.0</td>\n",
       "      <td>2.0</td>\n",
       "      <td>0.0</td>\n",
       "      <td>14</td>\n",
       "      <td>2</td>\n",
       "      <td>3</td>\n",
       "      <td>41.953647</td>\n",
       "      <td>-87.732082</td>\n",
       "      <td>POINT (-87.732081736006 41.953646899951)</td>\n",
       "    </tr>\n",
       "  </tbody>\n",
       "</table>\n",
       "<p>5 rows × 42 columns</p>\n",
       "</div>"
      ],
      "text/plain": [
       "   Unnamed: 0                                    CRASH_RECORD_ID     RD_NO  \\\n",
       "0           0  073682ef84ff827659552d4254ad1b98bfec24935cc9cc...  JB460108   \n",
       "1           1  1560fb8a1e32b528fef8bfd677d2b3fc5ab37278b157fa...  JC325941   \n",
       "2           2  009e9e67203442370272e1a13d6ee51a4155dac65e583d...  JA329216   \n",
       "3           3  00e47f189660cd8ba1e85fc63061bf1d8465184393f134...  JC194776   \n",
       "4           4  0126747fc9ffc0edc9a38abb83d80034f897db0f739eef...  JB200478   \n",
       "\n",
       "               CRASH_DATE  POSTED_SPEED_LIMIT TRAFFIC_CONTROL_DEVICE  \\\n",
       "0  10/02/2018 06:30:00 PM                  10            NO CONTROLS   \n",
       "1  06/27/2019 04:00:00 PM                  45            NO CONTROLS   \n",
       "2  06/30/2017 04:00:00 PM                  35      STOP SIGN/FLASHER   \n",
       "3  03/21/2019 10:50:00 PM                  30         TRAFFIC SIGNAL   \n",
       "4  03/26/2018 02:23:00 PM                  35            NO CONTROLS   \n",
       "\n",
       "       DEVICE_CONDITION WEATHER_CONDITION      LIGHTING_CONDITION  \\\n",
       "0           NO CONTROLS             CLEAR                DARKNESS   \n",
       "1           NO CONTROLS             CLEAR                DAYLIGHT   \n",
       "2  FUNCTIONING PROPERLY             CLEAR                DAYLIGHT   \n",
       "3  FUNCTIONING PROPERLY             CLEAR  DARKNESS, LIGHTED ROAD   \n",
       "4           NO CONTROLS             CLEAR                DAYLIGHT   \n",
       "\n",
       "           FIRST_CRASH_TYPE  ... INJURIES_NON_INCAPACITATING  \\\n",
       "0      PARKED MOTOR VEHICLE  ...                         0.0   \n",
       "1  SIDESWIPE SAME DIRECTION  ...                         0.0   \n",
       "2                   TURNING  ...                         0.0   \n",
       "3                   TURNING  ...                         0.0   \n",
       "4      PARKED MOTOR VEHICLE  ...                         0.0   \n",
       "\n",
       "   INJURIES_REPORTED_NOT_EVIDENT INJURIES_NO_INDICATION INJURIES_UNKNOWN  \\\n",
       "0                            0.0                    1.0              0.0   \n",
       "1                            0.0                    2.0              0.0   \n",
       "2                            0.0                    3.0              0.0   \n",
       "3                            0.0                    2.0              0.0   \n",
       "4                            0.0                    2.0              0.0   \n",
       "\n",
       "  CRASH_HOUR CRASH_DAY_OF_WEEK CRASH_MONTH   LATITUDE  LONGITUDE  \\\n",
       "0         18                 3          10        NaN        NaN   \n",
       "1         16                 5           6        NaN        NaN   \n",
       "2         16                 6           6  41.741804 -87.740954   \n",
       "3         22                 5           3  41.741804 -87.740954   \n",
       "4         14                 2           3  41.953647 -87.732082   \n",
       "\n",
       "                                   LOCATION  \n",
       "0                                       NaN  \n",
       "1                                       NaN  \n",
       "2  POINT (-87.740953581987 41.741803598989)  \n",
       "3  POINT (-87.740953581987 41.741803598989)  \n",
       "4  POINT (-87.732081736006 41.953646899951)  \n",
       "\n",
       "[5 rows x 42 columns]"
      ]
     },
     "execution_count": 2,
     "metadata": {},
     "output_type": "execute_result"
    }
   ],
   "source": [
    "df = pd.read_csv('Crashes.csv')\n",
    "df.head()"
   ]
  },
  {
   "cell_type": "code",
   "execution_count": 3,
   "metadata": {
    "ExecuteTime": {
     "end_time": "2020-07-06T20:16:39.144954Z",
     "start_time": "2020-07-06T20:16:38.828506Z"
    }
   },
   "outputs": [
    {
     "name": "stdout",
     "output_type": "stream",
     "text": [
      "<class 'pandas.core.frame.DataFrame'>\n",
      "RangeIndex: 416198 entries, 0 to 416197\n",
      "Data columns (total 42 columns):\n",
      " #   Column                         Non-Null Count   Dtype  \n",
      "---  ------                         --------------   -----  \n",
      " 0   Unnamed: 0                     416198 non-null  int64  \n",
      " 1   CRASH_RECORD_ID                416198 non-null  object \n",
      " 2   RD_NO                          412429 non-null  object \n",
      " 3   CRASH_DATE                     416198 non-null  object \n",
      " 4   POSTED_SPEED_LIMIT             416198 non-null  int64  \n",
      " 5   TRAFFIC_CONTROL_DEVICE         416198 non-null  object \n",
      " 6   DEVICE_CONDITION               416198 non-null  object \n",
      " 7   WEATHER_CONDITION              416198 non-null  object \n",
      " 8   LIGHTING_CONDITION             416198 non-null  object \n",
      " 9   FIRST_CRASH_TYPE               416198 non-null  object \n",
      " 10  TRAFFICWAY_TYPE                416198 non-null  object \n",
      " 11  LANE_CNT                       198555 non-null  float64\n",
      " 12  ALIGNMENT                      416198 non-null  object \n",
      " 13  ROADWAY_SURFACE_COND           416198 non-null  object \n",
      " 14  ROAD_DEFECT                    416198 non-null  object \n",
      " 15  REPORT_TYPE                    406344 non-null  object \n",
      " 16  CRASH_TYPE                     416198 non-null  object \n",
      " 17  INTERSECTION_RELATED_I         92965 non-null   object \n",
      " 18  HIT_AND_RUN_I                  117690 non-null  object \n",
      " 19  DAMAGE                         416198 non-null  object \n",
      " 20  DATE_POLICE_NOTIFIED           416198 non-null  object \n",
      " 21  PRIM_CONTRIBUTORY_CAUSE        416198 non-null  object \n",
      " 22  SEC_CONTRIBUTORY_CAUSE         416198 non-null  object \n",
      " 23  STREET_NO                      416198 non-null  int64  \n",
      " 24  STREET_DIRECTION               416196 non-null  object \n",
      " 25  STREET_NAME                    416197 non-null  object \n",
      " 26  BEAT_OF_OCCURRENCE             416194 non-null  float64\n",
      " 27  NUM_UNITS                      414426 non-null  float64\n",
      " 28  MOST_SEVERE_INJURY             413529 non-null  object \n",
      " 29  INJURIES_TOTAL                 413536 non-null  float64\n",
      " 30  INJURIES_FATAL                 413536 non-null  float64\n",
      " 31  INJURIES_INCAPACITATING        413536 non-null  float64\n",
      " 32  INJURIES_NON_INCAPACITATING    413536 non-null  float64\n",
      " 33  INJURIES_REPORTED_NOT_EVIDENT  413536 non-null  float64\n",
      " 34  INJURIES_NO_INDICATION         413536 non-null  float64\n",
      " 35  INJURIES_UNKNOWN               413536 non-null  float64\n",
      " 36  CRASH_HOUR                     416198 non-null  int64  \n",
      " 37  CRASH_DAY_OF_WEEK              416198 non-null  int64  \n",
      " 38  CRASH_MONTH                    416198 non-null  int64  \n",
      " 39  LATITUDE                       413929 non-null  float64\n",
      " 40  LONGITUDE                      413929 non-null  float64\n",
      " 41  LOCATION                       413929 non-null  object \n",
      "dtypes: float64(12), int64(6), object(24)\n",
      "memory usage: 133.4+ MB\n"
     ]
    }
   ],
   "source": [
    "df.info()"
   ]
  },
  {
   "cell_type": "markdown",
   "metadata": {},
   "source": [
    "Doing a quick search, we find that that largest road in Chicago has 14 lanes so we can safely assume any accidents with more than this must be a placeholder."
   ]
  },
  {
   "cell_type": "code",
   "execution_count": 4,
   "metadata": {
    "ExecuteTime": {
     "end_time": "2020-07-06T20:16:41.061001Z",
     "start_time": "2020-07-06T20:16:40.758937Z"
    }
   },
   "outputs": [],
   "source": [
    "df.loc[df['LANE_CNT'] > 14] = np.nan\n",
    "Crashes = df"
   ]
  },
  {
   "cell_type": "code",
   "execution_count": 5,
   "metadata": {
    "ExecuteTime": {
     "end_time": "2020-07-06T20:16:41.790121Z",
     "start_time": "2020-07-06T20:16:41.368521Z"
    }
   },
   "outputs": [
    {
     "name": "stdout",
     "output_type": "stream",
     "text": [
      "<class 'pandas.core.frame.DataFrame'>\n",
      "RangeIndex: 416198 entries, 0 to 416197\n",
      "Data columns (total 42 columns):\n",
      " #   Column                         Non-Null Count   Dtype  \n",
      "---  ------                         --------------   -----  \n",
      " 0   Unnamed: 0                     416013 non-null  float64\n",
      " 1   CRASH_RECORD_ID                416013 non-null  object \n",
      " 2   RD_NO                          412244 non-null  object \n",
      " 3   CRASH_DATE                     416013 non-null  object \n",
      " 4   POSTED_SPEED_LIMIT             416013 non-null  float64\n",
      " 5   TRAFFIC_CONTROL_DEVICE         416013 non-null  object \n",
      " 6   DEVICE_CONDITION               416013 non-null  object \n",
      " 7   WEATHER_CONDITION              416013 non-null  object \n",
      " 8   LIGHTING_CONDITION             416013 non-null  object \n",
      " 9   FIRST_CRASH_TYPE               416013 non-null  object \n",
      " 10  TRAFFICWAY_TYPE                416013 non-null  object \n",
      " 11  LANE_CNT                       198370 non-null  float64\n",
      " 12  ALIGNMENT                      416013 non-null  object \n",
      " 13  ROADWAY_SURFACE_COND           416013 non-null  object \n",
      " 14  ROAD_DEFECT                    416013 non-null  object \n",
      " 15  REPORT_TYPE                    406162 non-null  object \n",
      " 16  CRASH_TYPE                     416013 non-null  object \n",
      " 17  INTERSECTION_RELATED_I         92955 non-null   object \n",
      " 18  HIT_AND_RUN_I                  117633 non-null  object \n",
      " 19  DAMAGE                         416013 non-null  object \n",
      " 20  DATE_POLICE_NOTIFIED           416013 non-null  object \n",
      " 21  PRIM_CONTRIBUTORY_CAUSE        416013 non-null  object \n",
      " 22  SEC_CONTRIBUTORY_CAUSE         416013 non-null  object \n",
      " 23  STREET_NO                      416013 non-null  float64\n",
      " 24  STREET_DIRECTION               416011 non-null  object \n",
      " 25  STREET_NAME                    416012 non-null  object \n",
      " 26  BEAT_OF_OCCURRENCE             416009 non-null  float64\n",
      " 27  NUM_UNITS                      414241 non-null  float64\n",
      " 28  MOST_SEVERE_INJURY             413344 non-null  object \n",
      " 29  INJURIES_TOTAL                 413351 non-null  float64\n",
      " 30  INJURIES_FATAL                 413351 non-null  float64\n",
      " 31  INJURIES_INCAPACITATING        413351 non-null  float64\n",
      " 32  INJURIES_NON_INCAPACITATING    413351 non-null  float64\n",
      " 33  INJURIES_REPORTED_NOT_EVIDENT  413351 non-null  float64\n",
      " 34  INJURIES_NO_INDICATION         413351 non-null  float64\n",
      " 35  INJURIES_UNKNOWN               413351 non-null  float64\n",
      " 36  CRASH_HOUR                     416013 non-null  float64\n",
      " 37  CRASH_DAY_OF_WEEK              416013 non-null  float64\n",
      " 38  CRASH_MONTH                    416013 non-null  float64\n",
      " 39  LATITUDE                       413756 non-null  float64\n",
      " 40  LONGITUDE                      413756 non-null  float64\n",
      " 41  LOCATION                       413756 non-null  object \n",
      "dtypes: float64(18), object(24)\n",
      "memory usage: 133.4+ MB\n"
     ]
    }
   ],
   "source": [
    "Crashes.info()"
   ]
  },
  {
   "cell_type": "code",
   "execution_count": 6,
   "metadata": {
    "ExecuteTime": {
     "end_time": "2020-07-06T20:16:41.988521Z",
     "start_time": "2020-07-06T20:16:41.975129Z"
    }
   },
   "outputs": [
    {
     "data": {
      "text/plain": [
       "2.0     90913\n",
       "4.0     49492\n",
       "1.0     32500\n",
       "3.0      8644\n",
       "0.0      8011\n",
       "6.0      4494\n",
       "5.0      1935\n",
       "8.0      1906\n",
       "7.0       184\n",
       "10.0      161\n",
       "9.0        65\n",
       "11.0       30\n",
       "12.0       29\n",
       "14.0        5\n",
       "13.0        1\n",
       "Name: LANE_CNT, dtype: int64"
      ]
     },
     "execution_count": 6,
     "metadata": {},
     "output_type": "execute_result"
    }
   ],
   "source": [
    "Crashes['LANE_CNT'].value_counts()"
   ]
  },
  {
   "cell_type": "code",
   "execution_count": 7,
   "metadata": {
    "ExecuteTime": {
     "end_time": "2020-07-06T20:16:42.709209Z",
     "start_time": "2020-07-06T20:16:42.635801Z"
    }
   },
   "outputs": [],
   "source": [
    "Crashes_ln_model = Crashes[Crashes['LANE_CNT'].notnull()]"
   ]
  },
  {
   "cell_type": "code",
   "execution_count": 8,
   "metadata": {
    "ExecuteTime": {
     "end_time": "2020-07-06T20:16:43.474041Z",
     "start_time": "2020-07-06T20:16:43.288537Z"
    }
   },
   "outputs": [
    {
     "name": "stdout",
     "output_type": "stream",
     "text": [
      "<class 'pandas.core.frame.DataFrame'>\n",
      "Int64Index: 198370 entries, 2 to 416126\n",
      "Data columns (total 42 columns):\n",
      " #   Column                         Non-Null Count   Dtype  \n",
      "---  ------                         --------------   -----  \n",
      " 0   Unnamed: 0                     198370 non-null  float64\n",
      " 1   CRASH_RECORD_ID                198370 non-null  object \n",
      " 2   RD_NO                          198368 non-null  object \n",
      " 3   CRASH_DATE                     198370 non-null  object \n",
      " 4   POSTED_SPEED_LIMIT             198370 non-null  float64\n",
      " 5   TRAFFIC_CONTROL_DEVICE         198370 non-null  object \n",
      " 6   DEVICE_CONDITION               198370 non-null  object \n",
      " 7   WEATHER_CONDITION              198370 non-null  object \n",
      " 8   LIGHTING_CONDITION             198370 non-null  object \n",
      " 9   FIRST_CRASH_TYPE               198370 non-null  object \n",
      " 10  TRAFFICWAY_TYPE                198370 non-null  object \n",
      " 11  LANE_CNT                       198370 non-null  float64\n",
      " 12  ALIGNMENT                      198370 non-null  object \n",
      " 13  ROADWAY_SURFACE_COND           198370 non-null  object \n",
      " 14  ROAD_DEFECT                    198370 non-null  object \n",
      " 15  REPORT_TYPE                    194168 non-null  object \n",
      " 16  CRASH_TYPE                     198370 non-null  object \n",
      " 17  INTERSECTION_RELATED_I         46702 non-null   object \n",
      " 18  HIT_AND_RUN_I                  55242 non-null   object \n",
      " 19  DAMAGE                         198370 non-null  object \n",
      " 20  DATE_POLICE_NOTIFIED           198370 non-null  object \n",
      " 21  PRIM_CONTRIBUTORY_CAUSE        198370 non-null  object \n",
      " 22  SEC_CONTRIBUTORY_CAUSE         198370 non-null  object \n",
      " 23  STREET_NO                      198370 non-null  float64\n",
      " 24  STREET_DIRECTION               198369 non-null  object \n",
      " 25  STREET_NAME                    198369 non-null  object \n",
      " 26  BEAT_OF_OCCURRENCE             198368 non-null  float64\n",
      " 27  NUM_UNITS                      197920 non-null  float64\n",
      " 28  MOST_SEVERE_INJURY             197542 non-null  object \n",
      " 29  INJURIES_TOTAL                 197546 non-null  float64\n",
      " 30  INJURIES_FATAL                 197546 non-null  float64\n",
      " 31  INJURIES_INCAPACITATING        197546 non-null  float64\n",
      " 32  INJURIES_NON_INCAPACITATING    197546 non-null  float64\n",
      " 33  INJURIES_REPORTED_NOT_EVIDENT  197546 non-null  float64\n",
      " 34  INJURIES_NO_INDICATION         197546 non-null  float64\n",
      " 35  INJURIES_UNKNOWN               197546 non-null  float64\n",
      " 36  CRASH_HOUR                     198370 non-null  float64\n",
      " 37  CRASH_DAY_OF_WEEK              198370 non-null  float64\n",
      " 38  CRASH_MONTH                    198370 non-null  float64\n",
      " 39  LATITUDE                       197492 non-null  float64\n",
      " 40  LONGITUDE                      197492 non-null  float64\n",
      " 41  LOCATION                       197492 non-null  object \n",
      "dtypes: float64(18), object(24)\n",
      "memory usage: 65.1+ MB\n"
     ]
    }
   ],
   "source": [
    "Crashes_ln_model.info()"
   ]
  },
  {
   "cell_type": "markdown",
   "metadata": {},
   "source": [
    "Now that we've filtered out the unusable lanes that we know don't exist and the rows that just don't have information for, we will then filter out the ones which we sadly don't have enough information for. The cutoff that we will make will be for lanes that we do not have at least 1000 observations for. Granted, this does pose the possibility of skewing our data which will be important to keep in mind later."
   ]
  },
  {
   "cell_type": "code",
   "execution_count": 9,
   "metadata": {
    "ExecuteTime": {
     "end_time": "2020-07-06T20:16:44.861848Z",
     "start_time": "2020-07-06T20:16:44.854409Z"
    }
   },
   "outputs": [],
   "source": [
    "counts = Crashes_ln_model['LANE_CNT'].value_counts()\n",
    "filtered_counts = counts[counts > 200].index"
   ]
  },
  {
   "cell_type": "code",
   "execution_count": 10,
   "metadata": {
    "ExecuteTime": {
     "end_time": "2020-07-06T20:16:45.883608Z",
     "start_time": "2020-07-06T20:16:45.794824Z"
    }
   },
   "outputs": [],
   "source": [
    "Crashes_ln_model = Crashes_ln_model[Crashes_ln_model['LANE_CNT'].isin(filtered_counts)]"
   ]
  },
  {
   "cell_type": "code",
   "execution_count": 11,
   "metadata": {
    "ExecuteTime": {
     "end_time": "2020-07-06T20:16:46.965384Z",
     "start_time": "2020-07-06T20:16:46.785336Z"
    }
   },
   "outputs": [
    {
     "name": "stdout",
     "output_type": "stream",
     "text": [
      "<class 'pandas.core.frame.DataFrame'>\n",
      "Int64Index: 197895 entries, 2 to 416126\n",
      "Data columns (total 42 columns):\n",
      " #   Column                         Non-Null Count   Dtype  \n",
      "---  ------                         --------------   -----  \n",
      " 0   Unnamed: 0                     197895 non-null  float64\n",
      " 1   CRASH_RECORD_ID                197895 non-null  object \n",
      " 2   RD_NO                          197893 non-null  object \n",
      " 3   CRASH_DATE                     197895 non-null  object \n",
      " 4   POSTED_SPEED_LIMIT             197895 non-null  float64\n",
      " 5   TRAFFIC_CONTROL_DEVICE         197895 non-null  object \n",
      " 6   DEVICE_CONDITION               197895 non-null  object \n",
      " 7   WEATHER_CONDITION              197895 non-null  object \n",
      " 8   LIGHTING_CONDITION             197895 non-null  object \n",
      " 9   FIRST_CRASH_TYPE               197895 non-null  object \n",
      " 10  TRAFFICWAY_TYPE                197895 non-null  object \n",
      " 11  LANE_CNT                       197895 non-null  float64\n",
      " 12  ALIGNMENT                      197895 non-null  object \n",
      " 13  ROADWAY_SURFACE_COND           197895 non-null  object \n",
      " 14  ROAD_DEFECT                    197895 non-null  object \n",
      " 15  REPORT_TYPE                    193701 non-null  object \n",
      " 16  CRASH_TYPE                     197895 non-null  object \n",
      " 17  INTERSECTION_RELATED_I         46538 non-null   object \n",
      " 18  HIT_AND_RUN_I                  55150 non-null   object \n",
      " 19  DAMAGE                         197895 non-null  object \n",
      " 20  DATE_POLICE_NOTIFIED           197895 non-null  object \n",
      " 21  PRIM_CONTRIBUTORY_CAUSE        197895 non-null  object \n",
      " 22  SEC_CONTRIBUTORY_CAUSE         197895 non-null  object \n",
      " 23  STREET_NO                      197895 non-null  float64\n",
      " 24  STREET_DIRECTION               197894 non-null  object \n",
      " 25  STREET_NAME                    197894 non-null  object \n",
      " 26  BEAT_OF_OCCURRENCE             197893 non-null  float64\n",
      " 27  NUM_UNITS                      197445 non-null  float64\n",
      " 28  MOST_SEVERE_INJURY             197067 non-null  object \n",
      " 29  INJURIES_TOTAL                 197071 non-null  float64\n",
      " 30  INJURIES_FATAL                 197071 non-null  float64\n",
      " 31  INJURIES_INCAPACITATING        197071 non-null  float64\n",
      " 32  INJURIES_NON_INCAPACITATING    197071 non-null  float64\n",
      " 33  INJURIES_REPORTED_NOT_EVIDENT  197071 non-null  float64\n",
      " 34  INJURIES_NO_INDICATION         197071 non-null  float64\n",
      " 35  INJURIES_UNKNOWN               197071 non-null  float64\n",
      " 36  CRASH_HOUR                     197895 non-null  float64\n",
      " 37  CRASH_DAY_OF_WEEK              197895 non-null  float64\n",
      " 38  CRASH_MONTH                    197895 non-null  float64\n",
      " 39  LATITUDE                       197038 non-null  float64\n",
      " 40  LONGITUDE                      197038 non-null  float64\n",
      " 41  LOCATION                       197038 non-null  object \n",
      "dtypes: float64(18), object(24)\n",
      "memory usage: 64.9+ MB\n"
     ]
    }
   ],
   "source": [
    "Crashes_ln_model.info()"
   ]
  },
  {
   "cell_type": "code",
   "execution_count": 12,
   "metadata": {
    "ExecuteTime": {
     "end_time": "2020-07-06T20:16:47.772872Z",
     "start_time": "2020-07-06T20:16:47.763944Z"
    }
   },
   "outputs": [
    {
     "data": {
      "text/plain": [
       "2.0    90913\n",
       "4.0    49492\n",
       "1.0    32500\n",
       "3.0     8644\n",
       "0.0     8011\n",
       "6.0     4494\n",
       "5.0     1935\n",
       "8.0     1906\n",
       "Name: LANE_CNT, dtype: int64"
      ]
     },
     "execution_count": 12,
     "metadata": {},
     "output_type": "execute_result"
    }
   ],
   "source": [
    "Crashes_ln_model['LANE_CNT'].value_counts()"
   ]
  },
  {
   "cell_type": "code",
   "execution_count": 13,
   "metadata": {
    "ExecuteTime": {
     "end_time": "2020-07-06T20:16:48.955831Z",
     "start_time": "2020-07-06T20:16:48.713288Z"
    }
   },
   "outputs": [
    {
     "name": "stdout",
     "output_type": "stream",
     "text": [
      "<class 'pandas.core.frame.DataFrame'>\n",
      "Int64Index: 197038 entries, 2 to 416126\n",
      "Data columns (total 42 columns):\n",
      " #   Column                         Non-Null Count   Dtype  \n",
      "---  ------                         --------------   -----  \n",
      " 0   Unnamed: 0                     197038 non-null  float64\n",
      " 1   CRASH_RECORD_ID                197038 non-null  object \n",
      " 2   RD_NO                          197036 non-null  object \n",
      " 3   CRASH_DATE                     197038 non-null  object \n",
      " 4   POSTED_SPEED_LIMIT             197038 non-null  float64\n",
      " 5   TRAFFIC_CONTROL_DEVICE         197038 non-null  object \n",
      " 6   DEVICE_CONDITION               197038 non-null  object \n",
      " 7   WEATHER_CONDITION              197038 non-null  object \n",
      " 8   LIGHTING_CONDITION             197038 non-null  object \n",
      " 9   FIRST_CRASH_TYPE               197038 non-null  object \n",
      " 10  TRAFFICWAY_TYPE                197038 non-null  object \n",
      " 11  LANE_CNT                       197038 non-null  float64\n",
      " 12  ALIGNMENT                      197038 non-null  object \n",
      " 13  ROADWAY_SURFACE_COND           197038 non-null  object \n",
      " 14  ROAD_DEFECT                    197038 non-null  object \n",
      " 15  REPORT_TYPE                    192855 non-null  object \n",
      " 16  CRASH_TYPE                     197038 non-null  object \n",
      " 17  INTERSECTION_RELATED_I         46307 non-null   object \n",
      " 18  HIT_AND_RUN_I                  54961 non-null   object \n",
      " 19  DAMAGE                         197038 non-null  object \n",
      " 20  DATE_POLICE_NOTIFIED           197038 non-null  object \n",
      " 21  PRIM_CONTRIBUTORY_CAUSE        197038 non-null  object \n",
      " 22  SEC_CONTRIBUTORY_CAUSE         197038 non-null  object \n",
      " 23  STREET_NO                      197038 non-null  float64\n",
      " 24  STREET_DIRECTION               197038 non-null  object \n",
      " 25  STREET_NAME                    197038 non-null  object \n",
      " 26  BEAT_OF_OCCURRENCE             197036 non-null  float64\n",
      " 27  NUM_UNITS                      196592 non-null  float64\n",
      " 28  MOST_SEVERE_INJURY             196215 non-null  object \n",
      " 29  INJURIES_TOTAL                 196219 non-null  float64\n",
      " 30  INJURIES_FATAL                 196219 non-null  float64\n",
      " 31  INJURIES_INCAPACITATING        196219 non-null  float64\n",
      " 32  INJURIES_NON_INCAPACITATING    196219 non-null  float64\n",
      " 33  INJURIES_REPORTED_NOT_EVIDENT  196219 non-null  float64\n",
      " 34  INJURIES_NO_INDICATION         196219 non-null  float64\n",
      " 35  INJURIES_UNKNOWN               196219 non-null  float64\n",
      " 36  CRASH_HOUR                     197038 non-null  float64\n",
      " 37  CRASH_DAY_OF_WEEK              197038 non-null  float64\n",
      " 38  CRASH_MONTH                    197038 non-null  float64\n",
      " 39  LATITUDE                       197038 non-null  float64\n",
      " 40  LONGITUDE                      197038 non-null  float64\n",
      " 41  LOCATION                       197038 non-null  object \n",
      "dtypes: float64(18), object(24)\n",
      "memory usage: 64.6+ MB\n"
     ]
    }
   ],
   "source": [
    "Crashes_ln_model = Crashes_ln_model[Crashes_ln_model['LATITUDE'].notnull()]\n",
    "Crashes_ln_model.info()"
   ]
  },
  {
   "cell_type": "markdown",
   "metadata": {},
   "source": [
    "### We will now attempt to create a KNN model using only Latitude and Longitude"
   ]
  },
  {
   "cell_type": "code",
   "execution_count": 14,
   "metadata": {
    "ExecuteTime": {
     "end_time": "2020-07-06T20:16:51.403591Z",
     "start_time": "2020-07-06T20:16:51.396647Z"
    }
   },
   "outputs": [],
   "source": [
    "y = Crashes_ln_model['LANE_CNT']\n",
    "X = Crashes_ln_model[['LATITUDE', 'LONGITUDE', 'STREET_NAME']]\n"
   ]
  },
  {
   "cell_type": "code",
   "execution_count": 15,
   "metadata": {
    "ExecuteTime": {
     "end_time": "2020-07-06T20:16:52.540423Z",
     "start_time": "2020-07-06T20:16:52.526039Z"
    }
   },
   "outputs": [
    {
     "name": "stdout",
     "output_type": "stream",
     "text": [
      "<class 'pandas.core.frame.DataFrame'>\n",
      "Int64Index: 197038 entries, 2 to 416126\n",
      "Data columns (total 3 columns):\n",
      " #   Column       Non-Null Count   Dtype  \n",
      "---  ------       --------------   -----  \n",
      " 0   LATITUDE     197038 non-null  float64\n",
      " 1   LONGITUDE    197038 non-null  float64\n",
      " 2   STREET_NAME  197038 non-null  object \n",
      "dtypes: float64(2), object(1)\n",
      "memory usage: 6.0+ MB\n"
     ]
    }
   ],
   "source": [
    "X.info()"
   ]
  },
  {
   "cell_type": "code",
   "execution_count": 15,
   "metadata": {
    "ExecuteTime": {
     "end_time": "2020-07-06T18:50:25.937984Z",
     "start_time": "2020-07-06T18:50:25.934016Z"
    }
   },
   "outputs": [
    {
     "data": {
      "text/plain": [
       "(197038, 1402)"
      ]
     },
     "execution_count": 15,
     "metadata": {},
     "output_type": "execute_result"
    }
   ],
   "source": [
    "X_dummies = pd.get_dummies(X)\n",
    "X_dummies.shape"
   ]
  },
  {
   "cell_type": "markdown",
   "metadata": {},
   "source": [
    "1400 columns is a bit more than what I want to work with so we'll try to classify some of these streets into simpler identifiers such as AVEs, RDs, STs, and etc\n"
   ]
  },
  {
   "cell_type": "code",
   "execution_count": 16,
   "metadata": {
    "ExecuteTime": {
     "end_time": "2020-07-06T20:16:57.560438Z",
     "start_time": "2020-07-06T20:16:57.545062Z"
    }
   },
   "outputs": [
    {
     "data": {
      "text/plain": [
       "1400"
      ]
     },
     "execution_count": 16,
     "metadata": {},
     "output_type": "execute_result"
    }
   ],
   "source": [
    "X['STREET_NAME'].nunique()"
   ]
  },
  {
   "cell_type": "code",
   "execution_count": 17,
   "metadata": {
    "ExecuteTime": {
     "end_time": "2020-07-06T20:17:02.582933Z",
     "start_time": "2020-07-06T20:17:00.284965Z"
    }
   },
   "outputs": [
    {
     "name": "stderr",
     "output_type": "stream",
     "text": [
      "C:\\Users\\damni\\anaconda3\\envs\\learn-env\\lib\\site-packages\\ipykernel_launcher.py:1: SettingWithCopyWarning: \n",
      "A value is trying to be set on a copy of a slice from a DataFrame.\n",
      "Try using .loc[row_indexer,col_indexer] = value instead\n",
      "\n",
      "See the caveats in the documentation: https://pandas.pydata.org/pandas-docs/stable/user_guide/indexing.html#returning-a-view-versus-a-copy\n",
      "  \"\"\"Entry point for launching an IPython kernel.\n"
     ]
    }
   ],
   "source": [
    "X['STREET_TYPE'] = X.apply(lambda x: x['STREET_NAME'].split()[-1], axis = 1)"
   ]
  },
  {
   "cell_type": "code",
   "execution_count": 18,
   "metadata": {
    "ExecuteTime": {
     "end_time": "2020-07-06T20:17:03.978180Z",
     "start_time": "2020-07-06T20:17:03.970244Z"
    }
   },
   "outputs": [
    {
     "data": {
      "text/html": [
       "<div>\n",
       "<style scoped>\n",
       "    .dataframe tbody tr th:only-of-type {\n",
       "        vertical-align: middle;\n",
       "    }\n",
       "\n",
       "    .dataframe tbody tr th {\n",
       "        vertical-align: top;\n",
       "    }\n",
       "\n",
       "    .dataframe thead th {\n",
       "        text-align: right;\n",
       "    }\n",
       "</style>\n",
       "<table border=\"1\" class=\"dataframe\">\n",
       "  <thead>\n",
       "    <tr style=\"text-align: right;\">\n",
       "      <th></th>\n",
       "      <th>LATITUDE</th>\n",
       "      <th>LONGITUDE</th>\n",
       "      <th>STREET_NAME</th>\n",
       "      <th>STREET_TYPE</th>\n",
       "    </tr>\n",
       "  </thead>\n",
       "  <tbody>\n",
       "    <tr>\n",
       "      <th>2</th>\n",
       "      <td>41.741804</td>\n",
       "      <td>-87.740954</td>\n",
       "      <td>CICERO AVE</td>\n",
       "      <td>AVE</td>\n",
       "    </tr>\n",
       "    <tr>\n",
       "      <th>3</th>\n",
       "      <td>41.741804</td>\n",
       "      <td>-87.740954</td>\n",
       "      <td>CICERO AVE</td>\n",
       "      <td>AVE</td>\n",
       "    </tr>\n",
       "    <tr>\n",
       "      <th>8</th>\n",
       "      <td>41.721290</td>\n",
       "      <td>-87.628510</td>\n",
       "      <td>WENTWORTH AVE</td>\n",
       "      <td>AVE</td>\n",
       "    </tr>\n",
       "    <tr>\n",
       "      <th>9</th>\n",
       "      <td>41.741804</td>\n",
       "      <td>-87.740954</td>\n",
       "      <td>CICERO AVE</td>\n",
       "      <td>AVE</td>\n",
       "    </tr>\n",
       "    <tr>\n",
       "      <th>11</th>\n",
       "      <td>41.794779</td>\n",
       "      <td>-87.623828</td>\n",
       "      <td>GARFIELD BLVD</td>\n",
       "      <td>BLVD</td>\n",
       "    </tr>\n",
       "  </tbody>\n",
       "</table>\n",
       "</div>"
      ],
      "text/plain": [
       "     LATITUDE  LONGITUDE    STREET_NAME STREET_TYPE\n",
       "2   41.741804 -87.740954     CICERO AVE         AVE\n",
       "3   41.741804 -87.740954     CICERO AVE         AVE\n",
       "8   41.721290 -87.628510  WENTWORTH AVE         AVE\n",
       "9   41.741804 -87.740954     CICERO AVE         AVE\n",
       "11  41.794779 -87.623828  GARFIELD BLVD        BLVD"
      ]
     },
     "execution_count": 18,
     "metadata": {},
     "output_type": "execute_result"
    }
   ],
   "source": [
    "X.head()"
   ]
  },
  {
   "cell_type": "code",
   "execution_count": 19,
   "metadata": {
    "ExecuteTime": {
     "end_time": "2020-07-06T20:17:05.133364Z",
     "start_time": "2020-07-06T20:17:05.107572Z"
    }
   },
   "outputs": [
    {
     "name": "stdout",
     "output_type": "stream",
     "text": [
      "<class 'pandas.core.frame.DataFrame'>\n",
      "Int64Index: 197038 entries, 2 to 416126\n",
      "Data columns (total 4 columns):\n",
      " #   Column       Non-Null Count   Dtype  \n",
      "---  ------       --------------   -----  \n",
      " 0   LATITUDE     197038 non-null  float64\n",
      " 1   LONGITUDE    197038 non-null  float64\n",
      " 2   STREET_NAME  197038 non-null  object \n",
      " 3   STREET_TYPE  197038 non-null  object \n",
      "dtypes: float64(2), object(2)\n",
      "memory usage: 7.5+ MB\n"
     ]
    }
   ],
   "source": [
    "X.info()"
   ]
  },
  {
   "cell_type": "code",
   "execution_count": 20,
   "metadata": {
    "ExecuteTime": {
     "end_time": "2020-07-06T20:17:06.571763Z",
     "start_time": "2020-07-06T20:17:06.563332Z"
    }
   },
   "outputs": [],
   "source": [
    "X = X.drop('STREET_NAME', axis=1)"
   ]
  },
  {
   "cell_type": "code",
   "execution_count": 21,
   "metadata": {
    "ExecuteTime": {
     "end_time": "2020-07-06T20:17:08.935700Z",
     "start_time": "2020-07-06T20:17:08.924293Z"
    }
   },
   "outputs": [
    {
     "name": "stdout",
     "output_type": "stream",
     "text": [
      "<class 'pandas.core.frame.DataFrame'>\n",
      "Int64Index: 197038 entries, 2 to 416126\n",
      "Data columns (total 3 columns):\n",
      " #   Column       Non-Null Count   Dtype  \n",
      "---  ------       --------------   -----  \n",
      " 0   LATITUDE     197038 non-null  float64\n",
      " 1   LONGITUDE    197038 non-null  float64\n",
      " 2   STREET_TYPE  197038 non-null  object \n",
      "dtypes: float64(2), object(1)\n",
      "memory usage: 6.0+ MB\n"
     ]
    }
   ],
   "source": [
    "X.info()"
   ]
  },
  {
   "cell_type": "code",
   "execution_count": 22,
   "metadata": {
    "ExecuteTime": {
     "end_time": "2020-07-06T20:17:09.587939Z",
     "start_time": "2020-07-06T20:17:09.566611Z"
    }
   },
   "outputs": [
    {
     "data": {
      "text/plain": [
       "AVE          98484\n",
       "ST           61383\n",
       "RD           12201\n",
       "BLVD          7716\n",
       "DR            7646\n",
       "PL            1874\n",
       "NB            1649\n",
       "SB            1490\n",
       "PKWY          1340\n",
       "BROADWAY      1011\n",
       "E              534\n",
       "CT             337\n",
       "W              294\n",
       "HWY            239\n",
       "O              163\n",
       "TER             82\n",
       "MARKET          57\n",
       "PLAISANCE       50\n",
       "M               50\n",
       "IB              47\n",
       "L               47\n",
       "N               44\n",
       "PLZ             36\n",
       "WEST            28\n",
       "J               27\n",
       "WAY             26\n",
       "H               21\n",
       "OB              20\n",
       "PARK            17\n",
       "SD              16\n",
       "DEARBORN        13\n",
       "RAMP            13\n",
       "G               11\n",
       "B               11\n",
       "F               10\n",
       "C                8\n",
       "OVERPASS         8\n",
       "ACCESS           4\n",
       "D                4\n",
       "LN               4\n",
       "K                3\n",
       "BUSWAY           3\n",
       "RL               2\n",
       "S                2\n",
       "XR               2\n",
       "INNER            1\n",
       "VIA              1\n",
       "SALLE            1\n",
       "GRENSHAW         1\n",
       "STREET           1\n",
       "DRIVE            1\n",
       "SQ               1\n",
       "BLVD.            1\n",
       "NB-RAMP          1\n",
       "KINZIE           1\n",
       "STZHZ            1\n",
       "Name: STREET_TYPE, dtype: int64"
      ]
     },
     "execution_count": 22,
     "metadata": {},
     "output_type": "execute_result"
    }
   ],
   "source": [
    "X['STREET_TYPE'].value_counts()"
   ]
  },
  {
   "cell_type": "code",
   "execution_count": 23,
   "metadata": {
    "ExecuteTime": {
     "end_time": "2020-07-06T20:17:13.282146Z",
     "start_time": "2020-07-06T20:17:13.261810Z"
    }
   },
   "outputs": [],
   "source": [
    "counts = X['STREET_TYPE'].value_counts()\n",
    "filtered_counts = counts[counts < 450].index"
   ]
  },
  {
   "cell_type": "code",
   "execution_count": 24,
   "metadata": {
    "ExecuteTime": {
     "end_time": "2020-07-06T20:17:14.372354Z",
     "start_time": "2020-07-06T20:17:14.358962Z"
    }
   },
   "outputs": [
    {
     "name": "stderr",
     "output_type": "stream",
     "text": [
      "C:\\Users\\damni\\anaconda3\\envs\\learn-env\\lib\\site-packages\\pandas\\core\\indexing.py:671: SettingWithCopyWarning: \n",
      "A value is trying to be set on a copy of a slice from a DataFrame\n",
      "\n",
      "See the caveats in the documentation: https://pandas.pydata.org/pandas-docs/stable/user_guide/indexing.html#returning-a-view-versus-a-copy\n",
      "  self._setitem_with_indexer(indexer, value)\n"
     ]
    }
   ],
   "source": [
    "X['STREET_TYPE'].loc[X['STREET_TYPE'].isin(filtered_counts)] = 'Other'"
   ]
  },
  {
   "cell_type": "code",
   "execution_count": 25,
   "metadata": {
    "ExecuteTime": {
     "end_time": "2020-07-06T20:17:15.299378Z",
     "start_time": "2020-07-06T20:17:15.280034Z"
    }
   },
   "outputs": [
    {
     "data": {
      "text/plain": [
       "AVE         98484\n",
       "ST          61383\n",
       "RD          12201\n",
       "BLVD         7716\n",
       "DR           7646\n",
       "PL           1874\n",
       "Other        1710\n",
       "NB           1649\n",
       "SB           1490\n",
       "PKWY         1340\n",
       "BROADWAY     1011\n",
       "E             534\n",
       "Name: STREET_TYPE, dtype: int64"
      ]
     },
     "execution_count": 25,
     "metadata": {},
     "output_type": "execute_result"
    }
   ],
   "source": [
    "X['STREET_TYPE'].value_counts()"
   ]
  },
  {
   "cell_type": "code",
   "execution_count": 26,
   "metadata": {
    "ExecuteTime": {
     "end_time": "2020-07-06T20:17:17.632562Z",
     "start_time": "2020-07-06T20:17:17.625617Z"
    }
   },
   "outputs": [
    {
     "data": {
      "text/html": [
       "<div>\n",
       "<style scoped>\n",
       "    .dataframe tbody tr th:only-of-type {\n",
       "        vertical-align: middle;\n",
       "    }\n",
       "\n",
       "    .dataframe tbody tr th {\n",
       "        vertical-align: top;\n",
       "    }\n",
       "\n",
       "    .dataframe thead th {\n",
       "        text-align: right;\n",
       "    }\n",
       "</style>\n",
       "<table border=\"1\" class=\"dataframe\">\n",
       "  <thead>\n",
       "    <tr style=\"text-align: right;\">\n",
       "      <th></th>\n",
       "      <th>LATITUDE</th>\n",
       "      <th>LONGITUDE</th>\n",
       "      <th>STREET_TYPE</th>\n",
       "    </tr>\n",
       "  </thead>\n",
       "  <tbody>\n",
       "    <tr>\n",
       "      <th>2</th>\n",
       "      <td>41.741804</td>\n",
       "      <td>-87.740954</td>\n",
       "      <td>AVE</td>\n",
       "    </tr>\n",
       "    <tr>\n",
       "      <th>3</th>\n",
       "      <td>41.741804</td>\n",
       "      <td>-87.740954</td>\n",
       "      <td>AVE</td>\n",
       "    </tr>\n",
       "    <tr>\n",
       "      <th>8</th>\n",
       "      <td>41.721290</td>\n",
       "      <td>-87.628510</td>\n",
       "      <td>AVE</td>\n",
       "    </tr>\n",
       "    <tr>\n",
       "      <th>9</th>\n",
       "      <td>41.741804</td>\n",
       "      <td>-87.740954</td>\n",
       "      <td>AVE</td>\n",
       "    </tr>\n",
       "    <tr>\n",
       "      <th>11</th>\n",
       "      <td>41.794779</td>\n",
       "      <td>-87.623828</td>\n",
       "      <td>BLVD</td>\n",
       "    </tr>\n",
       "  </tbody>\n",
       "</table>\n",
       "</div>"
      ],
      "text/plain": [
       "     LATITUDE  LONGITUDE STREET_TYPE\n",
       "2   41.741804 -87.740954         AVE\n",
       "3   41.741804 -87.740954         AVE\n",
       "8   41.721290 -87.628510         AVE\n",
       "9   41.741804 -87.740954         AVE\n",
       "11  41.794779 -87.623828        BLVD"
      ]
     },
     "execution_count": 26,
     "metadata": {},
     "output_type": "execute_result"
    }
   ],
   "source": [
    "X.head()"
   ]
  },
  {
   "cell_type": "code",
   "execution_count": 27,
   "metadata": {
    "ExecuteTime": {
     "end_time": "2020-07-06T20:17:18.427649Z",
     "start_time": "2020-07-06T20:17:18.415249Z"
    }
   },
   "outputs": [
    {
     "name": "stdout",
     "output_type": "stream",
     "text": [
      "<class 'pandas.core.frame.DataFrame'>\n",
      "Int64Index: 197038 entries, 2 to 416126\n",
      "Data columns (total 3 columns):\n",
      " #   Column       Non-Null Count   Dtype  \n",
      "---  ------       --------------   -----  \n",
      " 0   LATITUDE     197038 non-null  float64\n",
      " 1   LONGITUDE    197038 non-null  float64\n",
      " 2   STREET_TYPE  197038 non-null  object \n",
      "dtypes: float64(2), object(1)\n",
      "memory usage: 6.0+ MB\n"
     ]
    }
   ],
   "source": [
    "X.info()"
   ]
  },
  {
   "cell_type": "code",
   "execution_count": 28,
   "metadata": {
    "ExecuteTime": {
     "end_time": "2020-07-06T20:17:22.299424Z",
     "start_time": "2020-07-06T20:17:22.268177Z"
    }
   },
   "outputs": [],
   "source": [
    "X_dummies = pd.get_dummies(X)"
   ]
  },
  {
   "cell_type": "code",
   "execution_count": 29,
   "metadata": {
    "ExecuteTime": {
     "end_time": "2020-07-06T20:17:23.497264Z",
     "start_time": "2020-07-06T20:17:23.473952Z"
    }
   },
   "outputs": [],
   "source": [
    "X_train, X_test, y_train, y_test = train_test_split(X_dummies, y, test_size=0.25)"
   ]
  },
  {
   "cell_type": "code",
   "execution_count": 30,
   "metadata": {
    "ExecuteTime": {
     "end_time": "2020-07-06T20:17:28.213727Z",
     "start_time": "2020-07-06T20:17:28.210751Z"
    }
   },
   "outputs": [],
   "source": [
    "KNN = KNeighborsClassifier(n_neighbors=13)"
   ]
  },
  {
   "cell_type": "code",
   "execution_count": 31,
   "metadata": {
    "ExecuteTime": {
     "end_time": "2020-07-06T20:17:45.855947Z",
     "start_time": "2020-07-06T20:17:29.171504Z"
    }
   },
   "outputs": [],
   "source": [
    "KNN.fit(X_train, y_train)\n",
    "test_preds = KNN.predict(X_test)"
   ]
  },
  {
   "cell_type": "code",
   "execution_count": 32,
   "metadata": {
    "ExecuteTime": {
     "end_time": "2020-07-06T20:17:50.586794Z",
     "start_time": "2020-07-06T20:17:50.530746Z"
    }
   },
   "outputs": [
    {
     "name": "stdout",
     "output_type": "stream",
     "text": [
      "Precision Score: 0.3642351181126012\n",
      "Recall Score: 0.2811279645878683\n",
      "Accuracy Score: 0.5548112058465287\n",
      "F1 Score: 0.29547488615243667\n"
     ]
    }
   ],
   "source": [
    "def print_metrics(labels, preds):\n",
    "    print(\"Precision Score: {}\".format(precision_score(labels, preds, average='macro')))\n",
    "    print(\"Recall Score: {}\".format(recall_score(labels, preds, average='macro')))\n",
    "    print(\"Accuracy Score: {}\".format(accuracy_score(labels, preds)))\n",
    "    print(\"F1 Score: {}\".format(f1_score(labels, preds, average='macro')))\n",
    "    \n",
    "print_metrics(y_test, test_preds)"
   ]
  },
  {
   "cell_type": "code",
   "execution_count": 41,
   "metadata": {
    "ExecuteTime": {
     "end_time": "2020-07-06T19:22:05.249544Z",
     "start_time": "2020-07-06T19:22:05.244088Z"
    }
   },
   "outputs": [],
   "source": [
    "def find_best_k(X_train, y_train, X_test, y_test, min_k=1, max_k=25):\n",
    "    best_k = 0\n",
    "    best_score = 0.0\n",
    "    for k in range(min_k, max_k+1):\n",
    "        knn = KNeighborsClassifier(n_neighbors=k)\n",
    "        knn.fit(X_train, y_train)\n",
    "        preds = knn.predict(X_test)\n",
    "        acc = accuracy_score(y_test, preds)\n",
    "        if acc > best_score:\n",
    "            best_k = k\n",
    "            best_score = acc\n",
    "    \n",
    "    print(\"Best Value for k: {}\".format(best_k))\n",
    "    print(\"Accuracy-Score: {}\".format(best_score))"
   ]
  },
  {
   "cell_type": "code",
   "execution_count": 42,
   "metadata": {
    "ExecuteTime": {
     "end_time": "2020-07-06T19:28:46.855699Z",
     "start_time": "2020-07-06T19:22:06.213272Z"
    }
   },
   "outputs": [
    {
     "name": "stdout",
     "output_type": "stream",
     "text": [
      "Best Value for k: 13\n",
      "Accuracy-Score: 0.5583840844498579\n"
     ]
    }
   ],
   "source": [
    "find_best_k(X_train, y_train, X_test, y_test)"
   ]
  },
  {
   "cell_type": "markdown",
   "metadata": {
    "ExecuteTime": {
     "end_time": "2020-07-06T17:21:12.075948Z",
     "start_time": "2020-07-06T17:21:12.071980Z"
    }
   },
   "source": [
    "Well, this isn't exactly promising just yet as the model is practically randomly picking values using only the lat and long values."
   ]
  },
  {
   "cell_type": "code",
   "execution_count": 52,
   "metadata": {
    "ExecuteTime": {
     "end_time": "2020-07-06T19:37:01.998007Z",
     "start_time": "2020-07-06T19:37:01.957336Z"
    }
   },
   "outputs": [
    {
     "data": {
      "text/plain": [
       "0.31786779005386534"
      ]
     },
     "execution_count": 52,
     "metadata": {},
     "output_type": "execute_result"
    }
   ],
   "source": [
    "cohen_kappa_score(y_test, test_preds)"
   ]
  },
  {
   "cell_type": "code",
   "execution_count": 33,
   "metadata": {
    "ExecuteTime": {
     "end_time": "2020-07-06T20:18:11.228326Z",
     "start_time": "2020-07-06T20:18:11.225350Z"
    }
   },
   "outputs": [],
   "source": [
    "svm = SVC(C = 150, class_weight='balanced', probability = True)"
   ]
  },
  {
   "cell_type": "code",
   "execution_count": 34,
   "metadata": {
    "ExecuteTime": {
     "end_time": "2020-07-07T03:41:16.308259Z",
     "start_time": "2020-07-06T20:18:21.843716Z"
    }
   },
   "outputs": [],
   "source": [
    "svm.fit(X_train, y_train)\n",
    "test_preds = svm.predict(X_test)"
   ]
  },
  {
   "cell_type": "code",
   "execution_count": 35,
   "metadata": {
    "ExecuteTime": {
     "end_time": "2020-07-07T11:23:41.413410Z",
     "start_time": "2020-07-07T11:23:41.356370Z"
    }
   },
   "outputs": [
    {
     "name": "stdout",
     "output_type": "stream",
     "text": [
      "Precision Score: 0.1744288776424705\n",
      "Recall Score: 0.2553041756344613\n",
      "Accuracy Score: 0.15968331303288671\n",
      "F1 Score: 0.13016500122365554\n"
     ]
    },
    {
     "name": "stderr",
     "output_type": "stream",
     "text": [
      "C:\\Users\\damni\\anaconda3\\envs\\learn-env\\lib\\site-packages\\sklearn\\metrics\\_classification.py:1221: UndefinedMetricWarning: Precision is ill-defined and being set to 0.0 in labels with no predicted samples. Use `zero_division` parameter to control this behavior.\n",
      "  _warn_prf(average, modifier, msg_start, len(result))\n"
     ]
    }
   ],
   "source": [
    "print_metrics(y_test, test_preds)"
   ]
  },
  {
   "cell_type": "code",
   "execution_count": null,
   "metadata": {},
   "outputs": [],
   "source": []
  },
  {
   "cell_type": "code",
   "execution_count": null,
   "metadata": {},
   "outputs": [],
   "source": []
  },
  {
   "cell_type": "code",
   "execution_count": null,
   "metadata": {
    "ExecuteTime": {
     "end_time": "2020-07-06T16:04:37.819398Z",
     "start_time": "2020-07-06T16:04:37.717719Z"
    }
   },
   "outputs": [],
   "source": [
    "Crashes = df[df['PRIM_CONTRIBUTORY_CAUSE'] != ('UNABLE TO DETERMINE' or 'NOT APPLICABLE')]"
   ]
  },
  {
   "cell_type": "code",
   "execution_count": null,
   "metadata": {
    "ExecuteTime": {
     "end_time": "2020-07-06T16:07:49.388445Z",
     "start_time": "2020-07-06T16:07:49.262957Z"
    }
   },
   "outputs": [],
   "source": [
    "Crashes_exclude = df[df['PRIM_CONTRIBUTORY_CAUSE'] == ('UNABLE TO DETERMINE' or 'NOT APPLICABLE')]"
   ]
  }
 ],
 "metadata": {
  "kernelspec": {
   "display_name": "Python [conda env:learn-env] *",
   "language": "python",
   "name": "conda-env-learn-env-py"
  },
  "language_info": {
   "codemirror_mode": {
    "name": "ipython",
    "version": 3
   },
   "file_extension": ".py",
   "mimetype": "text/x-python",
   "name": "python",
   "nbconvert_exporter": "python",
   "pygments_lexer": "ipython3",
   "version": "3.6.9"
  }
 },
 "nbformat": 4,
 "nbformat_minor": 2
}
