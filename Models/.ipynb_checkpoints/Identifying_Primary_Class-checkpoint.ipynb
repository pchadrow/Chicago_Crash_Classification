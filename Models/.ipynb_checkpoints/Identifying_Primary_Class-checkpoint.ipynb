{
 "cells": [
  {
   "cell_type": "code",
   "execution_count": 69,
   "metadata": {
    "ExecuteTime": {
     "end_time": "2020-07-08T23:07:02.146897Z",
     "start_time": "2020-07-08T23:07:02.141937Z"
    }
   },
   "outputs": [],
   "source": [
    "import pandas as pd\n",
    "import numpy as np\n",
    "import xgboost as xgb\n",
    "import matplotlib.pyplot as plt\n",
    "\n",
    "from sklearn.model_selection import train_test_split, GridSearchCV\n",
    "from sklearn.model_selection import StratifiedKFold, cross_val_score\n",
    "from sklearn.neighbors import KNeighborsClassifier\n",
    "from sklearn.svm import SVC\n",
    "from sklearn.metrics import precision_score, recall_score, accuracy_score\n",
    "from sklearn.metrics import f1_score, cohen_kappa_score, plot_confusion_matrix\n",
    "from imblearn.over_sampling import SMOTE\n",
    "\n"
   ]
  },
  {
   "cell_type": "markdown",
   "metadata": {},
   "source": [
    "# Due to our heavy class imbalance for primary cause of accidents, we're going to see if can identify if our observations are our main cause or not first."
   ]
  },
  {
   "cell_type": "code",
   "execution_count": 10,
   "metadata": {
    "ExecuteTime": {
     "end_time": "2020-07-08T18:54:52.306511Z",
     "start_time": "2020-07-08T18:54:51.158767Z"
    }
   },
   "outputs": [],
   "source": [
    "Crash = pd.read_csv('../Data_Exploration/Crash_Classification_Data.csv')"
   ]
  },
  {
   "cell_type": "code",
   "execution_count": 11,
   "metadata": {
    "ExecuteTime": {
     "end_time": "2020-07-08T18:54:52.334783Z",
     "start_time": "2020-07-08T18:54:52.307503Z"
    }
   },
   "outputs": [
    {
     "data": {
      "text/html": [
       "<div>\n",
       "<style scoped>\n",
       "    .dataframe tbody tr th:only-of-type {\n",
       "        vertical-align: middle;\n",
       "    }\n",
       "\n",
       "    .dataframe tbody tr th {\n",
       "        vertical-align: top;\n",
       "    }\n",
       "\n",
       "    .dataframe thead th {\n",
       "        text-align: right;\n",
       "    }\n",
       "</style>\n",
       "<table border=\"1\" class=\"dataframe\">\n",
       "  <thead>\n",
       "    <tr style=\"text-align: right;\">\n",
       "      <th></th>\n",
       "      <th>CRASH_RECORD_ID</th>\n",
       "      <th>RD_NO</th>\n",
       "      <th>POSTED_SPEED_LIMIT</th>\n",
       "      <th>TRAFFIC_CONTROL_DEVICE</th>\n",
       "      <th>DEVICE_CONDITION</th>\n",
       "      <th>WEATHER_CONDITION</th>\n",
       "      <th>LIGHTING_CONDITION</th>\n",
       "      <th>FIRST_CRASH_TYPE</th>\n",
       "      <th>TRAFFICWAY_TYPE</th>\n",
       "      <th>ROADWAY_SURFACE_COND</th>\n",
       "      <th>...</th>\n",
       "      <th>STREET_TYPE</th>\n",
       "      <th>TRAFFIC_CONTROL_PRESENT</th>\n",
       "      <th>STRAIGHT_ROAD</th>\n",
       "      <th>LEVEL_ROAD</th>\n",
       "      <th>TIME_BEFORE_NOTIFICATION</th>\n",
       "      <th>LANE_TYPE</th>\n",
       "      <th>MAIN_CAUSE</th>\n",
       "      <th>TOTAL_PEOPLE_INVOLVED</th>\n",
       "      <th>DRY_ROAD</th>\n",
       "      <th>CLEAR_WEATHER</th>\n",
       "    </tr>\n",
       "  </thead>\n",
       "  <tbody>\n",
       "    <tr>\n",
       "      <th>0</th>\n",
       "      <td>0209e21f298984f7375742b7ef27c9880b485f41123a12...</td>\n",
       "      <td>JB415436</td>\n",
       "      <td>30.0</td>\n",
       "      <td>TRAFFIC SIGNAL</td>\n",
       "      <td>FUNCTIONING PROPERLY</td>\n",
       "      <td>CLEAR</td>\n",
       "      <td>DAYLIGHT</td>\n",
       "      <td>TURNING</td>\n",
       "      <td>NOT DIVIDED</td>\n",
       "      <td>DRY</td>\n",
       "      <td>...</td>\n",
       "      <td>ST</td>\n",
       "      <td>1.0</td>\n",
       "      <td>1.0</td>\n",
       "      <td>1.0</td>\n",
       "      <td>13.0</td>\n",
       "      <td>NaN</td>\n",
       "      <td>Driver Error</td>\n",
       "      <td>2.0</td>\n",
       "      <td>1</td>\n",
       "      <td>1</td>\n",
       "    </tr>\n",
       "    <tr>\n",
       "      <th>1</th>\n",
       "      <td>02e2ed3606a50dda185f5e97c57a45552087d6fbea1c4b...</td>\n",
       "      <td>JB256393</td>\n",
       "      <td>25.0</td>\n",
       "      <td>NO CONTROLS</td>\n",
       "      <td>NO CONTROLS</td>\n",
       "      <td>RAIN</td>\n",
       "      <td>DAYLIGHT</td>\n",
       "      <td>ANGLE</td>\n",
       "      <td>NOT DIVIDED</td>\n",
       "      <td>WET</td>\n",
       "      <td>...</td>\n",
       "      <td>AVE</td>\n",
       "      <td>0.0</td>\n",
       "      <td>1.0</td>\n",
       "      <td>1.0</td>\n",
       "      <td>5.0</td>\n",
       "      <td>small</td>\n",
       "      <td>Driver Error</td>\n",
       "      <td>2.0</td>\n",
       "      <td>0</td>\n",
       "      <td>0</td>\n",
       "    </tr>\n",
       "    <tr>\n",
       "      <th>2</th>\n",
       "      <td>046c0f96fdf5f7384e026821bb23fdd56d610dce11247b...</td>\n",
       "      <td>JC128226</td>\n",
       "      <td>30.0</td>\n",
       "      <td>NO CONTROLS</td>\n",
       "      <td>NO CONTROLS</td>\n",
       "      <td>CLEAR</td>\n",
       "      <td>DARKNESS, LIGHTED ROAD</td>\n",
       "      <td>REAR END</td>\n",
       "      <td>DIVIDED - W/MEDIAN BARRIER</td>\n",
       "      <td>WET</td>\n",
       "      <td>...</td>\n",
       "      <td>BLVD</td>\n",
       "      <td>0.0</td>\n",
       "      <td>1.0</td>\n",
       "      <td>1.0</td>\n",
       "      <td>535.0</td>\n",
       "      <td>medium</td>\n",
       "      <td>Driver Error</td>\n",
       "      <td>2.0</td>\n",
       "      <td>0</td>\n",
       "      <td>1</td>\n",
       "    </tr>\n",
       "    <tr>\n",
       "      <th>3</th>\n",
       "      <td>04f6245394966ed41b109ac46b18ed45b8b90c6607cebc...</td>\n",
       "      <td>JB258516</td>\n",
       "      <td>30.0</td>\n",
       "      <td>STOP SIGN/FLASHER</td>\n",
       "      <td>FUNCTIONING PROPERLY</td>\n",
       "      <td>CLEAR</td>\n",
       "      <td>DAYLIGHT</td>\n",
       "      <td>REAR END</td>\n",
       "      <td>ONE-WAY</td>\n",
       "      <td>DRY</td>\n",
       "      <td>...</td>\n",
       "      <td>ST</td>\n",
       "      <td>1.0</td>\n",
       "      <td>1.0</td>\n",
       "      <td>1.0</td>\n",
       "      <td>40.0</td>\n",
       "      <td>small</td>\n",
       "      <td>Driver Error</td>\n",
       "      <td>3.0</td>\n",
       "      <td>1</td>\n",
       "      <td>1</td>\n",
       "    </tr>\n",
       "    <tr>\n",
       "      <th>4</th>\n",
       "      <td>0564e565ebda939c88d5da6d613ac5789b702cbff5b874...</td>\n",
       "      <td>JC541936</td>\n",
       "      <td>20.0</td>\n",
       "      <td>TRAFFIC SIGNAL</td>\n",
       "      <td>FUNCTIONING PROPERLY</td>\n",
       "      <td>CLEAR</td>\n",
       "      <td>DAYLIGHT</td>\n",
       "      <td>PEDESTRIAN</td>\n",
       "      <td>NOT DIVIDED</td>\n",
       "      <td>DRY</td>\n",
       "      <td>...</td>\n",
       "      <td>AVE</td>\n",
       "      <td>1.0</td>\n",
       "      <td>1.0</td>\n",
       "      <td>1.0</td>\n",
       "      <td>5.0</td>\n",
       "      <td>NaN</td>\n",
       "      <td>Driver Distraction</td>\n",
       "      <td>2.0</td>\n",
       "      <td>1</td>\n",
       "      <td>1</td>\n",
       "    </tr>\n",
       "  </tbody>\n",
       "</table>\n",
       "<p>5 rows × 43 columns</p>\n",
       "</div>"
      ],
      "text/plain": [
       "                                     CRASH_RECORD_ID     RD_NO  \\\n",
       "0  0209e21f298984f7375742b7ef27c9880b485f41123a12...  JB415436   \n",
       "1  02e2ed3606a50dda185f5e97c57a45552087d6fbea1c4b...  JB256393   \n",
       "2  046c0f96fdf5f7384e026821bb23fdd56d610dce11247b...  JC128226   \n",
       "3  04f6245394966ed41b109ac46b18ed45b8b90c6607cebc...  JB258516   \n",
       "4  0564e565ebda939c88d5da6d613ac5789b702cbff5b874...  JC541936   \n",
       "\n",
       "   POSTED_SPEED_LIMIT TRAFFIC_CONTROL_DEVICE      DEVICE_CONDITION  \\\n",
       "0                30.0         TRAFFIC SIGNAL  FUNCTIONING PROPERLY   \n",
       "1                25.0            NO CONTROLS           NO CONTROLS   \n",
       "2                30.0            NO CONTROLS           NO CONTROLS   \n",
       "3                30.0      STOP SIGN/FLASHER  FUNCTIONING PROPERLY   \n",
       "4                20.0         TRAFFIC SIGNAL  FUNCTIONING PROPERLY   \n",
       "\n",
       "  WEATHER_CONDITION      LIGHTING_CONDITION FIRST_CRASH_TYPE  \\\n",
       "0             CLEAR                DAYLIGHT          TURNING   \n",
       "1              RAIN                DAYLIGHT            ANGLE   \n",
       "2             CLEAR  DARKNESS, LIGHTED ROAD         REAR END   \n",
       "3             CLEAR                DAYLIGHT         REAR END   \n",
       "4             CLEAR                DAYLIGHT       PEDESTRIAN   \n",
       "\n",
       "              TRAFFICWAY_TYPE ROADWAY_SURFACE_COND  ... STREET_TYPE  \\\n",
       "0                 NOT DIVIDED                  DRY  ...          ST   \n",
       "1                 NOT DIVIDED                  WET  ...         AVE   \n",
       "2  DIVIDED - W/MEDIAN BARRIER                  WET  ...        BLVD   \n",
       "3                     ONE-WAY                  DRY  ...          ST   \n",
       "4                 NOT DIVIDED                  DRY  ...         AVE   \n",
       "\n",
       "  TRAFFIC_CONTROL_PRESENT STRAIGHT_ROAD  LEVEL_ROAD TIME_BEFORE_NOTIFICATION  \\\n",
       "0                     1.0           1.0         1.0                     13.0   \n",
       "1                     0.0           1.0         1.0                      5.0   \n",
       "2                     0.0           1.0         1.0                    535.0   \n",
       "3                     1.0           1.0         1.0                     40.0   \n",
       "4                     1.0           1.0         1.0                      5.0   \n",
       "\n",
       "  LANE_TYPE          MAIN_CAUSE  TOTAL_PEOPLE_INVOLVED DRY_ROAD CLEAR_WEATHER  \n",
       "0       NaN        Driver Error                    2.0        1             1  \n",
       "1     small        Driver Error                    2.0        0             0  \n",
       "2    medium        Driver Error                    2.0        0             1  \n",
       "3     small        Driver Error                    3.0        1             1  \n",
       "4       NaN  Driver Distraction                    2.0        1             1  \n",
       "\n",
       "[5 rows x 43 columns]"
      ]
     },
     "execution_count": 11,
     "metadata": {},
     "output_type": "execute_result"
    }
   ],
   "source": [
    "Crash.head()"
   ]
  },
  {
   "cell_type": "code",
   "execution_count": 12,
   "metadata": {
    "ExecuteTime": {
     "end_time": "2020-07-08T18:54:54.660526Z",
     "start_time": "2020-07-08T18:54:54.513711Z"
    }
   },
   "outputs": [
    {
     "name": "stdout",
     "output_type": "stream",
     "text": [
      "<class 'pandas.core.frame.DataFrame'>\n",
      "RangeIndex: 170023 entries, 0 to 170022\n",
      "Data columns (total 43 columns):\n",
      " #   Column                         Non-Null Count   Dtype  \n",
      "---  ------                         --------------   -----  \n",
      " 0   CRASH_RECORD_ID                170023 non-null  object \n",
      " 1   RD_NO                          170023 non-null  object \n",
      " 2   POSTED_SPEED_LIMIT             170023 non-null  float64\n",
      " 3   TRAFFIC_CONTROL_DEVICE         170023 non-null  object \n",
      " 4   DEVICE_CONDITION               170023 non-null  object \n",
      " 5   WEATHER_CONDITION              170023 non-null  object \n",
      " 6   LIGHTING_CONDITION             170023 non-null  object \n",
      " 7   FIRST_CRASH_TYPE               170023 non-null  object \n",
      " 8   TRAFFICWAY_TYPE                170023 non-null  object \n",
      " 9   ROADWAY_SURFACE_COND           170023 non-null  object \n",
      " 10  ROAD_DEFECT                    170023 non-null  object \n",
      " 11  REPORT_TYPE                    170023 non-null  object \n",
      " 12  CRASH_TYPE                     170023 non-null  object \n",
      " 13  HIT_AND_RUN_I                  170023 non-null  float64\n",
      " 14  DAMAGE                         170023 non-null  object \n",
      " 15  PRIM_CONTRIBUTORY_CAUSE        170023 non-null  object \n",
      " 16  SEC_CONTRIBUTORY_CAUSE         170023 non-null  object \n",
      " 17  STREET_NO                      170023 non-null  float64\n",
      " 18  STREET_DIRECTION               170023 non-null  object \n",
      " 19  STREET_NAME                    170023 non-null  object \n",
      " 20  BEAT_OF_OCCURRENCE             170023 non-null  float64\n",
      " 21  NUM_UNITS                      170023 non-null  float64\n",
      " 22  INJURIES_TOTAL                 170023 non-null  float64\n",
      " 23  INJURIES_FATAL                 170023 non-null  float64\n",
      " 24  INJURIES_INCAPACITATING        170023 non-null  float64\n",
      " 25  INJURIES_NON_INCAPACITATING    170023 non-null  float64\n",
      " 26  INJURIES_REPORTED_NOT_EVIDENT  170023 non-null  float64\n",
      " 27  INJURIES_NO_INDICATION         170023 non-null  float64\n",
      " 28  CRASH_HOUR                     170023 non-null  float64\n",
      " 29  CRASH_DAY_OF_WEEK              170023 non-null  float64\n",
      " 30  CRASH_MONTH                    170023 non-null  float64\n",
      " 31  LATITUDE                       170023 non-null  float64\n",
      " 32  LONGITUDE                      170023 non-null  float64\n",
      " 33  STREET_TYPE                    170023 non-null  object \n",
      " 34  TRAFFIC_CONTROL_PRESENT        170023 non-null  float64\n",
      " 35  STRAIGHT_ROAD                  170023 non-null  float64\n",
      " 36  LEVEL_ROAD                     170023 non-null  float64\n",
      " 37  TIME_BEFORE_NOTIFICATION       170023 non-null  float64\n",
      " 38  LANE_TYPE                      88047 non-null   object \n",
      " 39  MAIN_CAUSE                     170023 non-null  object \n",
      " 40  TOTAL_PEOPLE_INVOLVED          170023 non-null  float64\n",
      " 41  DRY_ROAD                       170023 non-null  int64  \n",
      " 42  CLEAR_WEATHER                  170023 non-null  int64  \n",
      "dtypes: float64(21), int64(2), object(20)\n",
      "memory usage: 55.8+ MB\n"
     ]
    }
   ],
   "source": [
    "Crash.info()"
   ]
  },
  {
   "cell_type": "code",
   "execution_count": 13,
   "metadata": {
    "ExecuteTime": {
     "end_time": "2020-07-08T18:55:52.340850Z",
     "start_time": "2020-07-08T18:55:52.261987Z"
    }
   },
   "outputs": [],
   "source": [
    "Crash['DRIVER_ERROR'] = Crash['MAIN_CAUSE'].apply(lambda x: 1 if x == 'Driver Error' else 0)"
   ]
  },
  {
   "cell_type": "code",
   "execution_count": 15,
   "metadata": {
    "ExecuteTime": {
     "end_time": "2020-07-08T18:57:40.907291Z",
     "start_time": "2020-07-08T18:57:40.897867Z"
    }
   },
   "outputs": [
    {
     "data": {
      "text/plain": [
       "1    0.895773\n",
       "0    0.104227\n",
       "Name: DRIVER_ERROR, dtype: float64"
      ]
     },
     "execution_count": 15,
     "metadata": {},
     "output_type": "execute_result"
    }
   ],
   "source": [
    "Crash['DRIVER_ERROR'].value_counts(normalize=True)"
   ]
  },
  {
   "cell_type": "markdown",
   "metadata": {},
   "source": [
    "So roughly 90% of our data is considered a Driver Error. Let's see if we can easily classify something as being driver error or not."
   ]
  },
  {
   "cell_type": "code",
   "execution_count": 191,
   "metadata": {
    "ExecuteTime": {
     "end_time": "2020-07-09T15:10:28.246664Z",
     "start_time": "2020-07-09T15:10:28.233768Z"
    }
   },
   "outputs": [],
   "source": [
    "y = Crash['DRIVER_ERROR']\n",
    "#This first selection of features will be purely based off of intuition and primarily binary and numerical column selection\n",
    "X = Crash[['POSTED_SPEED_LIMIT', 'HIT_AND_RUN_I', 'INJURIES_TOTAL', 'INJURIES_FATAL', 'CRASH_HOUR', \n",
    "           'TRAFFIC_CONTROL_PRESENT', 'STRAIGHT_ROAD', 'LEVEL_ROAD', 'TIME_BEFORE_NOTIFICATION',\n",
    "          'TOTAL_PEOPLE_INVOLVED', 'DRY_ROAD', 'CLEAR_WEATHER']]"
   ]
  },
  {
   "cell_type": "code",
   "execution_count": 192,
   "metadata": {
    "ExecuteTime": {
     "end_time": "2020-07-09T15:10:29.934055Z",
     "start_time": "2020-07-09T15:10:29.902808Z"
    }
   },
   "outputs": [],
   "source": [
    "X_train, X_test, y_train, y_test = train_test_split(X, y, test_size=.25)"
   ]
  },
  {
   "cell_type": "code",
   "execution_count": 193,
   "metadata": {
    "ExecuteTime": {
     "end_time": "2020-07-09T15:10:31.197863Z",
     "start_time": "2020-07-09T15:10:30.792631Z"
    }
   },
   "outputs": [],
   "source": [
    "smote = SMOTE(n_jobs=3)\n",
    "X_train_resampled, y_train_resampled = smote.fit_sample(X_train, y_train)"
   ]
  },
  {
   "cell_type": "code",
   "execution_count": 194,
   "metadata": {
    "ExecuteTime": {
     "end_time": "2020-07-09T15:10:31.525223Z",
     "start_time": "2020-07-09T15:10:31.517287Z"
    }
   },
   "outputs": [
    {
     "data": {
      "text/plain": [
       "1    114212\n",
       "0    114212\n",
       "Name: DRIVER_ERROR, dtype: int64"
      ]
     },
     "execution_count": 194,
     "metadata": {},
     "output_type": "execute_result"
    }
   ],
   "source": [
    "y_train_resampled.value_counts()"
   ]
  },
  {
   "cell_type": "code",
   "execution_count": 195,
   "metadata": {
    "ExecuteTime": {
     "end_time": "2020-07-09T15:10:34.913895Z",
     "start_time": "2020-07-09T15:10:34.906455Z"
    }
   },
   "outputs": [],
   "source": [
    "xgboost=xgb.XGBClassifier(n_jobs=4 )"
   ]
  },
  {
   "cell_type": "code",
   "execution_count": 196,
   "metadata": {
    "ExecuteTime": {
     "end_time": "2020-07-09T15:10:38.111109Z",
     "start_time": "2020-07-09T15:10:35.943590Z"
    }
   },
   "outputs": [],
   "source": [
    "xgboost.fit(X_train_resampled, y_train_resampled)\n",
    "preds = xgboost.predict(X_test)"
   ]
  },
  {
   "cell_type": "code",
   "execution_count": 197,
   "metadata": {
    "ExecuteTime": {
     "end_time": "2020-07-09T15:10:38.718709Z",
     "start_time": "2020-07-09T15:10:38.712758Z"
    }
   },
   "outputs": [
    {
     "data": {
      "text/plain": [
       "0.838822754434668"
      ]
     },
     "execution_count": 197,
     "metadata": {},
     "output_type": "execute_result"
    }
   ],
   "source": [
    "accuracy_score(y_test, preds)"
   ]
  },
  {
   "cell_type": "code",
   "execution_count": 198,
   "metadata": {
    "ExecuteTime": {
     "end_time": "2020-07-09T15:10:40.501829Z",
     "start_time": "2020-07-09T15:10:40.302933Z"
    }
   },
   "outputs": [
    {
     "data": {
      "image/png": "[encoded data removed]",
      "text/plain": [
       "<Figure size 432x288 with 2 Axes>"
      ]
     },
     "metadata": {
      "needs_background": "light"
     },
     "output_type": "display_data"
    }
   ],
   "source": [
    "plot_confusion_matrix(xgboost, X_test, y_test)\n",
    "plt.show()"
   ]
  },
  {
   "cell_type": "code",
   "execution_count": 39,
   "metadata": {
    "ExecuteTime": {
     "end_time": "2020-07-08T19:41:37.946773Z",
     "start_time": "2020-07-08T19:41:37.936853Z"
    }
   },
   "outputs": [
    {
     "name": "stdout",
     "output_type": "stream",
     "text": [
      "[0.01640209 0.17630747 0.06974684 0.         0.02389251 0.23833203\n",
      " 0.01492847 0.04841674 0.06084257 0.1288583  0.08006274 0.14221027]\n"
     ]
    }
   ],
   "source": [
    "print(xgboost.feature_importances_)"
   ]
  },
  {
   "cell_type": "markdown",
   "metadata": {},
   "source": [
    "### Not too bad for a vanilla model! Let's see what happens when we add some categorical columns in too!"
   ]
  },
  {
   "cell_type": "code",
   "execution_count": 199,
   "metadata": {
    "ExecuteTime": {
     "end_time": "2020-07-09T15:10:47.884788Z",
     "start_time": "2020-07-09T15:10:47.849076Z"
    }
   },
   "outputs": [],
   "source": [
    "X2 = Crash.drop(columns=['CRASH_RECORD_ID', 'RD_NO', 'PRIM_CONTRIBUTORY_CAUSE', 'SEC_CONTRIBUTORY_CAUSE', \n",
    "                         'STREET_NO', 'STREET_NAME', 'MAIN_CAUSE', 'DRIVER_ERROR'], \n",
    "                axis = 1)\n",
    "\n"
   ]
  },
  {
   "cell_type": "code",
   "execution_count": 200,
   "metadata": {
    "ExecuteTime": {
     "end_time": "2020-07-09T15:10:49.073699Z",
     "start_time": "2020-07-09T15:10:48.851491Z"
    }
   },
   "outputs": [],
   "source": [
    "X_dummies = pd.get_dummies(X2)"
   ]
  },
  {
   "cell_type": "code",
   "execution_count": 201,
   "metadata": {
    "ExecuteTime": {
     "end_time": "2020-07-09T15:10:50.121748Z",
     "start_time": "2020-07-09T15:10:50.117779Z"
    }
   },
   "outputs": [
    {
     "data": {
      "text/plain": [
       "(170023, 148)"
      ]
     },
     "execution_count": 201,
     "metadata": {},
     "output_type": "execute_result"
    }
   ],
   "source": [
    "X_dummies.shape"
   ]
  },
  {
   "cell_type": "code",
   "execution_count": 202,
   "metadata": {
    "ExecuteTime": {
     "end_time": "2020-07-09T15:11:00.646369Z",
     "start_time": "2020-07-09T15:11:00.519889Z"
    }
   },
   "outputs": [],
   "source": [
    "X_train, X_test, y_train, y_test = train_test_split(X_dummies, y, test_size=0.25)"
   ]
  },
  {
   "cell_type": "code",
   "execution_count": 203,
   "metadata": {
    "ExecuteTime": {
     "end_time": "2020-07-09T15:11:03.916992Z",
     "start_time": "2020-07-09T15:11:01.274800Z"
    }
   },
   "outputs": [],
   "source": [
    "smote = SMOTE(n_jobs=3)\n",
    "X_train_resampled, y_train_resampled = smote.fit_sample(X_train, y_train)"
   ]
  },
  {
   "cell_type": "code",
   "execution_count": 204,
   "metadata": {
    "ExecuteTime": {
     "end_time": "2020-07-09T15:11:17.074381Z",
     "start_time": "2020-07-09T15:11:03.918480Z"
    }
   },
   "outputs": [],
   "source": [
    "xgboost.fit(X_train_resampled, y_train_resampled)\n",
    "preds = xgboost.predict(X_test)"
   ]
  },
  {
   "cell_type": "code",
   "execution_count": 205,
   "metadata": {
    "ExecuteTime": {
     "end_time": "2020-07-09T15:11:18.568333Z",
     "start_time": "2020-07-09T15:11:18.561885Z"
    }
   },
   "outputs": [
    {
     "data": {
      "text/plain": [
       "0.8979202936056087"
      ]
     },
     "execution_count": 205,
     "metadata": {},
     "output_type": "execute_result"
    }
   ],
   "source": [
    "accuracy_score(y_test, preds)"
   ]
  },
  {
   "cell_type": "code",
   "execution_count": 208,
   "metadata": {
    "ExecuteTime": {
     "end_time": "2020-07-09T15:12:58.365496Z",
     "start_time": "2020-07-09T15:12:57.094248Z"
    }
   },
   "outputs": [
    {
     "data": {
      "image/png": "[encoded data removed]",
      "text/plain": [
       "<Figure size 432x288 with 2 Axes>"
      ]
     },
     "metadata": {
      "needs_background": "light"
     },
     "output_type": "display_data"
    },
    {
     "data": {
      "image/png": "[encoded data removed]",
      "text/plain": [
       "<Figure size 432x288 with 2 Axes>"
      ]
     },
     "metadata": {
      "needs_background": "light"
     },
     "output_type": "display_data"
    }
   ],
   "source": [
    "plot_confusion_matrix(xgboost, X_train_resampled, y_train_resampled, normalize = 'true')\n",
    "plot_confusion_matrix(xgboost, X_test, y_test, normalize= 'true')\n",
    "plt.show()"
   ]
  },
  {
   "cell_type": "code",
   "execution_count": 209,
   "metadata": {
    "ExecuteTime": {
     "end_time": "2020-07-09T15:15:17.756842Z",
     "start_time": "2020-07-09T15:14:39.427954Z"
    }
   },
   "outputs": [
    {
     "data": {
      "text/plain": [
       "array([0.90516101, 0.9055139 , 0.90504338, 0.90433478, 0.90421715])"
      ]
     },
     "execution_count": 209,
     "metadata": {},
     "output_type": "execute_result"
    }
   ],
   "source": [
    "kfold = StratifiedKFold()\n",
    "cross_val_score(xgboost, X_dummies, y, cv=kfold)"
   ]
  },
  {
   "cell_type": "markdown",
   "metadata": {},
   "source": [
    "## Looks great so far!\n",
    "Let's take a peek at some of our feature importance and see if there's anything we can remove from our model to improve efficiency before tuning more."
   ]
  },
  {
   "cell_type": "code",
   "execution_count": 210,
   "metadata": {
    "ExecuteTime": {
     "end_time": "2020-07-09T15:17:05.404195Z",
     "start_time": "2020-07-09T15:17:05.394275Z"
    }
   },
   "outputs": [
    {
     "name": "stdout",
     "output_type": "stream",
     "text": [
      "[3.50613118e-04 3.75320986e-02 3.36347730e-04 1.20316576e-02\n",
      " 6.08747685e-03 1.08217864e-04 0.00000000e+00 6.32219890e-04\n",
      " 0.00000000e+00 1.52523657e-02 4.03689686e-04 8.17744713e-03\n",
      " 2.70573935e-03 7.77848298e-04 2.74996244e-04 3.39902528e-02\n",
      " 3.88737826e-04 0.00000000e+00 9.96414921e-04 3.09233498e-02\n",
      " 2.65594162e-02 1.95845384e-02 0.00000000e+00 0.00000000e+00\n",
      " 0.00000000e+00 0.00000000e+00 0.00000000e+00 0.00000000e+00\n",
      " 0.00000000e+00 0.00000000e+00 0.00000000e+00 0.00000000e+00\n",
      " 0.00000000e+00 0.00000000e+00 0.00000000e+00 0.00000000e+00\n",
      " 0.00000000e+00 4.16232133e-03 1.67645197e-02 0.00000000e+00\n",
      " 0.00000000e+00 0.00000000e+00 3.69264046e-03 0.00000000e+00\n",
      " 1.08755026e-02 0.00000000e+00 0.00000000e+00 0.00000000e+00\n",
      " 0.00000000e+00 0.00000000e+00 0.00000000e+00 6.11238834e-03\n",
      " 0.00000000e+00 0.00000000e+00 7.57140369e-05 1.94253959e-02\n",
      " 0.00000000e+00 0.00000000e+00 3.92439961e-03 1.96953697e-04\n",
      " 1.29570281e-02 7.87847582e-03 0.00000000e+00 4.16777609e-03\n",
      " 0.00000000e+00 0.00000000e+00 2.09833886e-02 1.19156270e-04\n",
      " 9.78533830e-03 0.00000000e+00 1.02764287e-04 0.00000000e+00\n",
      " 0.00000000e+00 9.78478417e-02 7.07955449e-04 0.00000000e+00\n",
      " 2.79823951e-02 0.00000000e+00 0.00000000e+00 0.00000000e+00\n",
      " 0.00000000e+00 3.93615477e-02 0.00000000e+00 2.68462226e-02\n",
      " 9.71816538e-04 0.00000000e+00 1.62752811e-02 4.58852341e-03\n",
      " 0.00000000e+00 0.00000000e+00 1.63065805e-03 0.00000000e+00\n",
      " 8.73512030e-03 0.00000000e+00 7.86934514e-03 2.45379028e-03\n",
      " 7.49538466e-03 0.00000000e+00 0.00000000e+00 0.00000000e+00\n",
      " 0.00000000e+00 0.00000000e+00 0.00000000e+00 0.00000000e+00\n",
      " 0.00000000e+00 0.00000000e+00 0.00000000e+00 0.00000000e+00\n",
      " 1.10803370e-03 1.18889855e-02 6.74945042e-02 0.00000000e+00\n",
      " 1.57441366e-02 2.28060409e-03 2.85481306e-04 0.00000000e+00\n",
      " 1.27360420e-02 3.14228912e-03 1.68648548e-02 2.50038467e-02\n",
      " 1.63639579e-02 3.34935971e-02 7.74927661e-02 2.43416466e-02\n",
      " 2.37690303e-02 1.93372031e-03 7.99498148e-03 1.98122151e-02\n",
      " 1.08476765e-02 5.76176867e-03 2.53583072e-03 0.00000000e+00\n",
      " 0.00000000e+00 2.74961884e-03 0.00000000e+00 0.00000000e+00\n",
      " 0.00000000e+00 0.00000000e+00 0.00000000e+00 0.00000000e+00\n",
      " 1.19923027e-02 0.00000000e+00 1.37611059e-02 0.00000000e+00\n",
      " 0.00000000e+00 2.02867814e-04 9.18086059e-03 2.01141443e-02]\n"
     ]
    }
   ],
   "source": [
    "print(xgboost.feature_importances_)"
   ]
  },
  {
   "cell_type": "markdown",
   "metadata": {},
   "source": [
    "There's definitely a fair amount to trim!"
   ]
  },
  {
   "cell_type": "code",
   "execution_count": 211,
   "metadata": {
    "ExecuteTime": {
     "end_time": "2020-07-09T15:17:08.484850Z",
     "start_time": "2020-07-09T15:17:08.475426Z"
    }
   },
   "outputs": [],
   "source": [
    "col_to_drop = []\n",
    "for col in zip(X_dummies.columns, xgboost.feature_importances_):\n",
    "    if col[1] == 0:\n",
    "        col_to_drop.append(col[0])"
   ]
  },
  {
   "cell_type": "code",
   "execution_count": 212,
   "metadata": {
    "ExecuteTime": {
     "end_time": "2020-07-09T15:17:11.525825Z",
     "start_time": "2020-07-09T15:17:11.497057Z"
    }
   },
   "outputs": [],
   "source": [
    "X_dummies = X_dummies.drop(columns=col_to_drop, axis = 1)"
   ]
  },
  {
   "cell_type": "code",
   "execution_count": 213,
   "metadata": {
    "ExecuteTime": {
     "end_time": "2020-07-09T15:17:22.111455Z",
     "start_time": "2020-07-09T15:17:22.047471Z"
    }
   },
   "outputs": [],
   "source": [
    "X_train, X_test, y_train, y_test = train_test_split(X_dummies, y, test_size=0.3)"
   ]
  },
  {
   "cell_type": "code",
   "execution_count": 214,
   "metadata": {
    "ExecuteTime": {
     "end_time": "2020-07-09T15:18:13.779268Z",
     "start_time": "2020-07-09T15:18:12.403364Z"
    }
   },
   "outputs": [],
   "source": [
    "smote = SMOTE(n_jobs=3)\n",
    "X_train_resampled, y_train_resampled = smote.fit_sample(X_train, y_train)"
   ]
  },
  {
   "cell_type": "code",
   "execution_count": 215,
   "metadata": {
    "ExecuteTime": {
     "end_time": "2020-07-09T15:18:24.670434Z",
     "start_time": "2020-07-09T15:18:16.790484Z"
    }
   },
   "outputs": [],
   "source": [
    "xgboost.fit(X_train_resampled, y_train_resampled)\n",
    "preds = xgboost.predict(X_test)"
   ]
  },
  {
   "cell_type": "code",
   "execution_count": 216,
   "metadata": {
    "ExecuteTime": {
     "end_time": "2020-07-09T15:18:26.932689Z",
     "start_time": "2020-07-09T15:18:26.925745Z"
    }
   },
   "outputs": [
    {
     "data": {
      "text/plain": [
       "0.9004058266512439"
      ]
     },
     "execution_count": 216,
     "metadata": {},
     "output_type": "execute_result"
    }
   ],
   "source": [
    "accuracy_score(y_test, preds)"
   ]
  },
  {
   "cell_type": "code",
   "execution_count": 217,
   "metadata": {
    "ExecuteTime": {
     "end_time": "2020-07-09T15:19:08.256424Z",
     "start_time": "2020-07-09T15:19:07.381977Z"
    }
   },
   "outputs": [
    {
     "data": {
      "image/png": "[encoded data removed]",
      "text/plain": [
       "<Figure size 432x288 with 2 Axes>"
      ]
     },
     "metadata": {
      "needs_background": "light"
     },
     "output_type": "display_data"
    },
    {
     "data": {
      "image/png": "[encoded data removed]",
      "text/plain": [
       "<Figure size 432x288 with 2 Axes>"
      ]
     },
     "metadata": {
      "needs_background": "light"
     },
     "output_type": "display_data"
    }
   ],
   "source": [
    "plot_confusion_matrix(xgboost, X_train_resampled, y_train_resampled, normalize = 'true')\n",
    "plot_confusion_matrix(xgboost, X_test, y_test, normalize= 'true')\n",
    "plt.show()\n"
   ]
  },
  {
   "cell_type": "code",
   "execution_count": 85,
   "metadata": {
    "ExecuteTime": {
     "end_time": "2020-07-08T23:33:36.466635Z",
     "start_time": "2020-07-08T23:33:10.753008Z"
    }
   },
   "outputs": [
    {
     "data": {
      "text/plain": [
       "array([0.9055139 , 0.9051316 , 0.90516101, 0.90483473, 0.90380543])"
      ]
     },
     "execution_count": 85,
     "metadata": {},
     "output_type": "execute_result"
    }
   ],
   "source": [
    "cross_val_score(xgboost, X_dummies, y, cv=kfold)"
   ]
  },
  {
   "cell_type": "code",
   "execution_count": 86,
   "metadata": {
    "ExecuteTime": {
     "end_time": "2020-07-08T23:36:39.779267Z",
     "start_time": "2020-07-08T23:36:39.775299Z"
    }
   },
   "outputs": [],
   "source": [
    "def print_metrics(labels, preds):\n",
    "    print(\"Precision Score: {}\".format(precision_score(labels, preds, average='macro')))\n",
    "    print(\"Recall Score: {}\".format(recall_score(labels, preds, average='macro')))\n",
    "    print(\"Accuracy Score: {}\".format(accuracy_score(labels, preds)))\n",
    "    print(\"F1 Score: {}\".format(f1_score(labels, preds, average='macro')))"
   ]
  },
  {
   "cell_type": "code",
   "execution_count": 218,
   "metadata": {
    "ExecuteTime": {
     "end_time": "2020-07-09T15:19:37.238194Z",
     "start_time": "2020-07-09T15:19:37.201490Z"
    }
   },
   "outputs": [
    {
     "name": "stdout",
     "output_type": "stream",
     "text": [
      "Precision Score: 0.725109823232134\n",
      "Recall Score: 0.6428097271112048\n",
      "Accuracy Score: 0.9004058266512439\n",
      "F1 Score: 0.671127709411141\n"
     ]
    }
   ],
   "source": [
    "print_metrics(y_test, preds)"
   ]
  },
  {
   "cell_type": "code",
   "execution_count": 88,
   "metadata": {
    "ExecuteTime": {
     "end_time": "2020-07-08T23:42:22.999289Z",
     "start_time": "2020-07-08T23:42:22.988873Z"
    }
   },
   "outputs": [
    {
     "name": "stdout",
     "output_type": "stream",
     "text": [
      "[3.50309099e-04 3.61537486e-02 2.08721671e-04 1.62956007e-02\n",
      " 1.34490551e-02 1.84829608e-02 4.76052985e-04 6.65599853e-03\n",
      " 3.01706349e-03 5.87759190e-04 2.02334413e-04 3.95285375e-02\n",
      " 4.18184325e-04 1.58453331e-04 5.02240960e-04 3.04335076e-02\n",
      " 2.65763924e-02 2.10307725e-02 4.95124329e-03 2.43506432e-02\n",
      " 5.26913861e-03 2.81704124e-03 3.72489030e-03 2.25546714e-02\n",
      " 2.86176859e-04 2.80198455e-03 1.80755351e-02 4.17492352e-04\n",
      " 9.85112414e-03 9.66694579e-02 5.83119283e-04 2.28046067e-02\n",
      " 3.77998538e-02 2.77132764e-02 2.30731536e-03 1.15251401e-02\n",
      " 3.46650369e-03 1.40578020e-03 7.83844106e-03 9.74410307e-03\n",
      " 3.11847054e-03 7.64818117e-03 8.86037742e-05 1.12726574e-03\n",
      " 2.22856700e-02 7.00236782e-02 2.09411494e-02 7.41495227e-04\n",
      " 1.82922103e-03 1.21529475e-02 2.83294101e-03 1.57752782e-02\n",
      " 5.52257225e-02 5.53055713e-03 3.04278135e-02 2.67563369e-02\n",
      " 4.13881354e-02 1.22284014e-02 3.00078630e-03 1.54131437e-02\n",
      " 3.58330458e-02 1.00157158e-02 8.25774297e-03 7.65817123e-04\n",
      " 1.75701850e-03 2.23522168e-02 1.92144383e-02 1.14506120e-02\n",
      " 1.03322221e-02]\n"
     ]
    }
   ],
   "source": [
    "print(xgboost.feature_importances_)"
   ]
  },
  {
   "cell_type": "markdown",
   "metadata": {},
   "source": [
    "Due to a heavy bias in our model, let's try some different splits of our training and test data to see it helps."
   ]
  },
  {
   "cell_type": "code",
   "execution_count": 236,
   "metadata": {
    "ExecuteTime": {
     "end_time": "2020-07-09T15:56:45.558885Z",
     "start_time": "2020-07-09T15:53:15.038177Z"
    }
   },
   "outputs": [
    {
     "name": "stdout",
     "output_type": "stream",
     "text": [
      "Results for test_split 0.25\n",
      "Precision Score: 0.7284989508977242\n",
      "Recall Score: 0.6412738862962442\n",
      "Accuracy Score: 0.899237754669929\n",
      "F1 Score: 0.6705144980566768\n",
      "---------------------------\n",
      "Results for test_split 0.2604166666666667\n",
      "Precision Score: 0.734527611592352\n",
      "Recall Score: 0.6448231076326849\n",
      "Accuracy Score: 0.9006707771529237\n",
      "F1 Score: 0.674942565413532\n",
      "---------------------------\n",
      "Results for test_split 0.2708333333333333\n",
      "Precision Score: 0.7343900801463243\n",
      "Recall Score: 0.642353194602213\n",
      "Accuracy Score: 0.9001693884642112\n",
      "F1 Score: 0.6727517702205792\n",
      "---------------------------\n",
      "Results for test_split 0.28125\n",
      "Precision Score: 0.7280994558860456\n",
      "Recall Score: 0.6428687875538212\n",
      "Accuracy Score: 0.8995796649867207\n",
      "F1 Score: 0.6718070304758673\n",
      "---------------------------\n",
      "Results for test_split 0.2916666666666667\n",
      "Precision Score: 0.7246733165154466\n",
      "Recall Score: 0.6396876617294998\n",
      "Accuracy Score: 0.8971184287471518\n",
      "F1 Score: 0.668209239612216\n",
      "---------------------------\n",
      "Results for test_split 0.3020833333333333\n",
      "Precision Score: 0.7248543350705263\n",
      "Recall Score: 0.6380995723875025\n",
      "Accuracy Score: 0.8988746544137689\n",
      "F1 Score: 0.6669798955914569\n",
      "---------------------------\n",
      "Results for test_split 0.3125\n",
      "Precision Score: 0.7306640985690571\n",
      "Recall Score: 0.6454142552485695\n",
      "Accuracy Score: 0.89942220465624\n",
      "F1 Score: 0.6745238183119099\n",
      "---------------------------\n",
      "Results for test_split 0.32291666666666663\n",
      "Precision Score: 0.7304534555248982\n",
      "Recall Score: 0.6387331845047244\n",
      "Accuracy Score: 0.8996247996502987\n",
      "F1 Score: 0.668743412460683\n",
      "---------------------------\n",
      "Results for test_split 0.3333333333333333\n",
      "Precision Score: 0.7347118087398474\n",
      "Recall Score: 0.6479835689819032\n",
      "Accuracy Score: 0.901155712395236\n",
      "F1 Score: 0.6776930419943882\n",
      "---------------------------\n",
      "Results for test_split 0.34375\n",
      "Precision Score: 0.7258862355944236\n",
      "Recall Score: 0.6429382350090386\n",
      "Accuracy Score: 0.9000615953187557\n",
      "F1 Score: 0.6713946954494692\n",
      "---------------------------\n",
      "Results for test_split 0.35416666666666663\n",
      "Precision Score: 0.7270985033419295\n",
      "Recall Score: 0.644729697447969\n",
      "Accuracy Score: 0.8993307537738512\n",
      "F1 Score: 0.6731352962007396\n",
      "---------------------------\n",
      "Results for test_split 0.3645833333333333\n",
      "Precision Score: 0.7301310950789194\n",
      "Recall Score: 0.641564353681866\n",
      "Accuracy Score: 0.9010292314641544\n",
      "F1 Score: 0.6712177260956134\n",
      "---------------------------\n",
      "Results for test_split 0.375\n",
      "Precision Score: 0.729355362434161\n",
      "Recall Score: 0.64716539946257\n",
      "Accuracy Score: 0.899669066327891\n",
      "F1 Score: 0.6757030245082252\n",
      "---------------------------\n",
      "Results for test_split 0.38541666666666663\n",
      "Precision Score: 0.724815265406202\n",
      "Recall Score: 0.6397887622435295\n",
      "Accuracy Score: 0.8997863573935602\n",
      "F1 Score: 0.6684732857791303\n",
      "---------------------------\n",
      "Results for test_split 0.3958333333333333\n",
      "Precision Score: 0.732678692078069\n",
      "Recall Score: 0.6443392772645468\n",
      "Accuracy Score: 0.8997488893181379\n",
      "F1 Score: 0.6740743235555762\n",
      "---------------------------\n",
      "Results for test_split 0.40625\n",
      "Precision Score: 0.7235846504234942\n",
      "Recall Score: 0.6378914753589754\n",
      "Accuracy Score: 0.8988302061616864\n",
      "F1 Score: 0.6665269411431751\n",
      "---------------------------\n",
      "Results for test_split 0.41666666666666663\n",
      "Precision Score: 0.7261934241657217\n",
      "Recall Score: 0.6451489700364282\n",
      "Accuracy Score: 0.9009782194429936\n",
      "F1 Score: 0.673357021151197\n",
      "---------------------------\n",
      "Results for test_split 0.4270833333333333\n",
      "Precision Score: 0.7301862649864465\n",
      "Recall Score: 0.6411338981826352\n",
      "Accuracy Score: 0.9005425950918555\n",
      "F1 Score: 0.6708308235478323\n",
      "---------------------------\n",
      "Results for test_split 0.4375\n",
      "Precision Score: 0.7303465000250269\n",
      "Recall Score: 0.6433469350101163\n",
      "Accuracy Score: 0.8999542924743903\n",
      "F1 Score: 0.6727296636644142\n",
      "---------------------------\n",
      "Results for test_split 0.44791666666666663\n",
      "Precision Score: 0.732307586592877\n",
      "Recall Score: 0.6402510213591418\n",
      "Accuracy Score: 0.9011384377010649\n",
      "F1 Score: 0.6705463343916889\n",
      "---------------------------\n",
      "Results for test_split 0.4583333333333333\n",
      "Precision Score: 0.7281076464977059\n",
      "Recall Score: 0.6402775924092992\n",
      "Accuracy Score: 0.8986372035725285\n",
      "F1 Score: 0.6695388517005294\n",
      "---------------------------\n",
      "Results for test_split 0.46875\n",
      "Precision Score: 0.7263913740896862\n",
      "Recall Score: 0.641253103326087\n",
      "Accuracy Score: 0.9005131808429215\n",
      "F1 Score: 0.6701071113578689\n",
      "---------------------------\n",
      "Results for test_split 0.47916666666666663\n",
      "Precision Score: 0.7318171169908214\n",
      "Recall Score: 0.6413792365350538\n",
      "Accuracy Score: 0.900171842395974\n",
      "F1 Score: 0.6713668777762913\n",
      "---------------------------\n",
      "Results for test_split 0.4895833333333333\n",
      "Precision Score: 0.7281605957067061\n",
      "Recall Score: 0.6401890482690322\n",
      "Accuracy Score: 0.8994606023474009\n",
      "F1 Score: 0.6695212013555749\n",
      "---------------------------\n",
      "Results for test_split 0.5\n",
      "Precision Score: 0.7314308838531212\n",
      "Recall Score: 0.6428166725848432\n",
      "Accuracy Score: 0.9003434809203407\n",
      "F1 Score: 0.672534127523946\n",
      "---------------------------\n"
     ]
    }
   ],
   "source": [
    "best_recall = 0\n",
    "best_split = 0\n",
    "test_range = np.linspace(.25, .5, 25)\n",
    "    \n",
    "for val in test_range:\n",
    "    X_train, X_test, y_train, y_test = train_test_split(X_dummies, y, test_size=val)\n",
    "    smote = SMOTE(n_jobs=3)\n",
    "    X_train_resampled, y_train_resampled = smote.fit_sample(X_train, y_train)\n",
    "    xgboost.fit(X_train_resampled, y_train_resampled)\n",
    "    preds = xgboost.predict(X_test)\n",
    "    rec = recall_score(y_test, preds, average='macro')\n",
    "    print(f'Results for test_split {val}')\n",
    "    print_metrics(y_test, preds)\n",
    "    print('---------------------------')\n",
    "            "
   ]
  },
  {
   "cell_type": "markdown",
   "metadata": {},
   "source": [
    "Unfortuneatly, it looks like changing our test split won't help matters here. The underlying issue appears to be with our data and a lack of needed features or Driver Error being too inclusive of a meta category."
   ]
  },
  {
   "cell_type": "code",
   "execution_count": 173,
   "metadata": {
    "ExecuteTime": {
     "end_time": "2020-07-09T12:16:30.617848Z",
     "start_time": "2020-07-09T12:16:30.614375Z"
    }
   },
   "outputs": [],
   "source": [
    "params = {'max_depth': [2, 3, 4], \n",
    "          'learning_rate' : [.05, .1, .5],\n",
    "          'n_estimators' : [100, 200, 500],\n",
    "          'reg_alpha': [0, 1, 5, 10]}\n",
    "clf = GridSearchCV(xgboost, params)"
   ]
  },
  {
   "cell_type": "code",
   "execution_count": 174,
   "metadata": {
    "ExecuteTime": {
     "end_time": "2020-07-09T15:00:58.945922Z",
     "start_time": "2020-07-09T12:16:31.682759Z"
    }
   },
   "outputs": [
    {
     "data": {
      "text/plain": [
       "GridSearchCV(estimator=XGBClassifier(n_jobs=4),\n",
       "             param_grid={'learning_rate': [0.05, 0.1, 0.5],\n",
       "                         'max_depth': [2, 3, 4],\n",
       "                         'n_estimators': [100, 200, 500],\n",
       "                         'reg_alpha': [0, 1, 5, 10]})"
      ]
     },
     "execution_count": 174,
     "metadata": {},
     "output_type": "execute_result"
    }
   ],
   "source": [
    "clf.fit(X_train_resampled, y_train_resampled)"
   ]
  },
  {
   "cell_type": "code",
   "execution_count": 177,
   "metadata": {
    "ExecuteTime": {
     "end_time": "2020-07-09T15:02:20.940160Z",
     "start_time": "2020-07-09T15:02:20.936193Z"
    }
   },
   "outputs": [
    {
     "data": {
      "text/plain": [
       "XGBClassifier(learning_rate=0.5, max_depth=2, n_estimators=500, n_jobs=4,\n",
       "              reg_alpha=5)"
      ]
     },
     "execution_count": 177,
     "metadata": {},
     "output_type": "execute_result"
    }
   ],
   "source": [
    "clf.best_estimator_"
   ]
  },
  {
   "cell_type": "code",
   "execution_count": 178,
   "metadata": {
    "ExecuteTime": {
     "end_time": "2020-07-09T15:08:08.316662Z",
     "start_time": "2020-07-09T15:08:08.312694Z"
    }
   },
   "outputs": [
    {
     "data": {
      "text/plain": [
       "0.9331878789124483"
      ]
     },
     "execution_count": 178,
     "metadata": {},
     "output_type": "execute_result"
    }
   ],
   "source": [
    "clf.best_score_\n"
   ]
  },
  {
   "cell_type": "code",
   "execution_count": 237,
   "metadata": {
    "ExecuteTime": {
     "end_time": "2020-07-09T16:02:48.032631Z",
     "start_time": "2020-07-09T16:02:47.887302Z"
    }
   },
   "outputs": [
    {
     "ename": "ValueError",
     "evalue": "feature_names mismatch: ['POSTED_SPEED_LIMIT', 'HIT_AND_RUN_I', 'BEAT_OF_OCCURRENCE', 'NUM_UNITS', 'INJURIES_TOTAL', 'INJURIES_FATAL', 'INJURIES_INCAPACITATING', 'INJURIES_NON_INCAPACITATING', 'INJURIES_REPORTED_NOT_EVIDENT', 'INJURIES_NO_INDICATION', 'CRASH_HOUR', 'CRASH_DAY_OF_WEEK', 'CRASH_MONTH', 'LATITUDE', 'LONGITUDE', 'TRAFFIC_CONTROL_PRESENT', 'STRAIGHT_ROAD', 'LEVEL_ROAD', 'TIME_BEFORE_NOTIFICATION', 'TOTAL_PEOPLE_INVOLVED', 'DRY_ROAD', 'CLEAR_WEATHER', 'TRAFFIC_CONTROL_DEVICE_FLASHING CONTROL SIGNAL', 'TRAFFIC_CONTROL_DEVICE_NO PASSING', 'TRAFFIC_CONTROL_DEVICE_SCHOOL ZONE', 'TRAFFIC_CONTROL_DEVICE_STOP SIGN/FLASHER', 'DEVICE_CONDITION_FUNCTIONING IMPROPERLY', 'DEVICE_CONDITION_MISSING', 'WEATHER_CONDITION_CLEAR', 'WEATHER_CONDITION_CLOUDY/OVERCAST', 'WEATHER_CONDITION_FREEZING RAIN/DRIZZLE', 'WEATHER_CONDITION_OTHER', 'WEATHER_CONDITION_RAIN', 'WEATHER_CONDITION_SEVERE CROSS WIND GATE', 'WEATHER_CONDITION_SLEET/HAIL', 'WEATHER_CONDITION_UNKNOWN', 'LIGHTING_CONDITION_DARKNESS', 'LIGHTING_CONDITION_DARKNESS, LIGHTED ROAD', 'LIGHTING_CONDITION_DAWN', 'LIGHTING_CONDITION_DAYLIGHT', 'LIGHTING_CONDITION_DUSK', 'LIGHTING_CONDITION_UNKNOWN', 'FIRST_CRASH_TYPE_ANGLE', 'FIRST_CRASH_TYPE_ANIMAL', 'FIRST_CRASH_TYPE_FIXED OBJECT', 'FIRST_CRASH_TYPE_HEAD ON', 'FIRST_CRASH_TYPE_OTHER NONCOLLISION', 'FIRST_CRASH_TYPE_OVERTURNED', 'FIRST_CRASH_TYPE_PARKED MOTOR VEHICLE', 'FIRST_CRASH_TYPE_PEDALCYCLIST', 'FIRST_CRASH_TYPE_PEDESTRIAN', 'FIRST_CRASH_TYPE_REAR TO REAR', 'FIRST_CRASH_TYPE_REAR TO SIDE', 'FIRST_CRASH_TYPE_SIDESWIPE OPPOSITE DIRECTION', 'FIRST_CRASH_TYPE_TRAIN', 'FIRST_CRASH_TYPE_TURNING', 'TRAFFICWAY_TYPE_ALLEY', 'TRAFFICWAY_TYPE_CENTER TURN LANE', 'TRAFFICWAY_TYPE_DIVIDED - W/MEDIAN (NOT RAISED)', 'TRAFFICWAY_TYPE_L-INTERSECTION', 'TRAFFICWAY_TYPE_NOT REPORTED', 'TRAFFICWAY_TYPE_ONE-WAY', 'TRAFFICWAY_TYPE_OTHER', 'ROADWAY_SURFACE_COND_DRY', 'ROADWAY_SURFACE_COND_ICE', 'ROADWAY_SURFACE_COND_SAND, MUD, DIRT', 'ROADWAY_SURFACE_COND_SNOW OR SLUSH', 'ROADWAY_SURFACE_COND_UNKNOWN', 'ROADWAY_SURFACE_COND_WET', 'ROAD_DEFECT_DEBRIS ON ROADWAY', 'ROAD_DEFECT_NO DEFECTS', 'ROAD_DEFECT_OTHER', 'ROAD_DEFECT_RUT, HOLES', 'ROAD_DEFECT_SHOULDER DEFECT', 'ROAD_DEFECT_UNKNOWN', 'ROAD_DEFECT_WORN SURFACE', 'REPORT_TYPE_NOT ON SCENE (DESK REPORT)', 'REPORT_TYPE_ON SCENE', 'CRASH_TYPE_INJURY AND / OR TOW DUE TO CRASH', 'CRASH_TYPE_NO INJURY / DRIVE AWAY', 'DAMAGE_$500 OR LESS', 'DAMAGE_$501 - $1,500', 'DAMAGE_OVER $1,500', 'STREET_DIRECTION_E', 'STREET_DIRECTION_N', 'STREET_DIRECTION_S', 'STREET_DIRECTION_W', 'STREET_TYPE_AVE', 'STREET_TYPE_CT', 'STREET_TYPE_Other', 'STREET_TYPE_PL', 'STREET_TYPE_RD', 'STREET_TYPE_SB', 'STREET_TYPE_W', 'LANE_TYPE_intersection', 'LANE_TYPE_large', 'LANE_TYPE_medium', 'LANE_TYPE_small'] ['POSTED_SPEED_LIMIT', 'HIT_AND_RUN_I', 'BEAT_OF_OCCURRENCE', 'NUM_UNITS', 'INJURIES_TOTAL', 'INJURIES_FATAL', 'INJURIES_NON_INCAPACITATING', 'INJURIES_NO_INDICATION', 'CRASH_HOUR', 'CRASH_DAY_OF_WEEK', 'CRASH_MONTH', 'LATITUDE', 'LONGITUDE', 'TRAFFIC_CONTROL_PRESENT', 'STRAIGHT_ROAD', 'TIME_BEFORE_NOTIFICATION', 'TOTAL_PEOPLE_INVOLVED', 'DRY_ROAD', 'CLEAR_WEATHER', 'TRAFFIC_CONTROL_DEVICE_STOP SIGN/FLASHER', 'TRAFFIC_CONTROL_DEVICE_TRAFFIC SIGNAL', 'DEVICE_CONDITION_FUNCTIONING PROPERLY', 'DEVICE_CONDITION_NO CONTROLS', 'WEATHER_CONDITION_CLOUDY/OVERCAST', 'WEATHER_CONDITION_OTHER', 'WEATHER_CONDITION_RAIN', 'WEATHER_CONDITION_SNOW', 'WEATHER_CONDITION_UNKNOWN', 'LIGHTING_CONDITION_DARKNESS', 'LIGHTING_CONDITION_DARKNESS, LIGHTED ROAD', 'LIGHTING_CONDITION_DAYLIGHT', 'FIRST_CRASH_TYPE_ANGLE', 'FIRST_CRASH_TYPE_ANIMAL', 'FIRST_CRASH_TYPE_FIXED OBJECT', 'FIRST_CRASH_TYPE_OTHER NONCOLLISION', 'FIRST_CRASH_TYPE_PARKED MOTOR VEHICLE', 'FIRST_CRASH_TYPE_PEDALCYCLIST', 'FIRST_CRASH_TYPE_REAR END', 'FIRST_CRASH_TYPE_SIDESWIPE SAME DIRECTION', 'FIRST_CRASH_TYPE_TURNING', 'TRAFFICWAY_TYPE_ALLEY', 'TRAFFICWAY_TYPE_DIVIDED - W/MEDIAN (NOT RAISED)', 'TRAFFICWAY_TYPE_DIVIDED - W/MEDIAN BARRIER', 'TRAFFICWAY_TYPE_FOUR WAY', 'TRAFFICWAY_TYPE_NOT DIVIDED', 'TRAFFICWAY_TYPE_ONE-WAY', 'TRAFFICWAY_TYPE_OTHER', 'TRAFFICWAY_TYPE_PARKING LOT', 'ROADWAY_SURFACE_COND_SNOW OR SLUSH', 'ROADWAY_SURFACE_COND_UNKNOWN', 'ROADWAY_SURFACE_COND_WET', 'ROAD_DEFECT_NO DEFECTS', 'ROAD_DEFECT_OTHER', 'ROAD_DEFECT_RUT, HOLES', 'ROAD_DEFECT_UNKNOWN', 'ROAD_DEFECT_WORN SURFACE', 'REPORT_TYPE_NOT ON SCENE (DESK REPORT)', 'REPORT_TYPE_ON SCENE', 'CRASH_TYPE_INJURY AND / OR TOW DUE TO CRASH', 'CRASH_TYPE_NO INJURY / DRIVE AWAY', 'DAMAGE_$500 OR LESS', 'DAMAGE_$501 - $1,500', 'DAMAGE_OVER $1,500', 'STREET_DIRECTION_E', 'STREET_DIRECTION_N', 'STREET_DIRECTION_S', 'STREET_DIRECTION_W', 'STREET_TYPE_AVE', 'STREET_TYPE_BLVD', 'STREET_TYPE_DR', 'STREET_TYPE_RD', 'STREET_TYPE_ST', 'LANE_TYPE_large', 'LANE_TYPE_medium', 'LANE_TYPE_small']\nexpected FIRST_CRASH_TYPE_HEAD ON, LIGHTING_CONDITION_DUSK, FIRST_CRASH_TYPE_REAR TO SIDE, FIRST_CRASH_TYPE_TRAIN, DEVICE_CONDITION_FUNCTIONING IMPROPERLY, ROAD_DEFECT_DEBRIS ON ROADWAY, WEATHER_CONDITION_CLEAR, INJURIES_INCAPACITATING, TRAFFICWAY_TYPE_NOT REPORTED, ROADWAY_SURFACE_COND_DRY, FIRST_CRASH_TYPE_SIDESWIPE OPPOSITE DIRECTION, STREET_TYPE_Other, FIRST_CRASH_TYPE_PEDESTRIAN, LIGHTING_CONDITION_UNKNOWN, STREET_TYPE_SB, LIGHTING_CONDITION_DAWN, LEVEL_ROAD, ROAD_DEFECT_SHOULDER DEFECT, WEATHER_CONDITION_FREEZING RAIN/DRIZZLE, TRAFFICWAY_TYPE_CENTER TURN LANE, WEATHER_CONDITION_SEVERE CROSS WIND GATE, STREET_TYPE_W, ROADWAY_SURFACE_COND_ICE, STREET_TYPE_PL, TRAFFIC_CONTROL_DEVICE_FLASHING CONTROL SIGNAL, WEATHER_CONDITION_SLEET/HAIL, FIRST_CRASH_TYPE_REAR TO REAR, STREET_TYPE_CT, TRAFFIC_CONTROL_DEVICE_NO PASSING, INJURIES_REPORTED_NOT_EVIDENT, LANE_TYPE_intersection, ROADWAY_SURFACE_COND_SAND, MUD, DIRT, FIRST_CRASH_TYPE_OVERTURNED, DEVICE_CONDITION_MISSING, TRAFFICWAY_TYPE_L-INTERSECTION, TRAFFIC_CONTROL_DEVICE_SCHOOL ZONE in input data\ntraining data did not have the following fields: TRAFFIC_CONTROL_DEVICE_TRAFFIC SIGNAL, TRAFFICWAY_TYPE_PARKING LOT, DEVICE_CONDITION_NO CONTROLS, WEATHER_CONDITION_SNOW, FIRST_CRASH_TYPE_SIDESWIPE SAME DIRECTION, DEVICE_CONDITION_FUNCTIONING PROPERLY, STREET_TYPE_DR, STREET_TYPE_BLVD, TRAFFICWAY_TYPE_DIVIDED - W/MEDIAN BARRIER, STREET_TYPE_ST, FIRST_CRASH_TYPE_REAR END, TRAFFICWAY_TYPE_FOUR WAY, TRAFFICWAY_TYPE_NOT DIVIDED",
     "output_type": "error",
     "traceback": [
      "\u001b[1;31m---------------------------------------------------------------------------\u001b[0m",
      "\u001b[1;31mValueError\u001b[0m                                Traceback (most recent call last)",
      "\u001b[1;32m<ipython-input-237-ec6403934073>\u001b[0m in \u001b[0;36m<module>\u001b[1;34m\u001b[0m\n\u001b[1;32m----> 1\u001b[1;33m \u001b[0mplot_confusion_matrix\u001b[0m\u001b[1;33m(\u001b[0m\u001b[0mclf\u001b[0m\u001b[1;33m,\u001b[0m \u001b[0mX_test\u001b[0m\u001b[1;33m,\u001b[0m \u001b[0my_test\u001b[0m\u001b[1;33m,\u001b[0m \u001b[0mnormalize\u001b[0m\u001b[1;33m=\u001b[0m\u001b[1;34m'true'\u001b[0m\u001b[1;33m)\u001b[0m\u001b[1;33m\u001b[0m\u001b[1;33m\u001b[0m\u001b[0m\n\u001b[0m",
      "\u001b[1;32m~\\anaconda3\\envs\\learn-env\\lib\\site-packages\\sklearn\\utils\\validation.py\u001b[0m in \u001b[0;36minner_f\u001b[1;34m(*args, **kwargs)\u001b[0m\n\u001b[0;32m     71\u001b[0m                           FutureWarning)\n\u001b[0;32m     72\u001b[0m         \u001b[0mkwargs\u001b[0m\u001b[1;33m.\u001b[0m\u001b[0mupdate\u001b[0m\u001b[1;33m(\u001b[0m\u001b[1;33m{\u001b[0m\u001b[0mk\u001b[0m\u001b[1;33m:\u001b[0m \u001b[0marg\u001b[0m \u001b[1;32mfor\u001b[0m \u001b[0mk\u001b[0m\u001b[1;33m,\u001b[0m \u001b[0marg\u001b[0m \u001b[1;32min\u001b[0m \u001b[0mzip\u001b[0m\u001b[1;33m(\u001b[0m\u001b[0msig\u001b[0m\u001b[1;33m.\u001b[0m\u001b[0mparameters\u001b[0m\u001b[1;33m,\u001b[0m \u001b[0margs\u001b[0m\u001b[1;33m)\u001b[0m\u001b[1;33m}\u001b[0m\u001b[1;33m)\u001b[0m\u001b[1;33m\u001b[0m\u001b[1;33m\u001b[0m\u001b[0m\n\u001b[1;32m---> 73\u001b[1;33m         \u001b[1;32mreturn\u001b[0m \u001b[0mf\u001b[0m\u001b[1;33m(\u001b[0m\u001b[1;33m**\u001b[0m\u001b[0mkwargs\u001b[0m\u001b[1;33m)\u001b[0m\u001b[1;33m\u001b[0m\u001b[1;33m\u001b[0m\u001b[0m\n\u001b[0m\u001b[0;32m     74\u001b[0m     \u001b[1;32mreturn\u001b[0m \u001b[0minner_f\u001b[0m\u001b[1;33m\u001b[0m\u001b[1;33m\u001b[0m\u001b[0m\n\u001b[0;32m     75\u001b[0m \u001b[1;33m\u001b[0m\u001b[0m\n",
      "\u001b[1;32m~\\anaconda3\\envs\\learn-env\\lib\\site-packages\\sklearn\\metrics\\_plot\\confusion_matrix.py\u001b[0m in \u001b[0;36mplot_confusion_matrix\u001b[1;34m(estimator, X, y_true, labels, sample_weight, normalize, display_labels, include_values, xticks_rotation, values_format, cmap, ax)\u001b[0m\n\u001b[0;32m    217\u001b[0m         \u001b[1;32mraise\u001b[0m \u001b[0mValueError\u001b[0m\u001b[1;33m(\u001b[0m\u001b[1;34m\"plot_confusion_matrix only supports classifiers\"\u001b[0m\u001b[1;33m)\u001b[0m\u001b[1;33m\u001b[0m\u001b[1;33m\u001b[0m\u001b[0m\n\u001b[0;32m    218\u001b[0m \u001b[1;33m\u001b[0m\u001b[0m\n\u001b[1;32m--> 219\u001b[1;33m     \u001b[0my_pred\u001b[0m \u001b[1;33m=\u001b[0m \u001b[0mestimator\u001b[0m\u001b[1;33m.\u001b[0m\u001b[0mpredict\u001b[0m\u001b[1;33m(\u001b[0m\u001b[0mX\u001b[0m\u001b[1;33m)\u001b[0m\u001b[1;33m\u001b[0m\u001b[1;33m\u001b[0m\u001b[0m\n\u001b[0m\u001b[0;32m    220\u001b[0m     cm = confusion_matrix(y_true, y_pred, sample_weight=sample_weight,\n\u001b[0;32m    221\u001b[0m                           labels=labels, normalize=normalize)\n",
      "\u001b[1;32m~\\anaconda3\\envs\\learn-env\\lib\\site-packages\\sklearn\\utils\\metaestimators.py\u001b[0m in \u001b[0;36m<lambda>\u001b[1;34m(*args, **kwargs)\u001b[0m\n\u001b[0;32m    117\u001b[0m \u001b[1;33m\u001b[0m\u001b[0m\n\u001b[0;32m    118\u001b[0m         \u001b[1;31m# lambda, but not partial, allows help() to work with update_wrapper\u001b[0m\u001b[1;33m\u001b[0m\u001b[1;33m\u001b[0m\u001b[1;33m\u001b[0m\u001b[0m\n\u001b[1;32m--> 119\u001b[1;33m         \u001b[0mout\u001b[0m \u001b[1;33m=\u001b[0m \u001b[1;32mlambda\u001b[0m \u001b[1;33m*\u001b[0m\u001b[0margs\u001b[0m\u001b[1;33m,\u001b[0m \u001b[1;33m**\u001b[0m\u001b[0mkwargs\u001b[0m\u001b[1;33m:\u001b[0m \u001b[0mself\u001b[0m\u001b[1;33m.\u001b[0m\u001b[0mfn\u001b[0m\u001b[1;33m(\u001b[0m\u001b[0mobj\u001b[0m\u001b[1;33m,\u001b[0m \u001b[1;33m*\u001b[0m\u001b[0margs\u001b[0m\u001b[1;33m,\u001b[0m \u001b[1;33m**\u001b[0m\u001b[0mkwargs\u001b[0m\u001b[1;33m)\u001b[0m\u001b[1;33m\u001b[0m\u001b[1;33m\u001b[0m\u001b[0m\n\u001b[0m\u001b[0;32m    120\u001b[0m         \u001b[1;31m# update the docstring of the returned function\u001b[0m\u001b[1;33m\u001b[0m\u001b[1;33m\u001b[0m\u001b[1;33m\u001b[0m\u001b[0m\n\u001b[0;32m    121\u001b[0m         \u001b[0mupdate_wrapper\u001b[0m\u001b[1;33m(\u001b[0m\u001b[0mout\u001b[0m\u001b[1;33m,\u001b[0m \u001b[0mself\u001b[0m\u001b[1;33m.\u001b[0m\u001b[0mfn\u001b[0m\u001b[1;33m)\u001b[0m\u001b[1;33m\u001b[0m\u001b[1;33m\u001b[0m\u001b[0m\n",
      "\u001b[1;32m~\\anaconda3\\envs\\learn-env\\lib\\site-packages\\sklearn\\model_selection\\_search.py\u001b[0m in \u001b[0;36mpredict\u001b[1;34m(self, X)\u001b[0m\n\u001b[0;32m    485\u001b[0m         \"\"\"\n\u001b[0;32m    486\u001b[0m         \u001b[0mself\u001b[0m\u001b[1;33m.\u001b[0m\u001b[0m_check_is_fitted\u001b[0m\u001b[1;33m(\u001b[0m\u001b[1;34m'predict'\u001b[0m\u001b[1;33m)\u001b[0m\u001b[1;33m\u001b[0m\u001b[1;33m\u001b[0m\u001b[0m\n\u001b[1;32m--> 487\u001b[1;33m         \u001b[1;32mreturn\u001b[0m \u001b[0mself\u001b[0m\u001b[1;33m.\u001b[0m\u001b[0mbest_estimator_\u001b[0m\u001b[1;33m.\u001b[0m\u001b[0mpredict\u001b[0m\u001b[1;33m(\u001b[0m\u001b[0mX\u001b[0m\u001b[1;33m)\u001b[0m\u001b[1;33m\u001b[0m\u001b[1;33m\u001b[0m\u001b[0m\n\u001b[0m\u001b[0;32m    488\u001b[0m \u001b[1;33m\u001b[0m\u001b[0m\n\u001b[0;32m    489\u001b[0m     \u001b[1;33m@\u001b[0m\u001b[0mif_delegate_has_method\u001b[0m\u001b[1;33m(\u001b[0m\u001b[0mdelegate\u001b[0m\u001b[1;33m=\u001b[0m\u001b[1;33m(\u001b[0m\u001b[1;34m'best_estimator_'\u001b[0m\u001b[1;33m,\u001b[0m \u001b[1;34m'estimator'\u001b[0m\u001b[1;33m)\u001b[0m\u001b[1;33m)\u001b[0m\u001b[1;33m\u001b[0m\u001b[1;33m\u001b[0m\u001b[0m\n",
      "\u001b[1;32m~\\anaconda3\\envs\\learn-env\\lib\\site-packages\\xgboost\\sklearn.py\u001b[0m in \u001b[0;36mpredict\u001b[1;34m(self, data, output_margin, ntree_limit, validate_features)\u001b[0m\n\u001b[0;32m    789\u001b[0m                                                  \u001b[0moutput_margin\u001b[0m\u001b[1;33m=\u001b[0m\u001b[0moutput_margin\u001b[0m\u001b[1;33m,\u001b[0m\u001b[1;33m\u001b[0m\u001b[1;33m\u001b[0m\u001b[0m\n\u001b[0;32m    790\u001b[0m                                                  \u001b[0mntree_limit\u001b[0m\u001b[1;33m=\u001b[0m\u001b[0mntree_limit\u001b[0m\u001b[1;33m,\u001b[0m\u001b[1;33m\u001b[0m\u001b[1;33m\u001b[0m\u001b[0m\n\u001b[1;32m--> 791\u001b[1;33m                                                  validate_features=validate_features)\n\u001b[0m\u001b[0;32m    792\u001b[0m         \u001b[1;32mif\u001b[0m \u001b[0moutput_margin\u001b[0m\u001b[1;33m:\u001b[0m\u001b[1;33m\u001b[0m\u001b[1;33m\u001b[0m\u001b[0m\n\u001b[0;32m    793\u001b[0m             \u001b[1;31m# If output_margin is active, simply return the scores\u001b[0m\u001b[1;33m\u001b[0m\u001b[1;33m\u001b[0m\u001b[1;33m\u001b[0m\u001b[0m\n",
      "\u001b[1;32m~\\anaconda3\\envs\\learn-env\\lib\\site-packages\\xgboost\\core.py\u001b[0m in \u001b[0;36mpredict\u001b[1;34m(self, data, output_margin, ntree_limit, pred_leaf, pred_contribs, approx_contribs, pred_interactions, validate_features)\u001b[0m\n\u001b[0;32m   1282\u001b[0m \u001b[1;33m\u001b[0m\u001b[0m\n\u001b[0;32m   1283\u001b[0m         \u001b[1;32mif\u001b[0m \u001b[0mvalidate_features\u001b[0m\u001b[1;33m:\u001b[0m\u001b[1;33m\u001b[0m\u001b[1;33m\u001b[0m\u001b[0m\n\u001b[1;32m-> 1284\u001b[1;33m             \u001b[0mself\u001b[0m\u001b[1;33m.\u001b[0m\u001b[0m_validate_features\u001b[0m\u001b[1;33m(\u001b[0m\u001b[0mdata\u001b[0m\u001b[1;33m)\u001b[0m\u001b[1;33m\u001b[0m\u001b[1;33m\u001b[0m\u001b[0m\n\u001b[0m\u001b[0;32m   1285\u001b[0m \u001b[1;33m\u001b[0m\u001b[0m\n\u001b[0;32m   1286\u001b[0m         \u001b[0mlength\u001b[0m \u001b[1;33m=\u001b[0m \u001b[0mc_bst_ulong\u001b[0m\u001b[1;33m(\u001b[0m\u001b[1;33m)\u001b[0m\u001b[1;33m\u001b[0m\u001b[1;33m\u001b[0m\u001b[0m\n",
      "\u001b[1;32m~\\anaconda3\\envs\\learn-env\\lib\\site-packages\\xgboost\\core.py\u001b[0m in \u001b[0;36m_validate_features\u001b[1;34m(self, data)\u001b[0m\n\u001b[0;32m   1688\u001b[0m \u001b[1;33m\u001b[0m\u001b[0m\n\u001b[0;32m   1689\u001b[0m                 raise ValueError(msg.format(self.feature_names,\n\u001b[1;32m-> 1690\u001b[1;33m                                             data.feature_names))\n\u001b[0m\u001b[0;32m   1691\u001b[0m \u001b[1;33m\u001b[0m\u001b[0m\n\u001b[0;32m   1692\u001b[0m     \u001b[1;32mdef\u001b[0m \u001b[0mget_split_value_histogram\u001b[0m\u001b[1;33m(\u001b[0m\u001b[0mself\u001b[0m\u001b[1;33m,\u001b[0m \u001b[0mfeature\u001b[0m\u001b[1;33m,\u001b[0m \u001b[0mfmap\u001b[0m\u001b[1;33m=\u001b[0m\u001b[1;34m''\u001b[0m\u001b[1;33m,\u001b[0m \u001b[0mbins\u001b[0m\u001b[1;33m=\u001b[0m\u001b[1;32mNone\u001b[0m\u001b[1;33m,\u001b[0m \u001b[0mas_pandas\u001b[0m\u001b[1;33m=\u001b[0m\u001b[1;32mTrue\u001b[0m\u001b[1;33m)\u001b[0m\u001b[1;33m:\u001b[0m\u001b[1;33m\u001b[0m\u001b[1;33m\u001b[0m\u001b[0m\n",
      "\u001b[1;31mValueError\u001b[0m: feature_names mismatch: ['POSTED_SPEED_LIMIT', 'HIT_AND_RUN_I', 'BEAT_OF_OCCURRENCE', 'NUM_UNITS', 'INJURIES_TOTAL', 'INJURIES_FATAL', 'INJURIES_INCAPACITATING', 'INJURIES_NON_INCAPACITATING', 'INJURIES_REPORTED_NOT_EVIDENT', 'INJURIES_NO_INDICATION', 'CRASH_HOUR', 'CRASH_DAY_OF_WEEK', 'CRASH_MONTH', 'LATITUDE', 'LONGITUDE', 'TRAFFIC_CONTROL_PRESENT', 'STRAIGHT_ROAD', 'LEVEL_ROAD', 'TIME_BEFORE_NOTIFICATION', 'TOTAL_PEOPLE_INVOLVED', 'DRY_ROAD', 'CLEAR_WEATHER', 'TRAFFIC_CONTROL_DEVICE_FLASHING CONTROL SIGNAL', 'TRAFFIC_CONTROL_DEVICE_NO PASSING', 'TRAFFIC_CONTROL_DEVICE_SCHOOL ZONE', 'TRAFFIC_CONTROL_DEVICE_STOP SIGN/FLASHER', 'DEVICE_CONDITION_FUNCTIONING IMPROPERLY', 'DEVICE_CONDITION_MISSING', 'WEATHER_CONDITION_CLEAR', 'WEATHER_CONDITION_CLOUDY/OVERCAST', 'WEATHER_CONDITION_FREEZING RAIN/DRIZZLE', 'WEATHER_CONDITION_OTHER', 'WEATHER_CONDITION_RAIN', 'WEATHER_CONDITION_SEVERE CROSS WIND GATE', 'WEATHER_CONDITION_SLEET/HAIL', 'WEATHER_CONDITION_UNKNOWN', 'LIGHTING_CONDITION_DARKNESS', 'LIGHTING_CONDITION_DARKNESS, LIGHTED ROAD', 'LIGHTING_CONDITION_DAWN', 'LIGHTING_CONDITION_DAYLIGHT', 'LIGHTING_CONDITION_DUSK', 'LIGHTING_CONDITION_UNKNOWN', 'FIRST_CRASH_TYPE_ANGLE', 'FIRST_CRASH_TYPE_ANIMAL', 'FIRST_CRASH_TYPE_FIXED OBJECT', 'FIRST_CRASH_TYPE_HEAD ON', 'FIRST_CRASH_TYPE_OTHER NONCOLLISION', 'FIRST_CRASH_TYPE_OVERTURNED', 'FIRST_CRASH_TYPE_PARKED MOTOR VEHICLE', 'FIRST_CRASH_TYPE_PEDALCYCLIST', 'FIRST_CRASH_TYPE_PEDESTRIAN', 'FIRST_CRASH_TYPE_REAR TO REAR', 'FIRST_CRASH_TYPE_REAR TO SIDE', 'FIRST_CRASH_TYPE_SIDESWIPE OPPOSITE DIRECTION', 'FIRST_CRASH_TYPE_TRAIN', 'FIRST_CRASH_TYPE_TURNING', 'TRAFFICWAY_TYPE_ALLEY', 'TRAFFICWAY_TYPE_CENTER TURN LANE', 'TRAFFICWAY_TYPE_DIVIDED - W/MEDIAN (NOT RAISED)', 'TRAFFICWAY_TYPE_L-INTERSECTION', 'TRAFFICWAY_TYPE_NOT REPORTED', 'TRAFFICWAY_TYPE_ONE-WAY', 'TRAFFICWAY_TYPE_OTHER', 'ROADWAY_SURFACE_COND_DRY', 'ROADWAY_SURFACE_COND_ICE', 'ROADWAY_SURFACE_COND_SAND, MUD, DIRT', 'ROADWAY_SURFACE_COND_SNOW OR SLUSH', 'ROADWAY_SURFACE_COND_UNKNOWN', 'ROADWAY_SURFACE_COND_WET', 'ROAD_DEFECT_DEBRIS ON ROADWAY', 'ROAD_DEFECT_NO DEFECTS', 'ROAD_DEFECT_OTHER', 'ROAD_DEFECT_RUT, HOLES', 'ROAD_DEFECT_SHOULDER DEFECT', 'ROAD_DEFECT_UNKNOWN', 'ROAD_DEFECT_WORN SURFACE', 'REPORT_TYPE_NOT ON SCENE (DESK REPORT)', 'REPORT_TYPE_ON SCENE', 'CRASH_TYPE_INJURY AND / OR TOW DUE TO CRASH', 'CRASH_TYPE_NO INJURY / DRIVE AWAY', 'DAMAGE_$500 OR LESS', 'DAMAGE_$501 - $1,500', 'DAMAGE_OVER $1,500', 'STREET_DIRECTION_E', 'STREET_DIRECTION_N', 'STREET_DIRECTION_S', 'STREET_DIRECTION_W', 'STREET_TYPE_AVE', 'STREET_TYPE_CT', 'STREET_TYPE_Other', 'STREET_TYPE_PL', 'STREET_TYPE_RD', 'STREET_TYPE_SB', 'STREET_TYPE_W', 'LANE_TYPE_intersection', 'LANE_TYPE_large', 'LANE_TYPE_medium', 'LANE_TYPE_small'] ['POSTED_SPEED_LIMIT', 'HIT_AND_RUN_I', 'BEAT_OF_OCCURRENCE', 'NUM_UNITS', 'INJURIES_TOTAL', 'INJURIES_FATAL', 'INJURIES_NON_INCAPACITATING', 'INJURIES_NO_INDICATION', 'CRASH_HOUR', 'CRASH_DAY_OF_WEEK', 'CRASH_MONTH', 'LATITUDE', 'LONGITUDE', 'TRAFFIC_CONTROL_PRESENT', 'STRAIGHT_ROAD', 'TIME_BEFORE_NOTIFICATION', 'TOTAL_PEOPLE_INVOLVED', 'DRY_ROAD', 'CLEAR_WEATHER', 'TRAFFIC_CONTROL_DEVICE_STOP SIGN/FLASHER', 'TRAFFIC_CONTROL_DEVICE_TRAFFIC SIGNAL', 'DEVICE_CONDITION_FUNCTIONING PROPERLY', 'DEVICE_CONDITION_NO CONTROLS', 'WEATHER_CONDITION_CLOUDY/OVERCAST', 'WEATHER_CONDITION_OTHER', 'WEATHER_CONDITION_RAIN', 'WEATHER_CONDITION_SNOW', 'WEATHER_CONDITION_UNKNOWN', 'LIGHTING_CONDITION_DARKNESS', 'LIGHTING_CONDITION_DARKNESS, LIGHTED ROAD', 'LIGHTING_CONDITION_DAYLIGHT', 'FIRST_CRASH_TYPE_ANGLE', 'FIRST_CRASH_TYPE_ANIMAL', 'FIRST_CRASH_TYPE_FIXED OBJECT', 'FIRST_CRASH_TYPE_OTHER NONCOLLISION', 'FIRST_CRASH_TYPE_PARKED MOTOR VEHICLE', 'FIRST_CRASH_TYPE_PEDALCYCLIST', 'FIRST_CRASH_TYPE_REAR END', 'FIRST_CRASH_TYPE_SIDESWIPE SAME DIRECTION', 'FIRST_CRASH_TYPE_TURNING', 'TRAFFICWAY_TYPE_ALLEY', 'TRAFFICWAY_TYPE_DIVIDED - W/MEDIAN (NOT RAISED)', 'TRAFFICWAY_TYPE_DIVIDED - W/MEDIAN BARRIER', 'TRAFFICWAY_TYPE_FOUR WAY', 'TRAFFICWAY_TYPE_NOT DIVIDED', 'TRAFFICWAY_TYPE_ONE-WAY', 'TRAFFICWAY_TYPE_OTHER', 'TRAFFICWAY_TYPE_PARKING LOT', 'ROADWAY_SURFACE_COND_SNOW OR SLUSH', 'ROADWAY_SURFACE_COND_UNKNOWN', 'ROADWAY_SURFACE_COND_WET', 'ROAD_DEFECT_NO DEFECTS', 'ROAD_DEFECT_OTHER', 'ROAD_DEFECT_RUT, HOLES', 'ROAD_DEFECT_UNKNOWN', 'ROAD_DEFECT_WORN SURFACE', 'REPORT_TYPE_NOT ON SCENE (DESK REPORT)', 'REPORT_TYPE_ON SCENE', 'CRASH_TYPE_INJURY AND / OR TOW DUE TO CRASH', 'CRASH_TYPE_NO INJURY / DRIVE AWAY', 'DAMAGE_$500 OR LESS', 'DAMAGE_$501 - $1,500', 'DAMAGE_OVER $1,500', 'STREET_DIRECTION_E', 'STREET_DIRECTION_N', 'STREET_DIRECTION_S', 'STREET_DIRECTION_W', 'STREET_TYPE_AVE', 'STREET_TYPE_BLVD', 'STREET_TYPE_DR', 'STREET_TYPE_RD', 'STREET_TYPE_ST', 'LANE_TYPE_large', 'LANE_TYPE_medium', 'LANE_TYPE_small']\nexpected FIRST_CRASH_TYPE_HEAD ON, LIGHTING_CONDITION_DUSK, FIRST_CRASH_TYPE_REAR TO SIDE, FIRST_CRASH_TYPE_TRAIN, DEVICE_CONDITION_FUNCTIONING IMPROPERLY, ROAD_DEFECT_DEBRIS ON ROADWAY, WEATHER_CONDITION_CLEAR, INJURIES_INCAPACITATING, TRAFFICWAY_TYPE_NOT REPORTED, ROADWAY_SURFACE_COND_DRY, FIRST_CRASH_TYPE_SIDESWIPE OPPOSITE DIRECTION, STREET_TYPE_Other, FIRST_CRASH_TYPE_PEDESTRIAN, LIGHTING_CONDITION_UNKNOWN, STREET_TYPE_SB, LIGHTING_CONDITION_DAWN, LEVEL_ROAD, ROAD_DEFECT_SHOULDER DEFECT, WEATHER_CONDITION_FREEZING RAIN/DRIZZLE, TRAFFICWAY_TYPE_CENTER TURN LANE, WEATHER_CONDITION_SEVERE CROSS WIND GATE, STREET_TYPE_W, ROADWAY_SURFACE_COND_ICE, STREET_TYPE_PL, TRAFFIC_CONTROL_DEVICE_FLASHING CONTROL SIGNAL, WEATHER_CONDITION_SLEET/HAIL, FIRST_CRASH_TYPE_REAR TO REAR, STREET_TYPE_CT, TRAFFIC_CONTROL_DEVICE_NO PASSING, INJURIES_REPORTED_NOT_EVIDENT, LANE_TYPE_intersection, ROADWAY_SURFACE_COND_SAND, MUD, DIRT, FIRST_CRASH_TYPE_OVERTURNED, DEVICE_CONDITION_MISSING, TRAFFICWAY_TYPE_L-INTERSECTION, TRAFFIC_CONTROL_DEVICE_SCHOOL ZONE in input data\ntraining data did not have the following fields: TRAFFIC_CONTROL_DEVICE_TRAFFIC SIGNAL, TRAFFICWAY_TYPE_PARKING LOT, DEVICE_CONDITION_NO CONTROLS, WEATHER_CONDITION_SNOW, FIRST_CRASH_TYPE_SIDESWIPE SAME DIRECTION, DEVICE_CONDITION_FUNCTIONING PROPERLY, STREET_TYPE_DR, STREET_TYPE_BLVD, TRAFFICWAY_TYPE_DIVIDED - W/MEDIAN BARRIER, STREET_TYPE_ST, FIRST_CRASH_TYPE_REAR END, TRAFFICWAY_TYPE_FOUR WAY, TRAFFICWAY_TYPE_NOT DIVIDED"
     ]
    }
   ],
   "source": [
    "plot_confusion_matrix(clf, X_test, y_test, normalize='true')"
   ]
  },
  {
   "cell_type": "markdown",
   "metadata": {},
   "source": [
    "### Let's attempt some classification for our subset of causes"
   ]
  },
  {
   "cell_type": "code",
   "execution_count": 89,
   "metadata": {
    "ExecuteTime": {
     "end_time": "2020-07-09T00:03:52.901573Z",
     "start_time": "2020-07-09T00:03:52.831637Z"
    }
   },
   "outputs": [],
   "source": [
    "subset = Crash[Crash['DRIVER_ERROR'] == 0]"
   ]
  },
  {
   "cell_type": "code",
   "execution_count": 131,
   "metadata": {
    "ExecuteTime": {
     "end_time": "2020-07-09T11:29:56.167839Z",
     "start_time": "2020-07-09T11:29:56.164367Z"
    }
   },
   "outputs": [
    {
     "data": {
      "text/plain": [
       "(17721, 44)"
      ]
     },
     "execution_count": 131,
     "metadata": {},
     "output_type": "execute_result"
    }
   ],
   "source": [
    "subset.shape"
   ]
  },
  {
   "cell_type": "markdown",
   "metadata": {},
   "source": [
    "After subsetting our data, we can see that we have a much smaller portion to work with. Let's hope this won't be too detrimental to our resutls."
   ]
  },
  {
   "cell_type": "code",
   "execution_count": 132,
   "metadata": {
    "ExecuteTime": {
     "end_time": "2020-07-09T11:29:57.564079Z",
     "start_time": "2020-07-09T11:29:57.556638Z"
    }
   },
   "outputs": [],
   "source": [
    "sub_y = subset['MAIN_CAUSE']\n",
    "sub_X = subset.drop(columns=['CRASH_RECORD_ID', 'RD_NO', 'PRIM_CONTRIBUTORY_CAUSE', 'SEC_CONTRIBUTORY_CAUSE', \n",
    "                         'STREET_NO', 'STREET_NAME', 'MAIN_CAUSE', 'DRIVER_ERROR'],\n",
    "                   axis = 1)"
   ]
  },
  {
   "cell_type": "code",
   "execution_count": 133,
   "metadata": {
    "ExecuteTime": {
     "end_time": "2020-07-09T11:29:58.991567Z",
     "start_time": "2020-07-09T11:29:58.954862Z"
    }
   },
   "outputs": [],
   "source": [
    "\n",
    "sub_dummies = pd.get_dummies(sub_X)"
   ]
  },
  {
   "cell_type": "code",
   "execution_count": 140,
   "metadata": {
    "ExecuteTime": {
     "end_time": "2020-07-09T11:34:36.739603Z",
     "start_time": "2020-07-09T11:34:36.728691Z"
    }
   },
   "outputs": [],
   "source": [
    "X_train, X_test, y_train, y_test = train_test_split(sub_dummies, sub_y, test_size=0.3)"
   ]
  },
  {
   "cell_type": "code",
   "execution_count": 141,
   "metadata": {
    "ExecuteTime": {
     "end_time": "2020-07-09T11:34:38.439890Z",
     "start_time": "2020-07-09T11:34:38.031187Z"
    }
   },
   "outputs": [],
   "source": [
    "X_train_resampled, y_train_resampled = smote.fit_sample(X_train, y_train)"
   ]
  },
  {
   "cell_type": "code",
   "execution_count": 136,
   "metadata": {
    "ExecuteTime": {
     "end_time": "2020-07-09T11:30:07.932956Z",
     "start_time": "2020-07-09T11:30:01.904574Z"
    }
   },
   "outputs": [],
   "source": [
    "xgboost.fit(X_train_resampled, y_train_resampled)\n",
    "preds = xgboost.predict(X_test)"
   ]
  },
  {
   "cell_type": "code",
   "execution_count": 137,
   "metadata": {
    "ExecuteTime": {
     "end_time": "2020-07-09T11:30:09.109468Z",
     "start_time": "2020-07-09T11:30:09.036556Z"
    }
   },
   "outputs": [
    {
     "name": "stdout",
     "output_type": "stream",
     "text": [
      "Precision Score: 0.5507460801859475\n",
      "Recall Score: 0.5511962606102159\n",
      "Accuracy Score: 0.6054165883016739\n",
      "F1 Score: 0.5476494323884702\n"
     ]
    }
   ],
   "source": [
    "print_metrics(y_test, preds)"
   ]
  },
  {
   "cell_type": "code",
   "execution_count": 97,
   "metadata": {
    "ExecuteTime": {
     "end_time": "2020-07-09T00:09:38.336730Z",
     "start_time": "2020-07-09T00:09:38.090219Z"
    }
   },
   "outputs": [
    {
     "data": {
      "image/png": "[encoded data removed]",
      "text/plain": [
       "<Figure size 432x288 with 2 Axes>"
      ]
     },
     "metadata": {
      "needs_background": "light"
     },
     "output_type": "display_data"
    }
   ],
   "source": [
    "plot_confusion_matrix(xgboost, X_test, y_test)\n",
    "plt.show()"
   ]
  },
  {
   "cell_type": "code",
   "execution_count": 98,
   "metadata": {
    "ExecuteTime": {
     "end_time": "2020-07-09T00:20:07.445140Z",
     "start_time": "2020-07-09T00:20:07.415875Z"
    }
   },
   "outputs": [
    {
     "name": "stdout",
     "output_type": "stream",
     "text": [
      "[0.0031112  0.02517951 0.00277174 0.01194896 0.00507782 0.00257143\n",
      " 0.00332687 0.0035547  0.00244062 0.00490257 0.00508582 0.00269149\n",
      " 0.00370967 0.00360974 0.00213158 0.0104108  0.00178694 0.00287713\n",
      " 0.00960165 0.02634545 0.14416689 0.01053061 0.         0.\n",
      " 0.         0.         0.         0.00203453 0.         0.\n",
      " 0.00428531 0.         0.         0.         0.         0.\n",
      " 0.00091806 0.00697301 0.00041449 0.         0.         0.00352617\n",
      " 0.         0.00929109 0.         0.         0.         0.\n",
      " 0.         0.         0.0032998  0.         0.         0.00317798\n",
      " 0.0363886  0.0036226  0.00338828 0.04411911 0.         0.004742\n",
      " 0.02636118 0.         0.10144076 0.00410191 0.         0.0063769\n",
      " 0.01590135 0.00736405 0.00436151 0.00402548 0.00300482 0.\n",
      " 0.01467068 0.00404078 0.00591755 0.05296582 0.         0.\n",
      " 0.         0.0063405  0.00702608 0.         0.00293441 0.\n",
      " 0.         0.00493157 0.00738044 0.00104819 0.         0.00110551\n",
      " 0.         0.0035694  0.         0.0007876  0.00133387 0.00165807\n",
      " 0.         0.         0.         0.         0.00092474 0.\n",
      " 0.         0.         0.02451984 0.00289569 0.         0.02919304\n",
      " 0.0146718  0.01814771 0.00407071 0.00623699 0.01416135 0.0375304\n",
      " 0.         0.00723387 0.00229765 0.01092945 0.00985912 0.0092905\n",
      " 0.0405019  0.00944665 0.00422391 0.00715008 0.         0.00511728\n",
      " 0.00696647 0.00830021 0.00209792 0.00139806 0.         0.\n",
      " 0.00050173 0.         0.         0.         0.00265787 0.\n",
      " 0.         0.         0.00357951 0.00165261 0.         0.\n",
      " 0.         0.00778606 0.00399427]\n"
     ]
    }
   ],
   "source": [
    "print(xgboost.feature_importances_)"
   ]
  },
  {
   "cell_type": "code",
   "execution_count": 99,
   "metadata": {
    "ExecuteTime": {
     "end_time": "2020-07-09T00:20:59.515209Z",
     "start_time": "2020-07-09T00:20:59.486440Z"
    }
   },
   "outputs": [],
   "source": [
    "col_to_drop = []\n",
    "for col in zip(sub_dummies.columns, xgboost.feature_importances_):\n",
    "    if col[1] == 0:\n",
    "        col_to_drop.append(col[0])"
   ]
  },
  {
   "cell_type": "code",
   "execution_count": 100,
   "metadata": {
    "ExecuteTime": {
     "end_time": "2020-07-09T00:21:04.152808Z",
     "start_time": "2020-07-09T00:21:04.148840Z"
    }
   },
   "outputs": [
    {
     "data": {
      "text/plain": [
       "['TRAFFIC_CONTROL_DEVICE_DELINEATORS',\n",
       " 'TRAFFIC_CONTROL_DEVICE_FLASHING CONTROL SIGNAL',\n",
       " 'TRAFFIC_CONTROL_DEVICE_LANE USE MARKING',\n",
       " 'TRAFFIC_CONTROL_DEVICE_NO CONTROLS',\n",
       " 'TRAFFIC_CONTROL_DEVICE_NO PASSING',\n",
       " 'TRAFFIC_CONTROL_DEVICE_OTHER RAILROAD CROSSING',\n",
       " 'TRAFFIC_CONTROL_DEVICE_OTHER REG. SIGN',\n",
       " 'TRAFFIC_CONTROL_DEVICE_PEDESTRIAN CROSSING SIGN',\n",
       " 'TRAFFIC_CONTROL_DEVICE_POLICE/FLAGMAN',\n",
       " 'TRAFFIC_CONTROL_DEVICE_RAILROAD CROSSING GATE',\n",
       " 'TRAFFIC_CONTROL_DEVICE_RR CROSSING SIGN',\n",
       " 'TRAFFIC_CONTROL_DEVICE_SCHOOL ZONE',\n",
       " 'TRAFFIC_CONTROL_DEVICE_YIELD',\n",
       " 'DEVICE_CONDITION_FUNCTIONING IMPROPERLY',\n",
       " 'DEVICE_CONDITION_MISSING',\n",
       " 'DEVICE_CONDITION_NOT FUNCTIONING',\n",
       " 'DEVICE_CONDITION_OTHER',\n",
       " 'DEVICE_CONDITION_UNKNOWN',\n",
       " 'DEVICE_CONDITION_WORN REFLECTIVE MATERIAL',\n",
       " 'WEATHER_CONDITION_BLOWING SNOW',\n",
       " 'WEATHER_CONDITION_CLEAR',\n",
       " 'WEATHER_CONDITION_FOG/SMOKE/HAZE',\n",
       " 'WEATHER_CONDITION_FREEZING RAIN/DRIZZLE',\n",
       " 'WEATHER_CONDITION_UNKNOWN',\n",
       " 'LIGHTING_CONDITION_DAWN',\n",
       " 'LIGHTING_CONDITION_UNKNOWN',\n",
       " 'FIRST_CRASH_TYPE_OVERTURNED',\n",
       " 'FIRST_CRASH_TYPE_REAR TO FRONT',\n",
       " 'FIRST_CRASH_TYPE_REAR TO REAR',\n",
       " 'FIRST_CRASH_TYPE_REAR TO SIDE',\n",
       " 'FIRST_CRASH_TYPE_TRAIN',\n",
       " 'TRAFFICWAY_TYPE_ALLEY',\n",
       " 'TRAFFICWAY_TYPE_CENTER TURN LANE',\n",
       " 'TRAFFICWAY_TYPE_FIVE POINT, OR MORE',\n",
       " 'TRAFFICWAY_TYPE_L-INTERSECTION',\n",
       " 'TRAFFICWAY_TYPE_NOT REPORTED',\n",
       " 'TRAFFICWAY_TYPE_RAMP',\n",
       " 'TRAFFICWAY_TYPE_ROUNDABOUT',\n",
       " 'TRAFFICWAY_TYPE_T-INTERSECTION',\n",
       " 'TRAFFICWAY_TYPE_TRAFFIC ROUTE',\n",
       " 'TRAFFICWAY_TYPE_UNKNOWN INTERSECTION TYPE',\n",
       " 'TRAFFICWAY_TYPE_Y-INTERSECTION',\n",
       " 'ROADWAY_SURFACE_COND_DRY',\n",
       " 'ROADWAY_SURFACE_COND_SAND, MUD, DIRT',\n",
       " 'ROAD_DEFECT_SHOULDER DEFECT',\n",
       " 'STREET_DIRECTION_E',\n",
       " 'STREET_TYPE_BROADWAY',\n",
       " 'STREET_TYPE_CT',\n",
       " 'STREET_TYPE_E',\n",
       " 'STREET_TYPE_HWY',\n",
       " 'STREET_TYPE_NB',\n",
       " 'STREET_TYPE_PKWY',\n",
       " 'STREET_TYPE_PL',\n",
       " 'STREET_TYPE_RD',\n",
       " 'STREET_TYPE_W',\n",
       " 'LANE_TYPE_intersection',\n",
       " 'LANE_TYPE_large']"
      ]
     },
     "execution_count": 100,
     "metadata": {},
     "output_type": "execute_result"
    }
   ],
   "source": [
    "col_to_drop"
   ]
  },
  {
   "cell_type": "code",
   "execution_count": 139,
   "metadata": {
    "ExecuteTime": {
     "end_time": "2020-07-09T11:34:03.438666Z",
     "start_time": "2020-07-09T11:34:03.430730Z"
    }
   },
   "outputs": [],
   "source": [
    "sub_dummies.drop(columns=col_to_drop, axis=1, inplace=True)"
   ]
  },
  {
   "cell_type": "code",
   "execution_count": 102,
   "metadata": {
    "ExecuteTime": {
     "end_time": "2020-07-09T00:38:06.296988Z",
     "start_time": "2020-07-09T00:38:06.294012Z"
    }
   },
   "outputs": [],
   "source": [
    "# Let's see what we get by trying out a few different params\n",
    "params = {'max_depth': [2, 3, 4], \n",
    "          'learning_rate' : [.05, .1, .5],\n",
    "          'n_estimators' : [100, 200, 500],\n",
    "          'reg_alpha': [0, 1, 5, 10]}"
   ]
  },
  {
   "cell_type": "code",
   "execution_count": 121,
   "metadata": {
    "ExecuteTime": {
     "end_time": "2020-07-09T00:55:21.290542Z",
     "start_time": "2020-07-09T00:55:21.287070Z"
    }
   },
   "outputs": [],
   "source": [
    "clf = GridSearchCV(xgboost, params)"
   ]
  },
  {
   "cell_type": "code",
   "execution_count": 122,
   "metadata": {
    "ExecuteTime": {
     "end_time": "2020-07-09T02:15:59.626656Z",
     "start_time": "2020-07-09T00:55:22.150606Z"
    }
   },
   "outputs": [
    {
     "data": {
      "text/plain": [
       "GridSearchCV(estimator=XGBClassifier(n_jobs=3, objective='multi:softprob'),\n",
       "             param_grid={'learning_rate': [0.05, 0.1, 0.5],\n",
       "                         'max_depth': [2, 3, 4],\n",
       "                         'n_estimators': [100, 200, 500],\n",
       "                         'reg_alpha': [0, 1, 5, 10]})"
      ]
     },
     "execution_count": 122,
     "metadata": {},
     "output_type": "execute_result"
    }
   ],
   "source": [
    "clf.fit(X_train_resampled, y_train_resampled)"
   ]
  },
  {
   "cell_type": "code",
   "execution_count": 144,
   "metadata": {
    "ExecuteTime": {
     "end_time": "2020-07-09T11:35:56.500849Z",
     "start_time": "2020-07-09T11:35:56.496882Z"
    }
   },
   "outputs": [
    {
     "data": {
      "text/plain": [
       "XGBClassifier(learning_rate=0.5, max_depth=4, n_estimators=500, n_jobs=3,\n",
       "              objective='multi:softprob', reg_alpha=1)"
      ]
     },
     "execution_count": 144,
     "metadata": {},
     "output_type": "execute_result"
    }
   ],
   "source": [
    "clf.best_estimator_"
   ]
  },
  {
   "cell_type": "code",
   "execution_count": 150,
   "metadata": {
    "ExecuteTime": {
     "end_time": "2020-07-09T12:06:15.762987Z",
     "start_time": "2020-07-09T12:06:15.759515Z"
    }
   },
   "outputs": [
    {
     "data": {
      "text/plain": [
       "(<function sklearn.metrics._scorer._passthrough_scorer(estimator, *args, **kwargs)>,\n",
       " 0.6512574173495338)"
      ]
     },
     "execution_count": 150,
     "metadata": {},
     "output_type": "execute_result"
    }
   ],
   "source": [
    "clf.scorer_, clf.best_score_"
   ]
  },
  {
   "cell_type": "code",
   "execution_count": 125,
   "metadata": {
    "ExecuteTime": {
     "end_time": "2020-07-09T11:16:10.539808Z",
     "start_time": "2020-07-09T11:16:10.140032Z"
    }
   },
   "outputs": [
    {
     "data": {
      "text/plain": [
       "<sklearn.metrics._plot.confusion_matrix.ConfusionMatrixDisplay at 0x2364100e518>"
      ]
     },
     "execution_count": 125,
     "metadata": {},
     "output_type": "execute_result"
    },
    {
     "data": {
      "image/png": "[encoded data removed]",
      "text/plain": [
       "<Figure size 432x288 with 2 Axes>"
      ]
     },
     "metadata": {
      "needs_background": "light"
     },
     "output_type": "display_data"
    }
   ],
   "source": [
    "plot_confusion_matrix(clf, X_test, y_test)"
   ]
  },
  {
   "cell_type": "code",
   "execution_count": 142,
   "metadata": {
    "ExecuteTime": {
     "end_time": "2020-07-09T11:34:43.930610Z",
     "start_time": "2020-07-09T11:34:43.639953Z"
    }
   },
   "outputs": [
    {
     "name": "stdout",
     "output_type": "stream",
     "text": [
      "Precision Score: 0.8597428464743958\n",
      "Recall Score: 0.8446378259531425\n",
      "Accuracy Score: 0.863080684596577\n",
      "F1 Score: 0.8515964379894394\n"
     ]
    }
   ],
   "source": [
    "sub_preds = clf.best_estimator_.predict(X_test)\n",
    "print_metrics(y_test, sub_preds)"
   ]
  },
  {
   "cell_type": "code",
   "execution_count": 127,
   "metadata": {
    "ExecuteTime": {
     "end_time": "2020-07-09T11:26:48.020199Z",
     "start_time": "2020-07-09T11:26:48.016728Z"
    }
   },
   "outputs": [],
   "source": [
    "param_test = xgb.XGBClassifier(n_jobs=4, learning_rate = .5, max_depth=4, n_estimators=500, reg_alpha=1)"
   ]
  },
  {
   "cell_type": "code",
   "execution_count": 128,
   "metadata": {
    "ExecuteTime": {
     "end_time": "2020-07-09T11:27:26.877327Z",
     "start_time": "2020-07-09T11:27:26.454736Z"
    }
   },
   "outputs": [],
   "source": [
    "X_train, X_test, y_train, y_test = train_test_split(sub_dummies, sub_y, test_size=0.3)\n",
    "X_train_resampled, y_train_resampled = smote.fit_sample(X_train, y_train)"
   ]
  },
  {
   "cell_type": "code",
   "execution_count": 129,
   "metadata": {
    "ExecuteTime": {
     "end_time": "2020-07-09T11:28:29.043473Z",
     "start_time": "2020-07-09T11:28:06.696695Z"
    }
   },
   "outputs": [],
   "source": [
    "param_test.fit(X_train_resampled, y_train_resampled)\n",
    "preds = param_test.predict(X_test)"
   ]
  },
  {
   "cell_type": "code",
   "execution_count": 130,
   "metadata": {
    "ExecuteTime": {
     "end_time": "2020-07-09T11:28:58.595643Z",
     "start_time": "2020-07-09T11:28:58.513803Z"
    }
   },
   "outputs": [
    {
     "name": "stdout",
     "output_type": "stream",
     "text": [
      "Precision Score: 0.5326242391284406\n",
      "Recall Score: 0.5243509623559104\n",
      "Accuracy Score: 0.5839759262742148\n",
      "F1 Score: 0.5267930109069184\n"
     ]
    }
   ],
   "source": [
    "print_metrics(y_test, preds)"
   ]
  },
  {
   "cell_type": "code",
   "execution_count": 149,
   "metadata": {
    "ExecuteTime": {
     "end_time": "2020-07-09T11:46:54.447189Z",
     "start_time": "2020-07-09T11:45:06.300364Z"
    }
   },
   "outputs": [
    {
     "data": {
      "text/plain": [
       "array([0.58025388, 0.58098194, 0.5976298 , 0.5778781 , 0.58295711])"
      ]
     },
     "execution_count": 149,
     "metadata": {},
     "output_type": "execute_result"
    }
   ],
   "source": [
    "cross_val_score(clf.best_estimator_, sub_dummies, sub_y, cv=kfold)"
   ]
  },
  {
   "cell_type": "code",
   "execution_count": null,
   "metadata": {},
   "outputs": [],
   "source": []
  },
  {
   "cell_type": "code",
   "execution_count": null,
   "metadata": {},
   "outputs": [],
   "source": []
  }
 ],
 "metadata": {
  "kernelspec": {
   "display_name": "Python [conda env:learn-env] *",
   "language": "python",
   "name": "conda-env-learn-env-py"
  },
  "language_info": {
   "codemirror_mode": {
    "name": "ipython",
    "version": 3
   },
   "file_extension": ".py",
   "mimetype": "text/x-python",
   "name": "python",
   "nbconvert_exporter": "python",
   "pygments_lexer": "ipython3",
   "version": "3.6.9"
  }
 },
 "nbformat": 4,
 "nbformat_minor": 2
}
